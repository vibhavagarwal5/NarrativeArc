{
 "cells": [
  {
   "cell_type": "code",
   "execution_count": 1,
   "metadata": {},
   "outputs": [
    {
     "name": "stderr",
     "output_type": "stream",
     "text": [
      "Using plaidml.keras.backend backend.\n"
     ]
    }
   ],
   "source": [
    "import numpy as np \n",
    "import pandas as pd \n",
    "import os\n",
    "os.environ['KERAS_BACKEND'] = \"plaidml.keras.backend\"\n",
    "\n",
    "from sklearn.feature_extraction.text import CountVectorizer\n",
    "from keras.preprocessing.text import Tokenizer\n",
    "from keras.preprocessing.sequence import pad_sequences\n",
    "from keras.models import Sequential\n",
    "from keras.layers import Dense, Embedding, LSTM ,Dropout ,CuDNNLSTM\n",
    "from sklearn.model_selection import train_test_split\n",
    "from keras.utils.np_utils import to_categorical\n",
    "from keras.models import load_model,model_from_json\n",
    "import re\n",
    "import keras\n",
    "import ast\n",
    "import seaborn as sn\n",
    "import matplotlib.pyplot as plt\n",
    "from sklearn.utils import shuffle\n",
    "import pickle\n",
    "from sklearn.metrics import confusion_matrix, classification_report\n",
    "import util\n",
    "import embeddings\n",
    "import ast"
   ]
  },
  {
   "cell_type": "code",
   "execution_count": 2,
   "metadata": {},
   "outputs": [],
   "source": [
    "df = pd.read_csv('./data/collections_all_old/collections_all_science_out-temp_lda.csv')"
   ]
  },
  {
   "cell_type": "code",
   "execution_count": 3,
   "metadata": {},
   "outputs": [],
   "source": [
    "df['lda_topics'] = df.lda_topics.apply(lambda x : [b for b in ast.literal_eval(x) ])\n",
    "df['avg_word_emb'] = df.Summarization.apply(lambda x: embeddings.get_doc_embedding_avg(x,100))\n",
    "df['doc_emb'] = df.Summarization.apply(lambda x: embeddings.get_Doc2vec_embedding(x,100))"
   ]
  },
  {
   "cell_type": "code",
   "execution_count": 4,
   "metadata": {},
   "outputs": [],
   "source": [
    "df_v = util.generate_valid_collections_df(util.generate_collections(df))"
   ]
  },
  {
   "cell_type": "code",
   "execution_count": 5,
   "metadata": {},
   "outputs": [],
   "source": [
    "df_iv = util.generate_random_collections_df(util.generate_random_collections(df,1500,5))"
   ]
  },
  {
   "cell_type": "code",
   "execution_count": 6,
   "metadata": {},
   "outputs": [
    {
     "name": "stdout",
     "output_type": "stream",
     "text": [
      "(1393, 10) (1500, 10)\n"
     ]
    }
   ],
   "source": [
    "print(df_v.shape,df_iv.shape)"
   ]
  },
  {
   "cell_type": "code",
   "execution_count": 7,
   "metadata": {},
   "outputs": [],
   "source": [
    "final = shuffle(pd.concat([df_v,df_iv],ignore_index=True),random_state = 2019)"
   ]
  },
  {
   "cell_type": "code",
   "execution_count": 8,
   "metadata": {},
   "outputs": [
    {
     "data": {
      "text/plain": [
       "(100,)"
      ]
     },
     "execution_count": 8,
     "metadata": {},
     "output_type": "execute_result"
    }
   ],
   "source": [
    "final.doc_embs.iloc[0][0].shape"
   ]
  },
  {
   "cell_type": "code",
   "execution_count": 9,
   "metadata": {},
   "outputs": [],
   "source": [
    "def prepare_data(df):\n",
    "    window_size = 5\n",
    "    frame = []\n",
    "    label = []\n",
    "    features = [\"avg_word_embs\", \"doc_embs\", \"lda_topicss\"]\n",
    "    for index,row in df.iterrows():\n",
    "        for i in range(0,len(row[\"lda_topicss\"]) - window_size + 1):\n",
    "            temp = []\n",
    "            data1 = []\n",
    "            data2 = []\n",
    "            data3 = []\n",
    "            data4 = []\n",
    "            data5 = []\n",
    "\n",
    "            for feature in features:\n",
    "                data1.append(row[feature][i])\n",
    "                data2.append(row[feature][i+1])\n",
    "                data3.append(row[feature][i+2])\n",
    "                data4.append(row[feature][i+3])\n",
    "                data5.append(row[feature][i+4])\n",
    "            \n",
    "            data1 = [item for sublist in data1 for item in sublist]\n",
    "            data2 = [item for sublist in data2 for item in sublist]\n",
    "            data3 = [item for sublist in data3 for item in sublist]\n",
    "            data4 = [item for sublist in data4 for item in sublist]\n",
    "            data5 = [item for sublist in data5 for item in sublist]\n",
    "            \n",
    "            temp.append(data1)\n",
    "            temp.append(data2)                \n",
    "            temp.append(data3)                \n",
    "            temp.append(data4)                \n",
    "            temp.append(data5)                \n",
    "            frame.append(temp) \n",
    "            label.append(row[\"label\"])\n",
    "    return np.array(frame),np.array(label)"
   ]
  },
  {
   "cell_type": "code",
   "execution_count": 10,
   "metadata": {},
   "outputs": [],
   "source": [
    "X,y = prepare_data(final)"
   ]
  },
  {
   "cell_type": "code",
   "execution_count": 11,
   "metadata": {},
   "outputs": [],
   "source": [
    "X_train,X_test,Y_train,Y_test = train_test_split(X, y, test_size=0.30, random_state=2019)"
   ]
  },
  {
   "cell_type": "code",
   "execution_count": 12,
   "metadata": {},
   "outputs": [
    {
     "data": {
      "text/plain": [
       "((1798, 5, 220), (771, 5, 220))"
      ]
     },
     "execution_count": 12,
     "metadata": {},
     "output_type": "execute_result"
    }
   ],
   "source": [
    "X_train.shape,X_test.shape"
   ]
  },
  {
   "cell_type": "code",
   "execution_count": 44,
   "metadata": {},
   "outputs": [
    {
     "name": "stdout",
     "output_type": "stream",
     "text": [
      "_________________________________________________________________\n",
      "Layer (type)                 Output Shape              Param #   \n",
      "=================================================================\n",
      "lstm_15 (LSTM)               (None, 5, 128)            178688    \n",
      "_________________________________________________________________\n",
      "lstm_16 (LSTM)               (None, 128)               131584    \n",
      "_________________________________________________________________\n",
      "dense_20 (Dense)             (None, 32)                4128      \n",
      "_________________________________________________________________\n",
      "dropout_16 (Dropout)         (None, 32)                0         \n",
      "_________________________________________________________________\n",
      "dense_21 (Dense)             (None, 32)                1056      \n",
      "_________________________________________________________________\n",
      "dropout_17 (Dropout)         (None, 32)                0         \n",
      "_________________________________________________________________\n",
      "dense_22 (Dense)             (None, 16)                528       \n",
      "_________________________________________________________________\n",
      "dropout_18 (Dropout)         (None, 16)                0         \n",
      "_________________________________________________________________\n",
      "dense_23 (Dense)             (None, 2)                 34        \n",
      "=================================================================\n",
      "Total params: 316,018\n",
      "Trainable params: 316,018\n",
      "Non-trainable params: 0\n",
      "_________________________________________________________________\n",
      "None\n"
     ]
    }
   ],
   "source": [
    "model = Sequential()\n",
    "\n",
    "model.add(LSTM(\n",
    "    128,\n",
    "    input_shape=(X_train.shape[1:]),\n",
    "    activation='relu',\n",
    "    kernel_regularizer=keras.regularizers.l1_l2(l1=0.01, l2=0.01),\n",
    "    return_sequences = True))\n",
    "# model.add(Dropout(0.2))\n",
    "\n",
    "model.add(LSTM(128,activation='relu'))\n",
    "# model.add(Dropout(0.2))\n",
    "\n",
    "model.add(Dense(32,activation='relu'))\n",
    "model.add(Dropout(0.2))\n",
    "\n",
    "model.add(Dense(32,activation='relu'))\n",
    "model.add(Dropout(0.2))\n",
    "\n",
    "# model.add(Dense(16,activation='relu'))\n",
    "# model.add(Dropout(0.2))\n",
    "\n",
    "model.add(Dense(2,activation='softmax'))\n",
    "\n",
    "opt = keras.optimizers.Adam(lr=1e-4)\n",
    "loss = keras.losses.sparse_categorical_crossentropy\n",
    "model.compile(loss = loss, optimizer = opt, metrics=['accuracy'])\n",
    "print(model.summary())"
   ]
  },
  {
   "cell_type": "code",
   "execution_count": 45,
   "metadata": {
    "scrolled": true
   },
   "outputs": [
    {
     "name": "stdout",
     "output_type": "stream",
     "text": [
      "Train on 1798 samples, validate on 771 samples\n",
      "Epoch 1/100\n",
      "1798/1798 [==============================] - 1s 553us/step - loss: 53.0779 - acc: 0.5184 - val_loss: 51.2243 - val_acc: 0.6680\n",
      "Epoch 2/100\n",
      "1798/1798 [==============================] - 1s 439us/step - loss: 49.6390 - acc: 0.6435 - val_loss: 47.8531 - val_acc: 0.7393\n",
      "Epoch 3/100\n",
      "1798/1798 [==============================] - 1s 403us/step - loss: 46.3301 - acc: 0.6335 - val_loss: 44.6103 - val_acc: 0.7134\n",
      "Epoch 4/100\n",
      "1798/1798 [==============================] - 1s 401us/step - loss: 43.1470 - acc: 0.6546 - val_loss: 41.4932 - val_acc: 0.7263\n",
      "Epoch 5/100\n",
      "1798/1798 [==============================] - 1s 412us/step - loss: 40.0907 - acc: 0.6713 - val_loss: 38.5027 - val_acc: 0.7224\n",
      "Epoch 6/100\n",
      "1798/1798 [==============================] - 1s 404us/step - loss: 37.1621 - acc: 0.6669 - val_loss: 35.6357 - val_acc: 0.7250\n",
      "Epoch 7/100\n",
      "1798/1798 [==============================] - 1s 408us/step - loss: 34.3560 - acc: 0.6758 - val_loss: 32.8912 - val_acc: 0.7250\n",
      "Epoch 8/100\n",
      "1798/1798 [==============================] - 1s 401us/step - loss: 31.6703 - acc: 0.6780 - val_loss: 30.2689 - val_acc: 0.7328\n",
      "Epoch 9/100\n",
      "1798/1798 [==============================] - 1s 406us/step - loss: 29.1137 - acc: 0.6741 - val_loss: 27.7672 - val_acc: 0.7432\n",
      "Epoch 10/100\n",
      "1798/1798 [==============================] - 1s 410us/step - loss: 26.6716 - acc: 0.6841 - val_loss: 25.3888 - val_acc: 0.7419\n",
      "Epoch 11/100\n",
      "1798/1798 [==============================] - 1s 426us/step - loss: 24.3493 - acc: 0.6858 - val_loss: 23.1298 - val_acc: 0.7276\n",
      "Epoch 12/100\n",
      "1798/1798 [==============================] - 1s 495us/step - loss: 22.1523 - acc: 0.6891 - val_loss: 20.9871 - val_acc: 0.7406\n",
      "Epoch 13/100\n",
      "1798/1798 [==============================] - 1s 466us/step - loss: 20.0676 - acc: 0.6958 - val_loss: 18.9663 - val_acc: 0.7419\n",
      "Epoch 14/100\n",
      "1798/1798 [==============================] - 1s 418us/step - loss: 18.0960 - acc: 0.7097 - val_loss: 17.0605 - val_acc: 0.7445\n",
      "Epoch 15/100\n",
      "1798/1798 [==============================] - 1s 414us/step - loss: 16.2487 - acc: 0.7019 - val_loss: 15.2682 - val_acc: 0.7445\n",
      "Epoch 16/100\n",
      "1798/1798 [==============================] - 1s 401us/step - loss: 14.5139 - acc: 0.7086 - val_loss: 13.5924 - val_acc: 0.7406\n",
      "Epoch 17/100\n",
      "1798/1798 [==============================] - 1s 403us/step - loss: 12.8895 - acc: 0.7052 - val_loss: 12.0380 - val_acc: 0.7393\n",
      "Epoch 18/100\n",
      "1798/1798 [==============================] - 1s 395us/step - loss: 11.3806 - acc: 0.7152 - val_loss: 10.5821 - val_acc: 0.7445\n",
      "Epoch 19/100\n",
      "1798/1798 [==============================] - 1s 443us/step - loss: 9.9673 - acc: 0.7158 - val_loss: 9.2328 - val_acc: 0.7406\n",
      "Epoch 20/100\n",
      "1798/1798 [==============================] - 1s 476us/step - loss: 8.6713 - acc: 0.7113 - val_loss: 7.9829 - val_acc: 0.7445\n",
      "Epoch 21/100\n",
      "1798/1798 [==============================] - 1s 459us/step - loss: 7.4745 - acc: 0.7175 - val_loss: 6.8464 - val_acc: 0.7471\n",
      "Epoch 22/100\n",
      "1798/1798 [==============================] - 1s 446us/step - loss: 6.3830 - acc: 0.7119 - val_loss: 5.8138 - val_acc: 0.7432\n",
      "Epoch 23/100\n",
      "1798/1798 [==============================] - 1s 443us/step - loss: 5.3932 - acc: 0.7175 - val_loss: 4.8772 - val_acc: 0.7497\n",
      "Epoch 24/100\n",
      "1798/1798 [==============================] - 1s 437us/step - loss: 4.5198 - acc: 0.7119 - val_loss: 4.0726 - val_acc: 0.7250\n",
      "Epoch 25/100\n",
      "1798/1798 [==============================] - 1s 448us/step - loss: 3.7362 - acc: 0.7119 - val_loss: 3.3179 - val_acc: 0.7445\n",
      "Epoch 26/100\n",
      "1798/1798 [==============================] - 1s 428us/step - loss: 3.0545 - acc: 0.7119 - val_loss: 2.6775 - val_acc: 0.7523\n",
      "Epoch 27/100\n",
      "1798/1798 [==============================] - 1s 446us/step - loss: 2.4582 - acc: 0.7186 - val_loss: 2.1425 - val_acc: 0.7523\n",
      "Epoch 28/100\n",
      "1798/1798 [==============================] - 1s 449us/step - loss: 1.9555 - acc: 0.7230 - val_loss: 1.6821 - val_acc: 0.7562\n",
      "Epoch 29/100\n",
      "1798/1798 [==============================] - 1s 437us/step - loss: 1.5492 - acc: 0.7186 - val_loss: 1.3739 - val_acc: 0.7224\n",
      "Epoch 30/100\n",
      "1798/1798 [==============================] - 1s 446us/step - loss: 1.2289 - acc: 0.7197 - val_loss: 1.0518 - val_acc: 0.7523\n",
      "Epoch 31/100\n",
      "1798/1798 [==============================] - 1s 433us/step - loss: 1.0063 - acc: 0.7169 - val_loss: 0.9063 - val_acc: 0.7250\n",
      "Epoch 32/100\n",
      "1798/1798 [==============================] - 1s 447us/step - loss: 0.8576 - acc: 0.7164 - val_loss: 0.7714 - val_acc: 0.7613\n",
      "Epoch 33/100\n",
      "1798/1798 [==============================] - 1s 443us/step - loss: 0.8142 - acc: 0.7219 - val_loss: 0.7504 - val_acc: 0.7588\n",
      "Epoch 34/100\n",
      "1798/1798 [==============================] - 1s 430us/step - loss: 0.7812 - acc: 0.7241 - val_loss: 0.7289 - val_acc: 0.7497\n",
      "Epoch 35/100\n",
      "1798/1798 [==============================] - 1s 444us/step - loss: 0.7560 - acc: 0.7347 - val_loss: 0.7080 - val_acc: 0.7678\n",
      "Epoch 36/100\n",
      "1798/1798 [==============================] - 1s 432us/step - loss: 0.7569 - acc: 0.7191 - val_loss: 0.7350 - val_acc: 0.7289\n",
      "Epoch 37/100\n",
      "1798/1798 [==============================] - 1s 446us/step - loss: 0.7475 - acc: 0.7197 - val_loss: 0.6879 - val_acc: 0.7691\n",
      "Epoch 38/100\n",
      "1798/1798 [==============================] - 1s 441us/step - loss: 0.7326 - acc: 0.7291 - val_loss: 0.6903 - val_acc: 0.7445\n",
      "Epoch 39/100\n",
      "1798/1798 [==============================] - 1s 431us/step - loss: 0.7215 - acc: 0.7341 - val_loss: 0.6723 - val_acc: 0.7717\n",
      "Epoch 40/100\n",
      "1798/1798 [==============================] - 1s 453us/step - loss: 0.7056 - acc: 0.7380 - val_loss: 0.6768 - val_acc: 0.7536\n",
      "Epoch 41/100\n",
      "1798/1798 [==============================] - 1s 437us/step - loss: 0.7094 - acc: 0.7264 - val_loss: 0.6565 - val_acc: 0.7678\n",
      "Epoch 42/100\n",
      "1798/1798 [==============================] - 1s 449us/step - loss: 0.6926 - acc: 0.7358 - val_loss: 0.6518 - val_acc: 0.7743\n",
      "Epoch 43/100\n",
      "1798/1798 [==============================] - 1s 440us/step - loss: 0.6866 - acc: 0.7369 - val_loss: 0.6743 - val_acc: 0.7575\n",
      "Epoch 44/100\n",
      "1798/1798 [==============================] - 1s 431us/step - loss: 0.6857 - acc: 0.7430 - val_loss: 0.7307 - val_acc: 0.7302\n",
      "Epoch 45/100\n",
      "1798/1798 [==============================] - 1s 442us/step - loss: 0.7060 - acc: 0.7353 - val_loss: 0.6604 - val_acc: 0.7665\n",
      "Epoch 46/100\n",
      "1798/1798 [==============================] - 1s 434us/step - loss: 0.7029 - acc: 0.7297 - val_loss: 0.6398 - val_acc: 0.7665\n",
      "Epoch 47/100\n",
      "1798/1798 [==============================] - 1s 444us/step - loss: 0.6931 - acc: 0.7403 - val_loss: 0.6663 - val_acc: 0.7549\n",
      "Epoch 48/100\n",
      "1798/1798 [==============================] - 1s 441us/step - loss: 0.7235 - acc: 0.7164 - val_loss: 0.6960 - val_acc: 0.7263\n",
      "Epoch 49/100\n",
      "1798/1798 [==============================] - 1s 430us/step - loss: 0.6776 - acc: 0.7503 - val_loss: 0.6250 - val_acc: 0.7704\n",
      "Epoch 50/100\n",
      "1798/1798 [==============================] - 1s 446us/step - loss: 0.6631 - acc: 0.7475 - val_loss: 0.6166 - val_acc: 0.7847\n",
      "Epoch 51/100\n",
      "1798/1798 [==============================] - 1s 433us/step - loss: 0.6575 - acc: 0.7453 - val_loss: 0.6214 - val_acc: 0.7730\n",
      "Epoch 52/100\n",
      "1798/1798 [==============================] - 1s 446us/step - loss: 0.6585 - acc: 0.7503 - val_loss: 0.6827 - val_acc: 0.7510\n",
      "Epoch 53/100\n",
      "1798/1798 [==============================] - 1s 444us/step - loss: 0.6554 - acc: 0.7514 - val_loss: 0.6197 - val_acc: 0.7717\n",
      "Epoch 54/100\n",
      "1798/1798 [==============================] - 1s 429us/step - loss: 0.6434 - acc: 0.7586 - val_loss: 0.6125 - val_acc: 0.7756\n",
      "Epoch 55/100\n",
      "1798/1798 [==============================] - 1s 445us/step - loss: 0.6586 - acc: 0.7486 - val_loss: 0.6137 - val_acc: 0.7834\n",
      "Epoch 56/100\n",
      "1798/1798 [==============================] - 1s 436us/step - loss: 0.6497 - acc: 0.7519 - val_loss: 0.6145 - val_acc: 0.7743\n",
      "Epoch 57/100\n",
      "1798/1798 [==============================] - 1s 443us/step - loss: 0.6534 - acc: 0.7442 - val_loss: 0.6605 - val_acc: 0.7484\n",
      "Epoch 58/100\n",
      "1798/1798 [==============================] - 1s 444us/step - loss: 0.6445 - acc: 0.7625 - val_loss: 0.6208 - val_acc: 0.7717\n",
      "Epoch 59/100\n",
      "1798/1798 [==============================] - 1s 433us/step - loss: 0.6433 - acc: 0.7575 - val_loss: 0.5964 - val_acc: 0.7769\n"
     ]
    },
    {
     "name": "stdout",
     "output_type": "stream",
     "text": [
      "Epoch 60/100\n",
      "1798/1798 [==============================] - 1s 439us/step - loss: 0.6352 - acc: 0.7536 - val_loss: 0.5961 - val_acc: 0.7769\n",
      "Epoch 61/100\n",
      "1798/1798 [==============================] - 1s 433us/step - loss: 0.6343 - acc: 0.7564 - val_loss: 0.5968 - val_acc: 0.7808\n",
      "Epoch 62/100\n",
      "1798/1798 [==============================] - 1s 429us/step - loss: 0.6144 - acc: 0.7786 - val_loss: 0.5852 - val_acc: 0.7899\n",
      "Epoch 63/100\n",
      "1798/1798 [==============================] - 1s 442us/step - loss: 0.6175 - acc: 0.7759 - val_loss: 0.5769 - val_acc: 0.7925\n",
      "Epoch 64/100\n",
      "1798/1798 [==============================] - 1s 420us/step - loss: 0.6077 - acc: 0.7842 - val_loss: 0.6148 - val_acc: 0.7639\n",
      "Epoch 65/100\n",
      "1798/1798 [==============================] - 1s 441us/step - loss: 0.6373 - acc: 0.7653 - val_loss: 0.5806 - val_acc: 0.7951\n",
      "Epoch 66/100\n",
      "1798/1798 [==============================] - 1s 441us/step - loss: 0.6089 - acc: 0.7747 - val_loss: 0.5808 - val_acc: 0.7873\n",
      "Epoch 67/100\n",
      "1798/1798 [==============================] - 1s 425us/step - loss: 0.6129 - acc: 0.7714 - val_loss: 0.5776 - val_acc: 0.7899\n",
      "Epoch 68/100\n",
      "1798/1798 [==============================] - 1s 439us/step - loss: 0.6140 - acc: 0.7686 - val_loss: 0.5952 - val_acc: 0.7769\n",
      "Epoch 69/100\n",
      "1798/1798 [==============================] - 1s 418us/step - loss: 0.6422 - acc: 0.7531 - val_loss: 0.6215 - val_acc: 0.7691\n",
      "Epoch 70/100\n",
      "1798/1798 [==============================] - 1s 439us/step - loss: 0.6408 - acc: 0.7608 - val_loss: 0.5739 - val_acc: 0.7951\n",
      "Epoch 71/100\n",
      "1798/1798 [==============================] - 1s 442us/step - loss: 0.6141 - acc: 0.7703 - val_loss: 0.5725 - val_acc: 0.7899\n",
      "Epoch 72/100\n",
      "1798/1798 [==============================] - 1s 428us/step - loss: 0.6344 - acc: 0.7592 - val_loss: 0.5900 - val_acc: 0.7886\n",
      "Epoch 73/100\n",
      "1798/1798 [==============================] - 1s 447us/step - loss: 0.6210 - acc: 0.7747 - val_loss: 0.5893 - val_acc: 0.7964\n",
      "Epoch 74/100\n",
      "1798/1798 [==============================] - 1s 435us/step - loss: 0.5988 - acc: 0.7798 - val_loss: 0.5990 - val_acc: 0.7821\n",
      "Epoch 75/100\n",
      "1798/1798 [==============================] - 1s 451us/step - loss: 0.6006 - acc: 0.7759 - val_loss: 0.5771 - val_acc: 0.7834\n",
      "Epoch 76/100\n",
      "1798/1798 [==============================] - 1s 448us/step - loss: 0.5916 - acc: 0.7831 - val_loss: 0.5592 - val_acc: 0.7990\n",
      "Epoch 77/100\n",
      "1798/1798 [==============================] - 1s 438us/step - loss: 0.6015 - acc: 0.7753 - val_loss: 0.5666 - val_acc: 0.7938\n",
      "Epoch 78/100\n",
      "1798/1798 [==============================] - 1s 493us/step - loss: 0.5890 - acc: 0.7914 - val_loss: 0.5676 - val_acc: 0.7951\n",
      "Epoch 79/100\n",
      "1798/1798 [==============================] - 1s 410us/step - loss: 0.5864 - acc: 0.7875 - val_loss: 0.5557 - val_acc: 0.8016\n",
      "Epoch 80/100\n",
      "1798/1798 [==============================] - 1s 415us/step - loss: 0.5806 - acc: 0.7953 - val_loss: 0.5621 - val_acc: 0.8042\n",
      "Epoch 81/100\n",
      "1798/1798 [==============================] - 1s 403us/step - loss: 0.5909 - acc: 0.7742 - val_loss: 0.5775 - val_acc: 0.7925\n",
      "Epoch 82/100\n",
      "1798/1798 [==============================] - 1s 419us/step - loss: 0.5805 - acc: 0.7875 - val_loss: 0.5521 - val_acc: 0.8016\n",
      "Epoch 83/100\n",
      "1798/1798 [==============================] - 1s 398us/step - loss: 0.5925 - acc: 0.7892 - val_loss: 0.5598 - val_acc: 0.7977\n",
      "Epoch 84/100\n",
      "1798/1798 [==============================] - 1s 391us/step - loss: 0.6143 - acc: 0.7742 - val_loss: 0.5540 - val_acc: 0.8003\n",
      "Epoch 85/100\n",
      "1798/1798 [==============================] - 1s 409us/step - loss: 0.5935 - acc: 0.7809 - val_loss: 0.5537 - val_acc: 0.8054\n",
      "Epoch 86/100\n",
      "1798/1798 [==============================] - 1s 392us/step - loss: 0.5896 - acc: 0.7942 - val_loss: 0.5605 - val_acc: 0.7977\n",
      "Epoch 87/100\n",
      "1798/1798 [==============================] - 1s 391us/step - loss: 0.5674 - acc: 0.7948 - val_loss: 0.5890 - val_acc: 0.7821\n",
      "Epoch 88/100\n",
      "1798/1798 [==============================] - 1s 410us/step - loss: 0.6031 - acc: 0.7831 - val_loss: 0.5686 - val_acc: 0.8042\n",
      "Epoch 89/100\n",
      "1798/1798 [==============================] - 1s 409us/step - loss: 0.5975 - acc: 0.7775 - val_loss: 0.5643 - val_acc: 0.8042\n",
      "Epoch 90/100\n",
      "1798/1798 [==============================] - 1s 402us/step - loss: 0.5731 - acc: 0.7937 - val_loss: 0.5439 - val_acc: 0.8119\n",
      "Epoch 91/100\n",
      "1798/1798 [==============================] - 1s 408us/step - loss: 0.5708 - acc: 0.7959 - val_loss: 0.5456 - val_acc: 0.8093\n",
      "Epoch 92/100\n",
      "1798/1798 [==============================] - 1s 524us/step - loss: 0.5606 - acc: 0.8009 - val_loss: 0.5646 - val_acc: 0.7938\n",
      "Epoch 93/100\n",
      "1798/1798 [==============================] - 1s 463us/step - loss: 0.5804 - acc: 0.7970 - val_loss: 0.5501 - val_acc: 0.8042\n",
      "Epoch 94/100\n",
      "1798/1798 [==============================] - 1s 428us/step - loss: 0.5555 - acc: 0.8076 - val_loss: 0.5413 - val_acc: 0.8067\n",
      "Epoch 95/100\n",
      "1798/1798 [==============================] - 1s 409us/step - loss: 0.5611 - acc: 0.7987 - val_loss: 0.5627 - val_acc: 0.7964\n",
      "Epoch 96/100\n",
      "1798/1798 [==============================] - 1s 411us/step - loss: 0.5721 - acc: 0.7870 - val_loss: 0.5787 - val_acc: 0.7886\n",
      "Epoch 97/100\n",
      "1798/1798 [==============================] - 1s 397us/step - loss: 0.5642 - acc: 0.8020 - val_loss: 0.5637 - val_acc: 0.7938\n",
      "Epoch 98/100\n",
      "1798/1798 [==============================] - 1s 392us/step - loss: 0.5782 - acc: 0.7836 - val_loss: 0.5555 - val_acc: 0.7899\n",
      "Epoch 99/100\n",
      "1798/1798 [==============================] - 1s 390us/step - loss: 0.5560 - acc: 0.8003 - val_loss: 0.5547 - val_acc: 0.8003\n",
      "Epoch 100/100\n",
      "1798/1798 [==============================] - 1s 392us/step - loss: 0.5691 - acc: 0.7948 - val_loss: 0.5772 - val_acc: 0.7951\n"
     ]
    }
   ],
   "source": [
    "history = model.fit(\n",
    "    X_train,Y_train,\n",
    "    epochs = 100 , \n",
    "    validation_data = (X_test,Y_test),\n",
    "    batch_size = 64)"
   ]
  },
  {
   "cell_type": "code",
   "execution_count": 46,
   "metadata": {},
   "outputs": [
    {
     "data": {
      "image/png": "[encoded data removed]",
      "text/plain": [
       "<Figure size 432x288 with 1 Axes>"
      ]
     },
     "metadata": {
      "needs_background": "light"
     },
     "output_type": "display_data"
    },
    {
     "data": {
      "image/png": "[encoded data removed]",
      "text/plain": [
       "<Figure size 432x288 with 1 Axes>"
      ]
     },
     "metadata": {
      "needs_background": "light"
     },
     "output_type": "display_data"
    }
   ],
   "source": [
    "# summarize history for loss\n",
    "plt.plot(history.history['loss'])\n",
    "plt.plot(history.history['val_loss'])\n",
    "plt.title('model loss')\n",
    "plt.ylabel('loss')\n",
    "plt.xlabel('epoch')\n",
    "plt.legend(['train', 'test'], loc='upper left')\n",
    "plt.show()\n",
    "# summarize accuracy for loss\n",
    "plt.plot(history.history['acc'])\n",
    "plt.plot(history.history['val_acc'])\n",
    "plt.title('model accuracy')\n",
    "plt.ylabel('accuracy')\n",
    "plt.xlabel('epoch')\n",
    "plt.legend(['train', 'test'], loc='upper left')\n",
    "plt.show()"
   ]
  },
  {
   "cell_type": "code",
   "execution_count": 29,
   "metadata": {},
   "outputs": [],
   "source": [
    "model.save(\"./data/validator_model/ws5_13_new_best_no_ovf.h5\")"
   ]
  },
  {
   "cell_type": "code",
   "execution_count": 88,
   "metadata": {},
   "outputs": [],
   "source": [
    "with open(\"./data/validator_model/Validator_windowsize_5_archi7_new.json\", 'r') as f:\n",
    "    model_ = model_from_json(f.read())\n",
    "model_.load_weights('./data/validator_model/Validator_windowsize_5_weights7_new.h5')"
   ]
  },
  {
   "cell_type": "code",
   "execution_count": 144,
   "metadata": {},
   "outputs": [],
   "source": [
    "model_ = load_model('./data/validator_model/ws5_9_new_best.h5')"
   ]
  },
  {
   "cell_type": "code",
   "execution_count": 154,
   "metadata": {},
   "outputs": [
    {
     "data": {
      "text/plain": [
       "{'lr': 0.0010000000474974513,\n",
       " 'beta_1': 0.8999999761581421,\n",
       " 'beta_2': 0.9990000128746033,\n",
       " 'decay': 0.0,\n",
       " 'epsilon': 1e-07,\n",
       " 'amsgrad': False}"
      ]
     },
     "execution_count": 154,
     "metadata": {},
     "output_type": "execute_result"
    }
   ],
   "source": [
    "model_.optimizer.get_config()"
   ]
  },
  {
   "cell_type": "code",
   "execution_count": 145,
   "metadata": {},
   "outputs": [
    {
     "name": "stdout",
     "output_type": "stream",
     "text": [
      "_________________________________________________________________\n",
      "Layer (type)                 Output Shape              Param #   \n",
      "=================================================================\n",
      "lstm_39 (LSTM)               (None, 5, 128)            178688    \n",
      "_________________________________________________________________\n",
      "dropout_69 (Dropout)         (None, 5, 128)            0         \n",
      "_________________________________________________________________\n",
      "lstm_40 (LSTM)               (None, 128)               131584    \n",
      "_________________________________________________________________\n",
      "dropout_70 (Dropout)         (None, 128)               0         \n",
      "_________________________________________________________________\n",
      "dense_35 (Dense)             (None, 32)                4128      \n",
      "_________________________________________________________________\n",
      "dropout_71 (Dropout)         (None, 32)                0         \n",
      "_________________________________________________________________\n",
      "dense_36 (Dense)             (None, 32)                1056      \n",
      "_________________________________________________________________\n",
      "dropout_72 (Dropout)         (None, 32)                0         \n",
      "_________________________________________________________________\n",
      "dense_37 (Dense)             (None, 2)                 66        \n",
      "=================================================================\n",
      "Total params: 315,522\n",
      "Trainable params: 315,522\n",
      "Non-trainable params: 0\n",
      "_________________________________________________________________\n",
      "None\n"
     ]
    }
   ],
   "source": [
    "print(model_.summary())\n",
    "Y_pred = model_.predict_classes(X_test)"
   ]
  },
  {
   "cell_type": "code",
   "execution_count": 47,
   "metadata": {},
   "outputs": [],
   "source": [
    "Y_pred = model.predict_classes(X_test)"
   ]
  },
  {
   "cell_type": "code",
   "execution_count": 48,
   "metadata": {},
   "outputs": [
    {
     "name": "stdout",
     "output_type": "stream",
     "text": [
      "              precision    recall  f1-score   support\n",
      "\n",
      "           0       0.83      0.82      0.83       455\n",
      "           1       0.75      0.76      0.75       316\n",
      "\n",
      "   micro avg       0.80      0.80      0.80       771\n",
      "   macro avg       0.79      0.79      0.79       771\n",
      "weighted avg       0.80      0.80      0.80       771\n",
      "\n"
     ]
    },
    {
     "data": {
      "image/png": "[encoded data removed]",
      "text/plain": [
       "<Figure size 720x504 with 2 Axes>"
      ]
     },
     "metadata": {
      "needs_background": "light"
     },
     "output_type": "display_data"
    }
   ],
   "source": [
    "array = confusion_matrix(Y_test, Y_pred)\n",
    "df_cm = pd.DataFrame(array, index = [i for i in \"01\"],\n",
    "                  columns = [i for i in \"01\"])\n",
    "plt.figure(figsize = (10,7))\n",
    "sn.heatmap(df_cm, annot=True,fmt=\"d\")\n",
    "print(classification_report(Y_test, Y_pred))"
   ]
  },
  {
   "cell_type": "code",
   "execution_count": 49,
   "metadata": {},
   "outputs": [
    {
     "name": "stdout",
     "output_type": "stream",
     "text": [
      "771/771 [==============================] - 2s 3ms/step\n"
     ]
    },
    {
     "data": {
      "text/plain": [
       "[0.5771784012419704, 0.7950713360046753]"
      ]
     },
     "execution_count": 49,
     "metadata": {},
     "output_type": "execute_result"
    }
   ],
   "source": [
    "model.evaluate(X_test,Y_test)"
   ]
  },
  {
   "cell_type": "code",
   "execution_count": null,
   "metadata": {},
   "outputs": [],
   "source": []
  }
 ],
 "metadata": {
  "kernelspec": {
   "display_name": "Python 3",
   "language": "python",
   "name": "python3"
  },
  "language_info": {
   "codemirror_mode": {
    "name": "ipython",
    "version": 3
   },
   "file_extension": ".py",
   "mimetype": "text/x-python",
   "name": "python",
   "nbconvert_exporter": "python",
   "pygments_lexer": "ipython3",
   "version": "3.7.3"
  }
 },
 "nbformat": 4,
 "nbformat_minor": 2
}
