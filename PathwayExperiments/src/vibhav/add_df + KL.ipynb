{
 "cells": [
  {
   "cell_type": "code",
   "execution_count": 1,
   "metadata": {},
   "outputs": [],
   "source": [
    "import pandas as pd\n",
    "import numpy as np\n",
    "import matplotlib.pyplot as plt\n",
    "import os\n",
    "import re\n",
    "import util\n",
    "import random\n",
    "import ast"
   ]
  },
  {
   "cell_type": "code",
   "execution_count": 42,
   "metadata": {},
   "outputs": [],
   "source": [
    "df1 = pd.read_csv('./data/collections_all_science_out900.csv')\n",
    "df2 = pd.read_csv('./data/collections_all_science_out900-1000.csv')\n",
    "df3 = pd.read_csv('./data/collections_all_science_out1000-2500.csv')\n",
    "df4 = pd.read_csv('./data/collections_all_science_out2500-4000.csv')\n",
    "df5 = pd.read_csv('./data/collections_all_science_out4000-5000.csv')\n",
    "df6 = pd.read_csv('./data/collections_all_science_out5000-5500.csv')\n",
    "df7 = pd.read_csv('./data/collections_all_science_out5500-rest.csv')"
   ]
  },
  {
   "cell_type": "code",
   "execution_count": 43,
   "metadata": {},
   "outputs": [],
   "source": [
    "for i in [df1,df2,df3,df4,df5,df6,df7]:\n",
    "    i.rename(columns={'id':'resource_id'},inplace=True)"
   ]
  },
  {
   "cell_type": "code",
   "execution_count": 44,
   "metadata": {},
   "outputs": [],
   "source": [
    "df1 = df1.iloc[:900,:]\n",
    "df2 = df2.iloc[900:1000,:]\n",
    "df3 = df3.iloc[1000:2500,:]\n",
    "df4 = df4.iloc[2500:4000,:]\n",
    "df5 = df5.iloc[4000:5000,:]\n",
    "df6 = df6.iloc[5000:5500,:]\n",
    "df7 = df7.iloc[5500:,:]"
   ]
  },
  {
   "cell_type": "code",
   "execution_count": 45,
   "metadata": {},
   "outputs": [],
   "source": [
    "df = df1.append(df2.append(df3.append(df4.append(df5.append(df6.append(df7))))))"
   ]
  },
  {
   "cell_type": "code",
   "execution_count": 46,
   "metadata": {},
   "outputs": [],
   "source": [
    "df.description.fillna('', inplace=True)\n",
    "df.narration.fillna('', inplace=True)"
   ]
  },
  {
   "cell_type": "code",
   "execution_count": 47,
   "metadata": {},
   "outputs": [],
   "source": [
    "df.Summarisation.fillna(df.title + \". \" + df.description, inplace=True)"
   ]
  },
  {
   "cell_type": "code",
   "execution_count": 48,
   "metadata": {},
   "outputs": [
    {
     "data": {
      "text/plain": [
       "0"
      ]
     },
     "execution_count": 48,
     "metadata": {},
     "output_type": "execute_result"
    }
   ],
   "source": [
    "df.Summarisation.isna().sum()"
   ]
  },
  {
   "cell_type": "code",
   "execution_count": 49,
   "metadata": {},
   "outputs": [],
   "source": [
    "# df.Summarisation = df.Summarisation + ', ' + df.narration"
   ]
  },
  {
   "cell_type": "code",
   "execution_count": 52,
   "metadata": {},
   "outputs": [],
   "source": [
    "df.Summarization = df.apply(lambda x: x['Summarization'] + '. ' + x['narration']  if x['Summarization'][-1]!='.' else x['Summarization'] + x['narration'],axis=1)"
   ]
  },
  {
   "cell_type": "code",
   "execution_count": 116,
   "metadata": {},
   "outputs": [],
   "source": [
    "df.iloc[:,1:].to_csv('./data/collections_all_science_out.csv',index=False)"
   ]
  },
  {
   "cell_type": "code",
   "execution_count": null,
   "metadata": {},
   "outputs": [],
   "source": []
  },
  {
   "cell_type": "code",
   "execution_count": null,
   "metadata": {},
   "outputs": [],
   "source": []
  },
  {
   "cell_type": "code",
   "execution_count": 14,
   "metadata": {},
   "outputs": [],
   "source": [
    "df_lda = pd.read_csv('./data/collections_all_science_out-temp_lda.csv')"
   ]
  },
  {
   "cell_type": "code",
   "execution_count": 15,
   "metadata": {},
   "outputs": [],
   "source": [
    "df_lda.Summarization = df_lda.Summarization.apply(util.clean_html)"
   ]
  },
  {
   "cell_type": "code",
   "execution_count": 16,
   "metadata": {},
   "outputs": [],
   "source": [
    "collections = util.generate_collections(df_lda)"
   ]
  },
  {
   "cell_type": "code",
   "execution_count": 17,
   "metadata": {},
   "outputs": [],
   "source": [
    "rand_col = util.generate_random_collections(df_lda,5000,7)"
   ]
  },
  {
   "cell_type": "code",
   "execution_count": 18,
   "metadata": {},
   "outputs": [],
   "source": [
    "new_df = util.generate_pairs_df(collections)"
   ]
  },
  {
   "cell_type": "code",
   "execution_count": 19,
   "metadata": {},
   "outputs": [],
   "source": [
    "new_df_rand = util.generate_pairs_df(rand_col, True)"
   ]
  },
  {
   "cell_type": "code",
   "execution_count": 20,
   "metadata": {},
   "outputs": [],
   "source": [
    "def KL(a, b):\n",
    "    a = np.array(a)\n",
    "    b = np.array(b)\n",
    "    return np.sum(a * np.log(a/b))"
   ]
  },
  {
   "cell_type": "code",
   "execution_count": 21,
   "metadata": {},
   "outputs": [],
   "source": [
    "new_df['lda_topics1'] = new_df.lda_topics1.apply(lambda x : [b for _ ,b in ast.literal_eval(x) ])\n",
    "new_df['lda_topics2'] = new_df.lda_topics2.apply(lambda x : [b for _ ,b in ast.literal_eval(x) ])\n",
    "new_df_rand['lda_topics1'] = new_df_rand.lda_topics1.apply(lambda x : [b for _ ,b in ast.literal_eval(x) ])\n",
    "new_df_rand['lda_topics2'] = new_df_rand.lda_topics2.apply(lambda x : [b for _ ,b in ast.literal_eval(x) ])"
   ]
  },
  {
   "cell_type": "code",
   "execution_count": 22,
   "metadata": {},
   "outputs": [],
   "source": [
    "new_df['KL_div'] = new_df.apply(lambda x: KL(x['lda_topics1'],x['lda_topics2']),axis=1)\n",
    "new_df_rand['KL_div'] = new_df_rand.apply(lambda x: KL(x['lda_topics1'],x['lda_topics2']),axis=1)"
   ]
  },
  {
   "cell_type": "code",
   "execution_count": 23,
   "metadata": {},
   "outputs": [
    {
     "data": {
      "text/html": [
       "<div>\n",
       "<style scoped>\n",
       "    .dataframe tbody tr th:only-of-type {\n",
       "        vertical-align: middle;\n",
       "    }\n",
       "\n",
       "    .dataframe tbody tr th {\n",
       "        vertical-align: top;\n",
       "    }\n",
       "\n",
       "    .dataframe thead th {\n",
       "        text-align: right;\n",
       "    }\n",
       "</style>\n",
       "<table border=\"1\" class=\"dataframe\">\n",
       "  <thead>\n",
       "    <tr style=\"text-align: right;\">\n",
       "      <th></th>\n",
       "      <th>collection_id1</th>\n",
       "      <th>collection_id2</th>\n",
       "      <th>sequence_id1</th>\n",
       "      <th>sequence_id2</th>\n",
       "      <th>resource_id1</th>\n",
       "      <th>resource_id2</th>\n",
       "      <th>summarizations1</th>\n",
       "      <th>summarizations2</th>\n",
       "      <th>lda_topics1</th>\n",
       "      <th>lda_topics2</th>\n",
       "      <th>KL_div</th>\n",
       "    </tr>\n",
       "  </thead>\n",
       "  <tbody>\n",
       "    <tr>\n",
       "      <th>0</th>\n",
       "      <td>001ed871-f958-4f85-a638-6219d47b3935</td>\n",
       "      <td>001ed871-f958-4f85-a638-6219d47b3935</td>\n",
       "      <td>2</td>\n",
       "      <td>5</td>\n",
       "      <td>9dad3a1d-6f8b-4ef6-bc2c-b207d8d2ce1f</td>\n",
       "      <td>d796ed55-67db-41b6-ae29-1f55a51b8fb6</td>\n",
       "      <td>Atom FCNElement C, M WSChemical Rxn FCNChem an...</td>\n",
       "      <td>Each atom is composed of subatomic particles: ...</td>\n",
       "      <td>[0.0029411765, 0.0029411765, 0.0029411768, 0.0...</td>\n",
       "      <td>[0.00086206896, 0.00086206896, 0.00086206896, ...</td>\n",
       "      <td>9.829580e-01</td>\n",
       "    </tr>\n",
       "    <tr>\n",
       "      <th>1</th>\n",
       "      <td>001ed871-f958-4f85-a638-6219d47b3935</td>\n",
       "      <td>001ed871-f958-4f85-a638-6219d47b3935</td>\n",
       "      <td>5</td>\n",
       "      <td>8</td>\n",
       "      <td>d796ed55-67db-41b6-ae29-1f55a51b8fb6</td>\n",
       "      <td>15aad96a-9bb1-4039-ab5c-094a1027de29</td>\n",
       "      <td>Each atom is composed of subatomic particles: ...</td>\n",
       "      <td>Atoms Flashcards | Quizlet SearchCreateLog inS...</td>\n",
       "      <td>[0.00086206896, 0.00086206896, 0.00086206896, ...</td>\n",
       "      <td>[0.16006736, 0.00069444446, 0.00069444446, 0.4...</td>\n",
       "      <td>6.499525e+00</td>\n",
       "    </tr>\n",
       "    <tr>\n",
       "      <th>2</th>\n",
       "      <td>00413ae4-2088-4319-97b1-8216a4fee1e7</td>\n",
       "      <td>00413ae4-2088-4319-97b1-8216a4fee1e7</td>\n",
       "      <td>2</td>\n",
       "      <td>3</td>\n",
       "      <td>1da33e99-92df-406f-aabb-d6e20a4bdbb2</td>\n",
       "      <td>cf6df015-c58c-4236-aeb7-c6abf574eed0</td>\n",
       "      <td>Citizenship 2018Business of the Year Why Trust...</td>\n",
       "      <td>Many observations of real gases have shown tha...</td>\n",
       "      <td>[0.00031847137, 0.00031847137, 0.00031847137, ...</td>\n",
       "      <td>[0.00060975616, 0.00060975616, 0.00060975616, ...</td>\n",
       "      <td>6.853768e+00</td>\n",
       "    </tr>\n",
       "    <tr>\n",
       "      <th>3</th>\n",
       "      <td>00413ae4-2088-4319-97b1-8216a4fee1e7</td>\n",
       "      <td>00413ae4-2088-4319-97b1-8216a4fee1e7</td>\n",
       "      <td>3</td>\n",
       "      <td>4</td>\n",
       "      <td>cf6df015-c58c-4236-aeb7-c6abf574eed0</td>\n",
       "      <td>b4e5fdbd-f08a-4dad-8ef3-a671dffe5f22</td>\n",
       "      <td>Many observations of real gases have shown tha...</td>\n",
       "      <td>The internal energy of a system can also incre...</td>\n",
       "      <td>[0.00060975616, 0.00060975616, 0.00060975616, ...</td>\n",
       "      <td>[0.010950349, 0.00044247785, 0.00044247785, 0....</td>\n",
       "      <td>1.826314e+00</td>\n",
       "    </tr>\n",
       "    <tr>\n",
       "      <th>4</th>\n",
       "      <td>008fe8b8-abad-4f91-9aa9-184117b8fd44</td>\n",
       "      <td>008fe8b8-abad-4f91-9aa9-184117b8fd44</td>\n",
       "      <td>1</td>\n",
       "      <td>2</td>\n",
       "      <td>fa8ff713-e5b5-4174-916f-a8341f428a50</td>\n",
       "      <td>82a6fd6f-dd70-4eb3-826a-c8c36b04c875</td>\n",
       "      <td>Mitosis, Cell Biology Animation presents Mitos...</td>\n",
       "      <td>Meiosis, Cell Biology Animation presents Meios...</td>\n",
       "      <td>[0.0045454544, 0.0045454544, 0.0045454544, 0.0...</td>\n",
       "      <td>[0.0045454544, 0.0045454544, 0.0045454544, 0.0...</td>\n",
       "      <td>5.145259e-07</td>\n",
       "    </tr>\n",
       "  </tbody>\n",
       "</table>\n",
       "</div>"
      ],
      "text/plain": [
       "                         collection_id1                        collection_id2  \\\n",
       "0  001ed871-f958-4f85-a638-6219d47b3935  001ed871-f958-4f85-a638-6219d47b3935   \n",
       "1  001ed871-f958-4f85-a638-6219d47b3935  001ed871-f958-4f85-a638-6219d47b3935   \n",
       "2  00413ae4-2088-4319-97b1-8216a4fee1e7  00413ae4-2088-4319-97b1-8216a4fee1e7   \n",
       "3  00413ae4-2088-4319-97b1-8216a4fee1e7  00413ae4-2088-4319-97b1-8216a4fee1e7   \n",
       "4  008fe8b8-abad-4f91-9aa9-184117b8fd44  008fe8b8-abad-4f91-9aa9-184117b8fd44   \n",
       "\n",
       "   sequence_id1  sequence_id2                          resource_id1  \\\n",
       "0             2             5  9dad3a1d-6f8b-4ef6-bc2c-b207d8d2ce1f   \n",
       "1             5             8  d796ed55-67db-41b6-ae29-1f55a51b8fb6   \n",
       "2             2             3  1da33e99-92df-406f-aabb-d6e20a4bdbb2   \n",
       "3             3             4  cf6df015-c58c-4236-aeb7-c6abf574eed0   \n",
       "4             1             2  fa8ff713-e5b5-4174-916f-a8341f428a50   \n",
       "\n",
       "                           resource_id2  \\\n",
       "0  d796ed55-67db-41b6-ae29-1f55a51b8fb6   \n",
       "1  15aad96a-9bb1-4039-ab5c-094a1027de29   \n",
       "2  cf6df015-c58c-4236-aeb7-c6abf574eed0   \n",
       "3  b4e5fdbd-f08a-4dad-8ef3-a671dffe5f22   \n",
       "4  82a6fd6f-dd70-4eb3-826a-c8c36b04c875   \n",
       "\n",
       "                                     summarizations1  \\\n",
       "0  Atom FCNElement C, M WSChemical Rxn FCNChem an...   \n",
       "1  Each atom is composed of subatomic particles: ...   \n",
       "2  Citizenship 2018Business of the Year Why Trust...   \n",
       "3  Many observations of real gases have shown tha...   \n",
       "4  Mitosis, Cell Biology Animation presents Mitos...   \n",
       "\n",
       "                                     summarizations2  \\\n",
       "0  Each atom is composed of subatomic particles: ...   \n",
       "1  Atoms Flashcards | Quizlet SearchCreateLog inS...   \n",
       "2  Many observations of real gases have shown tha...   \n",
       "3  The internal energy of a system can also incre...   \n",
       "4  Meiosis, Cell Biology Animation presents Meios...   \n",
       "\n",
       "                                         lda_topics1  \\\n",
       "0  [0.0029411765, 0.0029411765, 0.0029411768, 0.0...   \n",
       "1  [0.00086206896, 0.00086206896, 0.00086206896, ...   \n",
       "2  [0.00031847137, 0.00031847137, 0.00031847137, ...   \n",
       "3  [0.00060975616, 0.00060975616, 0.00060975616, ...   \n",
       "4  [0.0045454544, 0.0045454544, 0.0045454544, 0.0...   \n",
       "\n",
       "                                         lda_topics2        KL_div  \n",
       "0  [0.00086206896, 0.00086206896, 0.00086206896, ...  9.829580e-01  \n",
       "1  [0.16006736, 0.00069444446, 0.00069444446, 0.4...  6.499525e+00  \n",
       "2  [0.00060975616, 0.00060975616, 0.00060975616, ...  6.853768e+00  \n",
       "3  [0.010950349, 0.00044247785, 0.00044247785, 0....  1.826314e+00  \n",
       "4  [0.0045454544, 0.0045454544, 0.0045454544, 0.0...  5.145259e-07  "
      ]
     },
     "execution_count": 23,
     "metadata": {},
     "output_type": "execute_result"
    }
   ],
   "source": [
    "new_df.head()"
   ]
  },
  {
   "cell_type": "code",
   "execution_count": 24,
   "metadata": {},
   "outputs": [
    {
     "data": {
      "text/html": [
       "<div>\n",
       "<style scoped>\n",
       "    .dataframe tbody tr th:only-of-type {\n",
       "        vertical-align: middle;\n",
       "    }\n",
       "\n",
       "    .dataframe tbody tr th {\n",
       "        vertical-align: top;\n",
       "    }\n",
       "\n",
       "    .dataframe thead th {\n",
       "        text-align: right;\n",
       "    }\n",
       "</style>\n",
       "<table border=\"1\" class=\"dataframe\">\n",
       "  <thead>\n",
       "    <tr style=\"text-align: right;\">\n",
       "      <th></th>\n",
       "      <th>collection_id1</th>\n",
       "      <th>collection_id2</th>\n",
       "      <th>sequence_id1</th>\n",
       "      <th>sequence_id2</th>\n",
       "      <th>resource_id1</th>\n",
       "      <th>resource_id2</th>\n",
       "      <th>summarizations1</th>\n",
       "      <th>summarizations2</th>\n",
       "      <th>lda_topics1</th>\n",
       "      <th>lda_topics2</th>\n",
       "      <th>KL_div</th>\n",
       "    </tr>\n",
       "  </thead>\n",
       "  <tbody>\n",
       "    <tr>\n",
       "      <th>0</th>\n",
       "      <td>ff156f31-0828-46fd-93d5-2c986acbba5b</td>\n",
       "      <td>575aafe8-cb49-4d7a-bc99-c28651649ea2</td>\n",
       "      <td>3</td>\n",
       "      <td>4</td>\n",
       "      <td>14c4e222-181e-47d2-a01d-afa448e9013f</td>\n",
       "      <td>383d0da0-ecfa-4bf4-8a75-b89f3fa5e696</td>\n",
       "      <td>To get the best deal on Tutoring, call 1-855-6...</td>\n",
       "      <td>Step 3, , This is step 3, used to identify the...</td>\n",
       "      <td>[0.07955908, 0.0003875969, 0.0003875969, 0.000...</td>\n",
       "      <td>[0.0055555557, 0.0055555557, 0.0055555557, 0.1...</td>\n",
       "      <td>4.306318</td>\n",
       "    </tr>\n",
       "    <tr>\n",
       "      <th>1</th>\n",
       "      <td>575aafe8-cb49-4d7a-bc99-c28651649ea2</td>\n",
       "      <td>38e338fd-d8d1-4b67-9c82-c3c90153c5d0</td>\n",
       "      <td>4</td>\n",
       "      <td>11</td>\n",
       "      <td>383d0da0-ecfa-4bf4-8a75-b89f3fa5e696</td>\n",
       "      <td>ca800b5e-03e1-4661-99be-c525dd14cb2f</td>\n",
       "      <td>Step 3, , This is step 3, used to identify the...</td>\n",
       "      <td>The set-upAre you aOfIf your purpose is to inf...</td>\n",
       "      <td>[0.0055555557, 0.0055555557, 0.0055555557, 0.1...</td>\n",
       "      <td>[0.0021739132, 0.0021739132, 0.0021739132, 0.5...</td>\n",
       "      <td>0.301591</td>\n",
       "    </tr>\n",
       "    <tr>\n",
       "      <th>2</th>\n",
       "      <td>38e338fd-d8d1-4b67-9c82-c3c90153c5d0</td>\n",
       "      <td>eaa67fdc-a106-449c-b2ab-4384315d8821</td>\n",
       "      <td>11</td>\n",
       "      <td>8</td>\n",
       "      <td>ca800b5e-03e1-4661-99be-c525dd14cb2f</td>\n",
       "      <td>0882bcbd-9746-4e28-a935-19a24b3f4f5f</td>\n",
       "      <td>The set-upAre you aOfIf your purpose is to inf...</td>\n",
       "      <td>There should be no draft.?A military draft (i....</td>\n",
       "      <td>[0.0021739132, 0.0021739132, 0.0021739132, 0.5...</td>\n",
       "      <td>[0.00051546394, 0.2579078, 0.00051546394, 0.03...</td>\n",
       "      <td>4.252306</td>\n",
       "    </tr>\n",
       "    <tr>\n",
       "      <th>3</th>\n",
       "      <td>eaa67fdc-a106-449c-b2ab-4384315d8821</td>\n",
       "      <td>e865d353-8d65-4981-bf2d-cf0610b6d350</td>\n",
       "      <td>8</td>\n",
       "      <td>3</td>\n",
       "      <td>0882bcbd-9746-4e28-a935-19a24b3f4f5f</td>\n",
       "      <td>c1d7c61d-a84b-4afa-86ac-418744215814</td>\n",
       "      <td>There should be no draft.?A military draft (i....</td>\n",
       "      <td>Step 4: Record you original temperature.How is...</td>\n",
       "      <td>[0.00051546394, 0.2579078, 0.00051546394, 0.03...</td>\n",
       "      <td>[0.0011904762, 0.0011904762, 0.0011904762, 0.0...</td>\n",
       "      <td>4.623076</td>\n",
       "    </tr>\n",
       "    <tr>\n",
       "      <th>4</th>\n",
       "      <td>e865d353-8d65-4981-bf2d-cf0610b6d350</td>\n",
       "      <td>28621707-c800-4283-8715-b0f2f09927b0</td>\n",
       "      <td>3</td>\n",
       "      <td>1</td>\n",
       "      <td>c1d7c61d-a84b-4afa-86ac-418744215814</td>\n",
       "      <td>f7aecbc8-5726-4f56-b713-e0c38296710a</td>\n",
       "      <td>Step 4: Record you original temperature.How is...</td>\n",
       "      <td>Answer: It's a document to the United States C...</td>\n",
       "      <td>[0.0011904762, 0.0011904762, 0.0011904762, 0.0...</td>\n",
       "      <td>[0.0005263158, 0.0005263158, 0.0005263158, 0.0...</td>\n",
       "      <td>3.369087</td>\n",
       "    </tr>\n",
       "  </tbody>\n",
       "</table>\n",
       "</div>"
      ],
      "text/plain": [
       "                         collection_id1                        collection_id2  \\\n",
       "0  ff156f31-0828-46fd-93d5-2c986acbba5b  575aafe8-cb49-4d7a-bc99-c28651649ea2   \n",
       "1  575aafe8-cb49-4d7a-bc99-c28651649ea2  38e338fd-d8d1-4b67-9c82-c3c90153c5d0   \n",
       "2  38e338fd-d8d1-4b67-9c82-c3c90153c5d0  eaa67fdc-a106-449c-b2ab-4384315d8821   \n",
       "3  eaa67fdc-a106-449c-b2ab-4384315d8821  e865d353-8d65-4981-bf2d-cf0610b6d350   \n",
       "4  e865d353-8d65-4981-bf2d-cf0610b6d350  28621707-c800-4283-8715-b0f2f09927b0   \n",
       "\n",
       "   sequence_id1  sequence_id2                          resource_id1  \\\n",
       "0             3             4  14c4e222-181e-47d2-a01d-afa448e9013f   \n",
       "1             4            11  383d0da0-ecfa-4bf4-8a75-b89f3fa5e696   \n",
       "2            11             8  ca800b5e-03e1-4661-99be-c525dd14cb2f   \n",
       "3             8             3  0882bcbd-9746-4e28-a935-19a24b3f4f5f   \n",
       "4             3             1  c1d7c61d-a84b-4afa-86ac-418744215814   \n",
       "\n",
       "                           resource_id2  \\\n",
       "0  383d0da0-ecfa-4bf4-8a75-b89f3fa5e696   \n",
       "1  ca800b5e-03e1-4661-99be-c525dd14cb2f   \n",
       "2  0882bcbd-9746-4e28-a935-19a24b3f4f5f   \n",
       "3  c1d7c61d-a84b-4afa-86ac-418744215814   \n",
       "4  f7aecbc8-5726-4f56-b713-e0c38296710a   \n",
       "\n",
       "                                     summarizations1  \\\n",
       "0  To get the best deal on Tutoring, call 1-855-6...   \n",
       "1  Step 3, , This is step 3, used to identify the...   \n",
       "2  The set-upAre you aOfIf your purpose is to inf...   \n",
       "3  There should be no draft.?A military draft (i....   \n",
       "4  Step 4: Record you original temperature.How is...   \n",
       "\n",
       "                                     summarizations2  \\\n",
       "0  Step 3, , This is step 3, used to identify the...   \n",
       "1  The set-upAre you aOfIf your purpose is to inf...   \n",
       "2  There should be no draft.?A military draft (i....   \n",
       "3  Step 4: Record you original temperature.How is...   \n",
       "4  Answer: It's a document to the United States C...   \n",
       "\n",
       "                                         lda_topics1  \\\n",
       "0  [0.07955908, 0.0003875969, 0.0003875969, 0.000...   \n",
       "1  [0.0055555557, 0.0055555557, 0.0055555557, 0.1...   \n",
       "2  [0.0021739132, 0.0021739132, 0.0021739132, 0.5...   \n",
       "3  [0.00051546394, 0.2579078, 0.00051546394, 0.03...   \n",
       "4  [0.0011904762, 0.0011904762, 0.0011904762, 0.0...   \n",
       "\n",
       "                                         lda_topics2    KL_div  \n",
       "0  [0.0055555557, 0.0055555557, 0.0055555557, 0.1...  4.306318  \n",
       "1  [0.0021739132, 0.0021739132, 0.0021739132, 0.5...  0.301591  \n",
       "2  [0.00051546394, 0.2579078, 0.00051546394, 0.03...  4.252306  \n",
       "3  [0.0011904762, 0.0011904762, 0.0011904762, 0.0...  4.623076  \n",
       "4  [0.0005263158, 0.0005263158, 0.0005263158, 0.0...  3.369087  "
      ]
     },
     "execution_count": 24,
     "metadata": {},
     "output_type": "execute_result"
    }
   ],
   "source": [
    "new_df_rand.head()"
   ]
  },
  {
   "cell_type": "code",
   "execution_count": 17,
   "metadata": {},
   "outputs": [
    {
     "data": {
      "text/plain": [
       "collection_id1                  0114e414-7832-45a2-819d-30c909825e8f\n",
       "collection_id2                  0114e414-7832-45a2-819d-30c909825e8f\n",
       "sequence_id1                                                       3\n",
       "sequence_id2                                                       4\n",
       "resource_id1                    a3bcd19d-faad-4cb8-be23-2321b967d475\n",
       "resource_id2                    a241cc02-98d4-4ea2-984f-6db5d2691156\n",
       "summarisations1    teacher supplies, this document contains list ...\n",
       "summarisations2    scavenger hunt!what is the name of this projec...\n",
       "lda_topics1        [0.0021739132, 0.0021739132, 0.0021739132, 0.0...\n",
       "lda_topics2        [0.0014705883, 0.0014705883, 0.0014705883, 0.3...\n",
       "KL_div                                                       2.71865\n",
       "Name: 21, dtype: object"
      ]
     },
     "execution_count": 17,
     "metadata": {},
     "output_type": "execute_result"
    }
   ],
   "source": [
    "new_df.iloc[21]"
   ]
  },
  {
   "cell_type": "code",
   "execution_count": 63,
   "metadata": {},
   "outputs": [
    {
     "data": {
      "text/plain": [
       "'Teacher Supplies, This document contains a list of teacher supplies needed for the Solving a Science Mystery project., This document contains a list of teacher supplies needed for the Solving a Science Mystery project.'"
      ]
     },
     "execution_count": 63,
     "metadata": {},
     "output_type": "execute_result"
    }
   ],
   "source": [
    "\"Teacher Supplies, This document contains a list of teacher supplies needed for the Solving a Science Mystery project., This document contains a list of teacher supplies needed for the Solving a Science Mystery project.\""
   ]
  },
  {
   "cell_type": "code",
   "execution_count": 64,
   "metadata": {},
   "outputs": [
    {
     "data": {
      "text/plain": [
       "'Scavenger Hunt!What is the name of this project?What two cognitive skills are you being assessed on?What resource can you find in the project library?What two things do you have to make for this project?, Students can use this document as an introductory assignment to the Solving a Science Mystery project.  It allows students to look for clues and answer questions about the project.'"
      ]
     },
     "execution_count": 64,
     "metadata": {},
     "output_type": "execute_result"
    }
   ],
   "source": [
    "\"Scavenger Hunt!What is the name of this project?What two cognitive skills are you being assessed on?What resource can you find in the project library?What two things do you have to make for this project?, Students can use this document as an introductory assignment to the Solving a Science Mystery project.  It allows students to look for clues and answer questions about the project.\""
   ]
  },
  {
   "cell_type": "code",
   "execution_count": 19,
   "metadata": {},
   "outputs": [
    {
     "data": {
      "text/plain": [
       "collection_id1                  008fe8b8-abad-4f91-9aa9-184117b8fd44\n",
       "collection_id2                  008fe8b8-abad-4f91-9aa9-184117b8fd44\n",
       "sequence_id1                                                      27\n",
       "sequence_id2                                                      28\n",
       "resource_id1                    b356146a-e0f4-4590-a471-b11f05b4f68a\n",
       "resource_id2                    7ecac3ac-db6f-4978-b38a-3fbe6b95267f\n",
       "summarisations1    cell cycle from one cell to two <= index => ce...\n",
       "summarisations2    what phase is the cell in?during which phase d...\n",
       "lda_topics1        [0.00052631577, 0.00052631577, 0.00052631577, ...\n",
       "lda_topics2        [0.0021739132, 0.0021739132, 0.0021739132, 0.0...\n",
       "KL_div                                                      0.534331\n",
       "Name: 14, dtype: object"
      ]
     },
     "execution_count": 19,
     "metadata": {},
     "output_type": "execute_result"
    }
   ],
   "source": [
    "new_df.iloc[14]"
   ]
  },
  {
   "cell_type": "code",
   "execution_count": 21,
   "metadata": {},
   "outputs": [
    {
     "data": {
      "text/plain": [
       "\"Cell Cycle : From One Cell to Two <= Index => Cell Cycle : From One Cell to Two Show all questions <= 1 / 16 => Prokayrotic cells (bacteria) reproduce by ?binary fission?sexual reproduction?cloning?binary reductionMost of a cell's lifetime is spent in the part of the cell cycle called??prophase?metaphase?interphase?anaphaseDivision of the nucleus occurs during the phase of the cell cycle called ____________ .?They can develop into many different tissue types.All cells contain the same genetic information.?Stem cells are the only cells that can be implanted.?As cells develop some genes are turned off permanently.Cancer is ?a part of interphase?a disease that causes the cell to stop reproducing in the cell cycle?a disease where the cell doesn't have any cyclins?a disease caused when a cell in the body acquires a genetic change that gives it a selective advantage for growth and reproduction over other cells in the bodyA cell has 5 chromosomes in G1., This quiz on mitosis tests your comprehensive understanding of all the phases involved in cell division.\""
      ]
     },
     "execution_count": 21,
     "metadata": {},
     "output_type": "execute_result"
    }
   ],
   "source": [
    "\"Cell Cycle : From One Cell to Two <= Index => Cell Cycle : From One Cell to Two Show all questions <= 1 / 16 => Prokayrotic cells (bacteria) reproduce by ?binary fission?sexual reproduction?cloning?binary reductionMost of a cell's lifetime is spent in the part of the cell cycle called??prophase?metaphase?interphase?anaphaseDivision of the nucleus occurs during the phase of the cell cycle called ____________ .?They can develop into many different tissue types.All cells contain the same genetic information.?Stem cells are the only cells that can be implanted.?As cells develop some genes are turned off permanently.Cancer is ?a part of interphase?a disease that causes the cell to stop reproducing in the cell cycle?a disease where the cell doesn't have any cyclins?a disease caused when a cell in the body acquires a genetic change that gives it a selective advantage for growth and reproduction over other cells in the bodyA cell has 5 chromosomes in G1., This quiz on mitosis tests your comprehensive understanding of all the phases involved in cell division.\""
   ]
  },
  {
   "cell_type": "code",
   "execution_count": 22,
   "metadata": {},
   "outputs": [
    {
     "data": {
      "text/plain": [
       "'What phase is the cell in?During which phase do chromosome first become visible?How many daughter cells are created?What structure is responsible for moving the chromosomes during mitosis?During which phase does the DNA make a copy of itself?, '"
      ]
     },
     "execution_count": 22,
     "metadata": {},
     "output_type": "execute_result"
    }
   ],
   "source": [
    "\"What phase is the cell in?During which phase do chromosome first become visible?How many daughter cells are created?What structure is responsible for moving the chromosomes during mitosis?During which phase does the DNA make a copy of itself?, \""
   ]
  },
  {
   "cell_type": "code",
   "execution_count": 25,
   "metadata": {},
   "outputs": [
    {
     "data": {
      "text/plain": [
       "<matplotlib.axes._subplots.AxesSubplot at 0x119ab5950>"
      ]
     },
     "execution_count": 25,
     "metadata": {},
     "output_type": "execute_result"
    },
    {
     "data": {
      "image/png": "[encoded data removed]",
      "text/plain": [
       "<Figure size 432x288 with 1 Axes>"
      ]
     },
     "metadata": {
      "needs_background": "light"
     },
     "output_type": "display_data"
    }
   ],
   "source": [
    "new_df_rand.KL_div.hist(bins=100)"
   ]
  },
  {
   "cell_type": "code",
   "execution_count": 26,
   "metadata": {},
   "outputs": [
    {
     "data": {
      "text/plain": [
       "<matplotlib.axes._subplots.AxesSubplot at 0x11e4b7ed0>"
      ]
     },
     "execution_count": 26,
     "metadata": {},
     "output_type": "execute_result"
    },
    {
     "data": {
      "image/png": "[encoded data removed]",
      "text/plain": [
       "<Figure size 432x288 with 1 Axes>"
      ]
     },
     "metadata": {
      "needs_background": "light"
     },
     "output_type": "display_data"
    }
   ],
   "source": [
    "new_df.KL_div.hist(bins=100)"
   ]
  },
  {
   "cell_type": "code",
   "execution_count": 52,
   "metadata": {},
   "outputs": [
    {
     "data": {
      "text/html": [
       "<div>\n",
       "<style scoped>\n",
       "    .dataframe tbody tr th:only-of-type {\n",
       "        vertical-align: middle;\n",
       "    }\n",
       "\n",
       "    .dataframe tbody tr th {\n",
       "        vertical-align: top;\n",
       "    }\n",
       "\n",
       "    .dataframe thead th {\n",
       "        text-align: right;\n",
       "    }\n",
       "</style>\n",
       "<table border=\"1\" class=\"dataframe\">\n",
       "  <thead>\n",
       "    <tr style=\"text-align: right;\">\n",
       "      <th></th>\n",
       "      <th>summarizations1</th>\n",
       "      <th>summarizations2</th>\n",
       "      <th>KL_div</th>\n",
       "    </tr>\n",
       "  </thead>\n",
       "  <tbody>\n",
       "    <tr>\n",
       "      <th>10</th>\n",
       "      <td>The Cell Cycle, Mitosis, and Meiosis, In Chapt...</td>\n",
       "      <td>Error Not Found, Use this resource to test you...</td>\n",
       "      <td>2.204992</td>\n",
       "    </tr>\n",
       "    <tr>\n",
       "      <th>11</th>\n",
       "      <td>Error Not Found, Use this resource to test you...</td>\n",
       "      <td>Mitosis: An Interactive Animation, Interactive...</td>\n",
       "      <td>2.648803</td>\n",
       "    </tr>\n",
       "    <tr>\n",
       "      <th>12</th>\n",
       "      <td>Mitosis: An Interactive Animation, Interactive...</td>\n",
       "      <td>Cell Division 7th grade quiz questions - ProPr...</td>\n",
       "      <td>2.158199</td>\n",
       "    </tr>\n",
       "    <tr>\n",
       "      <th>21</th>\n",
       "      <td>Teacher Supplies, This document contains a lis...</td>\n",
       "      <td>Scavenger Hunt!What is the name of this projec...</td>\n",
       "      <td>2.718647</td>\n",
       "    </tr>\n",
       "    <tr>\n",
       "      <th>25</th>\n",
       "      <td>Your goal: There is an object under the square...</td>\n",
       "      <td>The Mystery Box model must show.WHAT is inside...</td>\n",
       "      <td>2.768626</td>\n",
       "    </tr>\n",
       "    <tr>\n",
       "      <th>26</th>\n",
       "      <td>Movie triangle.docx, Note sheet to be used whi...</td>\n",
       "      <td>Name the four areas that Persians conquered du...</td>\n",
       "      <td>2.951664</td>\n",
       "    </tr>\n",
       "    <tr>\n",
       "      <th>29</th>\n",
       "      <td>Pacific Wartheatre of war, World War II Writte...</td>\n",
       "      <td>Thursday, May 20, 2010 Burton W. Folsom Econom...</td>\n",
       "      <td>2.340041</td>\n",
       "    </tr>\n",
       "    <tr>\n",
       "      <th>35</th>\n",
       "      <td>Radiation is energy that travels and spreads o...</td>\n",
       "      <td>Presentation: The Electromagnetic Spectrum, A ...</td>\n",
       "      <td>2.258085</td>\n",
       "    </tr>\n",
       "    <tr>\n",
       "      <th>40</th>\n",
       "      <td>Page Not Found - BrainPOP skip to main content...</td>\n",
       "      <td>interface, Although all plants go through a li...</td>\n",
       "      <td>2.446370</td>\n",
       "    </tr>\n",
       "    <tr>\n",
       "      <th>49</th>\n",
       "      <td>Congressional Procedures Books We Recommend Tr...</td>\n",
       "      <td>What are two of the most powerful committees i...</td>\n",
       "      <td>2.586686</td>\n",
       "    </tr>\n",
       "    <tr>\n",
       "      <th>80</th>\n",
       "      <td>Rock Classification Interactive Resource, Ms.M...</td>\n",
       "      <td>Step 6: Determine the name of the rock by usin...</td>\n",
       "      <td>2.508931</td>\n",
       "    </tr>\n",
       "    <tr>\n",
       "      <th>89</th>\n",
       "      <td>In this unit (Newton's Laws of Motion), the wa...</td>\n",
       "      <td>This page is only accessible from within the U...</td>\n",
       "      <td>2.091179</td>\n",
       "    </tr>\n",
       "    <tr>\n",
       "      <th>100</th>\n",
       "      <td>Reading: New Technology for Clean Air, , This ...</td>\n",
       "      <td>On Days when High Ozone Levels are Expected, T...</td>\n",
       "      <td>2.648444</td>\n",
       "    </tr>\n",
       "    <tr>\n",
       "      <th>116</th>\n",
       "      <td>SimMotion5   Your web browser must have JavaSc...</td>\n",
       "      <td>Energy in the form of work would have to be im...</td>\n",
       "      <td>2.395188</td>\n",
       "    </tr>\n",
       "    <tr>\n",
       "      <th>119</th>\n",
       "      <td>Persian Empire Slideshow, PowerPoint reviewing...</td>\n",
       "      <td>The Persians Cyrus Cyrus and the establishment...</td>\n",
       "      <td>2.298100</td>\n",
       "    </tr>\n",
       "    <tr>\n",
       "      <th>131</th>\n",
       "      <td>What Is a Bicameral Legislature and Why Does t...</td>\n",
       "      <td>U. EssaysYale EssaysSubmit an essayAP U.S. Gov...</td>\n",
       "      <td>2.857073</td>\n",
       "    </tr>\n",
       "    <tr>\n",
       "      <th>133</th>\n",
       "      <td>Read the Magnuson-Stevens Fishery Conservation...</td>\n",
       "      <td>For example: The NMSA provides the program wit...</td>\n",
       "      <td>2.868044</td>\n",
       "    </tr>\n",
       "    <tr>\n",
       "      <th>136</th>\n",
       "      <td>[See scientists studying the glacier.]Landslid...</td>\n",
       "      <td>Earthquakes, Geography4Kids presents Earthquak...</td>\n",
       "      <td>2.840883</td>\n",
       "    </tr>\n",
       "    <tr>\n",
       "      <th>150</th>\n",
       "      <td>GROUP 1: Final Paper, This is an example of a ...</td>\n",
       "      <td>Google Earth - Mt Everest to California, A Go...</td>\n",
       "      <td>2.019355</td>\n",
       "    </tr>\n",
       "    <tr>\n",
       "      <th>153</th>\n",
       "      <td>Acceleration Watch as you fill out the chart t...</td>\n",
       "      <td>Newton's Second Law of Motion, Students look a...</td>\n",
       "      <td>2.575241</td>\n",
       "    </tr>\n",
       "    <tr>\n",
       "      <th>157</th>\n",
       "      <td>Ramp: Forces and Motion - Force | Position | V...</td>\n",
       "      <td>Newton, In Chapter 5 of CK-12's People's Physi...</td>\n",
       "      <td>2.345213</td>\n",
       "    </tr>\n",
       "    <tr>\n",
       "      <th>162</th>\n",
       "      <td>To help us customize information and build app...</td>\n",
       "      <td>Smartphone Accessory | Pre-Test, Before studen...</td>\n",
       "      <td>2.277904</td>\n",
       "    </tr>\n",
       "    <tr>\n",
       "      <th>165</th>\n",
       "      <td>Go to our diagnostics page to see what's wrong...</td>\n",
       "      <td>To help us customize information and build app...</td>\n",
       "      <td>2.463702</td>\n",
       "    </tr>\n",
       "    <tr>\n",
       "      <th>166</th>\n",
       "      <td>Electric Power Monthly Electricity Data Browse...</td>\n",
       "      <td>Image: Historical World Energy Use, , This ima...</td>\n",
       "      <td>2.515377</td>\n",
       "    </tr>\n",
       "    <tr>\n",
       "      <th>169</th>\n",
       "      <td>Introduction to DNA Slidehow, , This slide sho...</td>\n",
       "      <td>NOVA Online | Cracking the Code of Life | Jour...</td>\n",
       "      <td>2.748147</td>\n",
       "    </tr>\n",
       "    <tr>\n",
       "      <th>174</th>\n",
       "      <td>Refraction of Light Demonstration 2008 WGBH Ed...</td>\n",
       "      <td>Google Slides Teacher's Notes Resource, , Use ...</td>\n",
       "      <td>2.847462</td>\n",
       "    </tr>\n",
       "    <tr>\n",
       "      <th>219</th>\n",
       "      <td>Objective #3 Describe the Native American cult...</td>\n",
       "      <td>Textbook reading: Native American Societies, T...</td>\n",
       "      <td>2.323172</td>\n",
       "    </tr>\n",
       "    <tr>\n",
       "      <th>224</th>\n",
       "      <td>An example of a large scale mine is the Serra ...</td>\n",
       "      <td>Materials Made from Trees, This website explai...</td>\n",
       "      <td>2.078516</td>\n",
       "    </tr>\n",
       "    <tr>\n",
       "      <th>226</th>\n",
       "      <td>The Cell Cycle &amp; Mitosis Tutorial, Mitosis is ...</td>\n",
       "      <td>Mitosis - When Cells Split Apart, The big idea...</td>\n",
       "      <td>2.370768</td>\n",
       "    </tr>\n",
       "    <tr>\n",
       "      <th>227</th>\n",
       "      <td>Mitosis - When Cells Split Apart, The big idea...</td>\n",
       "      <td>Interactive Cell Cycle, , This interactive giv...</td>\n",
       "      <td>2.505466</td>\n",
       "    </tr>\n",
       "    <tr>\n",
       "      <th>...</th>\n",
       "      <td>...</td>\n",
       "      <td>...</td>\n",
       "      <td>...</td>\n",
       "    </tr>\n",
       "    <tr>\n",
       "      <th>3363</th>\n",
       "      <td>StarChild: Galaxies Listen to an audio version...</td>\n",
       "      <td>Concept 1 - An organisms metabolism transforms...</td>\n",
       "      <td>2.469969</td>\n",
       "    </tr>\n",
       "    <tr>\n",
       "      <th>3379</th>\n",
       "      <td>PPT: Introduction to Solid Waste, Introduction...</td>\n",
       "      <td>Types of Solid Waste, Types of Solid Waste, Th...</td>\n",
       "      <td>2.031763</td>\n",
       "    </tr>\n",
       "    <tr>\n",
       "      <th>3381</th>\n",
       "      <td>Jeremy OBrien: So if you can recycle a materia...</td>\n",
       "      <td>Challenge Reading: Recycling is not Garbage, C...</td>\n",
       "      <td>2.409878</td>\n",
       "    </tr>\n",
       "    <tr>\n",
       "      <th>3388</th>\n",
       "      <td>Advanced: Stanford Philosophers -Socrates, Adv...</td>\n",
       "      <td>We may read Plato's Socratic dialogues because...</td>\n",
       "      <td>2.904352</td>\n",
       "    </tr>\n",
       "    <tr>\n",
       "      <th>3390</th>\n",
       "      <td>Animation: Mitosis and Cytokinesis, This page ...</td>\n",
       "      <td>Mitosis, Sumanas presents Mitosis, an educatio...</td>\n",
       "      <td>2.252047</td>\n",
       "    </tr>\n",
       "    <tr>\n",
       "      <th>3402</th>\n",
       "      <td>Assignment Log Semester 1, This is your guide ...</td>\n",
       "      <td>Meet Google Drive  One place for all your file...</td>\n",
       "      <td>2.887237</td>\n",
       "    </tr>\n",
       "    <tr>\n",
       "      <th>3404</th>\n",
       "      <td>National Constitution Center Menu Home Resourc...</td>\n",
       "      <td>One of the true advantages of taking an AP cla...</td>\n",
       "      <td>2.009863</td>\n",
       "    </tr>\n",
       "    <tr>\n",
       "      <th>3414</th>\n",
       "      <td>Volcanoes Lesson Brief, , This presentation (o...</td>\n",
       "      <td>Step 2: Click on one of the three shapes at di...</td>\n",
       "      <td>2.239873</td>\n",
       "    </tr>\n",
       "    <tr>\n",
       "      <th>3418</th>\n",
       "      <td>Notes - Combined Gas Law.docx - Google Drive S...</td>\n",
       "      <td>A gas collected in a flexible container at a p...</td>\n",
       "      <td>2.196626</td>\n",
       "    </tr>\n",
       "    <tr>\n",
       "      <th>3426</th>\n",
       "      <td>Political Parties and Interest Groups, Politic...</td>\n",
       "      <td>SparkNotes: Interest Groups: Strategies Used b...</td>\n",
       "      <td>2.627951</td>\n",
       "    </tr>\n",
       "    <tr>\n",
       "      <th>3444</th>\n",
       "      <td>Build an Atom Buildan AtomAtomSymbolGameBuilda...</td>\n",
       "      <td>The law of multiple proportions states that wh...</td>\n",
       "      <td>2.508616</td>\n",
       "    </tr>\n",
       "    <tr>\n",
       "      <th>3445</th>\n",
       "      <td>Absorbent: Atoms: Boiling:  when a liquid begi...</td>\n",
       "      <td>What is Matter?, This webpage consists of a ha...</td>\n",
       "      <td>2.524280</td>\n",
       "    </tr>\n",
       "    <tr>\n",
       "      <th>3446</th>\n",
       "      <td>What is Matter?, This webpage consists of a ha...</td>\n",
       "      <td>States of Matter, This handout created by Bra...</td>\n",
       "      <td>2.651706</td>\n",
       "    </tr>\n",
       "    <tr>\n",
       "      <th>3450</th>\n",
       "      <td>Environmental challenges, accelerated by clima...</td>\n",
       "      <td>Healthy Farm Elements Streamside Woodlot Cover...</td>\n",
       "      <td>2.425993</td>\n",
       "    </tr>\n",
       "    <tr>\n",
       "      <th>3456</th>\n",
       "      <td>Early American Culture, , Read the text Early ...</td>\n",
       "      <td>Enlightenment and The Great Awakening, The sli...</td>\n",
       "      <td>2.462597</td>\n",
       "    </tr>\n",
       "    <tr>\n",
       "      <th>3460</th>\n",
       "      <td>For example, they may have:Most mammals are pl...</td>\n",
       "      <td>Kid's Corner - Animal Diet Game Kid's Corner M...</td>\n",
       "      <td>2.662859</td>\n",
       "    </tr>\n",
       "    <tr>\n",
       "      <th>3466</th>\n",
       "      <td>Animation: Organs of Digestion, , In this anim...</td>\n",
       "      <td>Peloponnesian War - HISTORY ShowsThis Day In H...</td>\n",
       "      <td>2.808879</td>\n",
       "    </tr>\n",
       "    <tr>\n",
       "      <th>3488</th>\n",
       "      <td>CK-12 Foundation is a non-prot organization wi...</td>\n",
       "      <td>Study Quiz 2.1: Food Chains, Food Webs, and En...</td>\n",
       "      <td>2.859807</td>\n",
       "    </tr>\n",
       "    <tr>\n",
       "      <th>3498</th>\n",
       "      <td>You are at rest on your bicycle at the top of ...</td>\n",
       "      <td>The Physics Classroom  Multimedia Studios  Wor...</td>\n",
       "      <td>2.809313</td>\n",
       "    </tr>\n",
       "    <tr>\n",
       "      <th>3508</th>\n",
       "      <td>The primary sources of greenhouse gas emission...</td>\n",
       "      <td>Chemical Reaction Basics Lesson Brief, , This ...</td>\n",
       "      <td>2.940845</td>\n",
       "    </tr>\n",
       "    <tr>\n",
       "      <th>3512</th>\n",
       "      <td>* Inquiry 2: Sources of CO2*It is also importa...</td>\n",
       "      <td>Sources of CO2  Lesson Brief, , This presentat...</td>\n",
       "      <td>2.252225</td>\n",
       "    </tr>\n",
       "    <tr>\n",
       "      <th>3513</th>\n",
       "      <td>Sources of CO2  Lesson Brief, , This presentat...</td>\n",
       "      <td>In the box below the image describe why there ...</td>\n",
       "      <td>2.110088</td>\n",
       "    </tr>\n",
       "    <tr>\n",
       "      <th>3514</th>\n",
       "      <td>FIND OUT MORE It's on TODAY!Evaporation Dr Dav...</td>\n",
       "      <td>Water Cycle - Earthguide Animated Quiz Water c...</td>\n",
       "      <td>2.678315</td>\n",
       "    </tr>\n",
       "    <tr>\n",
       "      <th>3517</th>\n",
       "      <td>Uses of fresh water Uses of fresh water can be...</td>\n",
       "      <td>Data Limit Reached Data Limit Reached You have...</td>\n",
       "      <td>2.418881</td>\n",
       "    </tr>\n",
       "    <tr>\n",
       "      <th>3522</th>\n",
       "      <td>Interest Groups PPT, Define an interest group ...</td>\n",
       "      <td>Vote Smart Just The Facts Sign up Login \"Exper...</td>\n",
       "      <td>2.575655</td>\n",
       "    </tr>\n",
       "    <tr>\n",
       "      <th>3525</th>\n",
       "      <td>Organization can also make up for size: A well...</td>\n",
       "      <td>Convicted Lobbyist Avoids Jail Time After Assi...</td>\n",
       "      <td>2.194360</td>\n",
       "    </tr>\n",
       "    <tr>\n",
       "      <th>3532</th>\n",
       "      <td>Anatomy and Physiology of Animals/Classificati...</td>\n",
       "      <td>Compared to the invertebrates, there are not t...</td>\n",
       "      <td>2.016620</td>\n",
       "    </tr>\n",
       "    <tr>\n",
       "      <th>3537</th>\n",
       "      <td>Phet Simulation: Wave on a String, , In this i...</td>\n",
       "      <td>The distance of the top of one wave to the nex...</td>\n",
       "      <td>2.911525</td>\n",
       "    </tr>\n",
       "    <tr>\n",
       "      <th>3539</th>\n",
       "      <td>Amplitude 2008 WGBH Educational Foundation.All...</td>\n",
       "      <td>The distance of the top of one wave to the nex...</td>\n",
       "      <td>2.968886</td>\n",
       "    </tr>\n",
       "    <tr>\n",
       "      <th>3547</th>\n",
       "      <td>Water Cycle, Diagram of Earth's water cycle., ...</td>\n",
       "      <td>For this reason, graphs are often used in news...</td>\n",
       "      <td>2.740280</td>\n",
       "    </tr>\n",
       "  </tbody>\n",
       "</table>\n",
       "<p>589 rows × 3 columns</p>\n",
       "</div>"
      ],
      "text/plain": [
       "                                        summarizations1  \\\n",
       "10    The Cell Cycle, Mitosis, and Meiosis, In Chapt...   \n",
       "11    Error Not Found, Use this resource to test you...   \n",
       "12    Mitosis: An Interactive Animation, Interactive...   \n",
       "21    Teacher Supplies, This document contains a lis...   \n",
       "25    Your goal: There is an object under the square...   \n",
       "26    Movie triangle.docx, Note sheet to be used whi...   \n",
       "29    Pacific Wartheatre of war, World War II Writte...   \n",
       "35    Radiation is energy that travels and spreads o...   \n",
       "40    Page Not Found - BrainPOP skip to main content...   \n",
       "49    Congressional Procedures Books We Recommend Tr...   \n",
       "80    Rock Classification Interactive Resource, Ms.M...   \n",
       "89    In this unit (Newton's Laws of Motion), the wa...   \n",
       "100   Reading: New Technology for Clean Air, , This ...   \n",
       "116   SimMotion5   Your web browser must have JavaSc...   \n",
       "119   Persian Empire Slideshow, PowerPoint reviewing...   \n",
       "131   What Is a Bicameral Legislature and Why Does t...   \n",
       "133   Read the Magnuson-Stevens Fishery Conservation...   \n",
       "136   [See scientists studying the glacier.]Landslid...   \n",
       "150   GROUP 1: Final Paper, This is an example of a ...   \n",
       "153   Acceleration Watch as you fill out the chart t...   \n",
       "157   Ramp: Forces and Motion - Force | Position | V...   \n",
       "162   To help us customize information and build app...   \n",
       "165   Go to our diagnostics page to see what's wrong...   \n",
       "166   Electric Power Monthly Electricity Data Browse...   \n",
       "169   Introduction to DNA Slidehow, , This slide sho...   \n",
       "174   Refraction of Light Demonstration 2008 WGBH Ed...   \n",
       "219   Objective #3 Describe the Native American cult...   \n",
       "224   An example of a large scale mine is the Serra ...   \n",
       "226   The Cell Cycle & Mitosis Tutorial, Mitosis is ...   \n",
       "227   Mitosis - When Cells Split Apart, The big idea...   \n",
       "...                                                 ...   \n",
       "3363  StarChild: Galaxies Listen to an audio version...   \n",
       "3379  PPT: Introduction to Solid Waste, Introduction...   \n",
       "3381  Jeremy OBrien: So if you can recycle a materia...   \n",
       "3388  Advanced: Stanford Philosophers -Socrates, Adv...   \n",
       "3390  Animation: Mitosis and Cytokinesis, This page ...   \n",
       "3402  Assignment Log Semester 1, This is your guide ...   \n",
       "3404  National Constitution Center Menu Home Resourc...   \n",
       "3414  Volcanoes Lesson Brief, , This presentation (o...   \n",
       "3418  Notes - Combined Gas Law.docx - Google Drive S...   \n",
       "3426  Political Parties and Interest Groups, Politic...   \n",
       "3444  Build an Atom Buildan AtomAtomSymbolGameBuilda...   \n",
       "3445  Absorbent: Atoms: Boiling:  when a liquid begi...   \n",
       "3446  What is Matter?, This webpage consists of a ha...   \n",
       "3450  Environmental challenges, accelerated by clima...   \n",
       "3456  Early American Culture, , Read the text Early ...   \n",
       "3460  For example, they may have:Most mammals are pl...   \n",
       "3466  Animation: Organs of Digestion, , In this anim...   \n",
       "3488  CK-12 Foundation is a non-prot organization wi...   \n",
       "3498  You are at rest on your bicycle at the top of ...   \n",
       "3508  The primary sources of greenhouse gas emission...   \n",
       "3512  * Inquiry 2: Sources of CO2*It is also importa...   \n",
       "3513  Sources of CO2  Lesson Brief, , This presentat...   \n",
       "3514  FIND OUT MORE It's on TODAY!Evaporation Dr Dav...   \n",
       "3517  Uses of fresh water Uses of fresh water can be...   \n",
       "3522  Interest Groups PPT, Define an interest group ...   \n",
       "3525  Organization can also make up for size: A well...   \n",
       "3532  Anatomy and Physiology of Animals/Classificati...   \n",
       "3537  Phet Simulation: Wave on a String, , In this i...   \n",
       "3539  Amplitude 2008 WGBH Educational Foundation.All...   \n",
       "3547  Water Cycle, Diagram of Earth's water cycle., ...   \n",
       "\n",
       "                                        summarizations2    KL_div  \n",
       "10    Error Not Found, Use this resource to test you...  2.204992  \n",
       "11    Mitosis: An Interactive Animation, Interactive...  2.648803  \n",
       "12    Cell Division 7th grade quiz questions - ProPr...  2.158199  \n",
       "21    Scavenger Hunt!What is the name of this projec...  2.718647  \n",
       "25    The Mystery Box model must show.WHAT is inside...  2.768626  \n",
       "26    Name the four areas that Persians conquered du...  2.951664  \n",
       "29    Thursday, May 20, 2010 Burton W. Folsom Econom...  2.340041  \n",
       "35    Presentation: The Electromagnetic Spectrum, A ...  2.258085  \n",
       "40    interface, Although all plants go through a li...  2.446370  \n",
       "49    What are two of the most powerful committees i...  2.586686  \n",
       "80    Step 6: Determine the name of the rock by usin...  2.508931  \n",
       "89    This page is only accessible from within the U...  2.091179  \n",
       "100   On Days when High Ozone Levels are Expected, T...  2.648444  \n",
       "116   Energy in the form of work would have to be im...  2.395188  \n",
       "119   The Persians Cyrus Cyrus and the establishment...  2.298100  \n",
       "131   U. EssaysYale EssaysSubmit an essayAP U.S. Gov...  2.857073  \n",
       "133   For example: The NMSA provides the program wit...  2.868044  \n",
       "136   Earthquakes, Geography4Kids presents Earthquak...  2.840883  \n",
       "150    Google Earth - Mt Everest to California, A Go...  2.019355  \n",
       "153   Newton's Second Law of Motion, Students look a...  2.575241  \n",
       "157   Newton, In Chapter 5 of CK-12's People's Physi...  2.345213  \n",
       "162   Smartphone Accessory | Pre-Test, Before studen...  2.277904  \n",
       "165   To help us customize information and build app...  2.463702  \n",
       "166   Image: Historical World Energy Use, , This ima...  2.515377  \n",
       "169   NOVA Online | Cracking the Code of Life | Jour...  2.748147  \n",
       "174   Google Slides Teacher's Notes Resource, , Use ...  2.847462  \n",
       "219   Textbook reading: Native American Societies, T...  2.323172  \n",
       "224   Materials Made from Trees, This website explai...  2.078516  \n",
       "226   Mitosis - When Cells Split Apart, The big idea...  2.370768  \n",
       "227   Interactive Cell Cycle, , This interactive giv...  2.505466  \n",
       "...                                                 ...       ...  \n",
       "3363  Concept 1 - An organisms metabolism transforms...  2.469969  \n",
       "3379  Types of Solid Waste, Types of Solid Waste, Th...  2.031763  \n",
       "3381  Challenge Reading: Recycling is not Garbage, C...  2.409878  \n",
       "3388  We may read Plato's Socratic dialogues because...  2.904352  \n",
       "3390  Mitosis, Sumanas presents Mitosis, an educatio...  2.252047  \n",
       "3402  Meet Google Drive  One place for all your file...  2.887237  \n",
       "3404  One of the true advantages of taking an AP cla...  2.009863  \n",
       "3414  Step 2: Click on one of the three shapes at di...  2.239873  \n",
       "3418  A gas collected in a flexible container at a p...  2.196626  \n",
       "3426  SparkNotes: Interest Groups: Strategies Used b...  2.627951  \n",
       "3444  The law of multiple proportions states that wh...  2.508616  \n",
       "3445  What is Matter?, This webpage consists of a ha...  2.524280  \n",
       "3446   States of Matter, This handout created by Bra...  2.651706  \n",
       "3450  Healthy Farm Elements Streamside Woodlot Cover...  2.425993  \n",
       "3456  Enlightenment and The Great Awakening, The sli...  2.462597  \n",
       "3460  Kid's Corner - Animal Diet Game Kid's Corner M...  2.662859  \n",
       "3466  Peloponnesian War - HISTORY ShowsThis Day In H...  2.808879  \n",
       "3488  Study Quiz 2.1: Food Chains, Food Webs, and En...  2.859807  \n",
       "3498  The Physics Classroom  Multimedia Studios  Wor...  2.809313  \n",
       "3508  Chemical Reaction Basics Lesson Brief, , This ...  2.940845  \n",
       "3512  Sources of CO2  Lesson Brief, , This presentat...  2.252225  \n",
       "3513  In the box below the image describe why there ...  2.110088  \n",
       "3514  Water Cycle - Earthguide Animated Quiz Water c...  2.678315  \n",
       "3517  Data Limit Reached Data Limit Reached You have...  2.418881  \n",
       "3522  Vote Smart Just The Facts Sign up Login \"Exper...  2.575655  \n",
       "3525  Convicted Lobbyist Avoids Jail Time After Assi...  2.194360  \n",
       "3532  Compared to the invertebrates, there are not t...  2.016620  \n",
       "3537  The distance of the top of one wave to the nex...  2.911525  \n",
       "3539  The distance of the top of one wave to the nex...  2.968886  \n",
       "3547  For this reason, graphs are often used in news...  2.740280  \n",
       "\n",
       "[589 rows x 3 columns]"
      ]
     },
     "execution_count": 52,
     "metadata": {},
     "output_type": "execute_result"
    }
   ],
   "source": [
    "new_df[(new_df.KL_div < 3) & (new_df.KL_div > 2)][['summarizations1','summarizations2','KL_div']]"
   ]
  },
  {
   "cell_type": "code",
   "execution_count": 50,
   "metadata": {},
   "outputs": [
    {
     "data": {
      "text/plain": [
       "collection_id1                  06f795cc-ca49-4e88-bef7-feea43e0efb6\n",
       "collection_id2                  06f795cc-ca49-4e88-bef7-feea43e0efb6\n",
       "sequence_id1                                                       1\n",
       "sequence_id2                                                       2\n",
       "resource_id1                    2fa42125-a646-4bcf-897b-dc17d3a93e63\n",
       "resource_id2                    af5d4d13-b35a-419a-abed-c5c518122999\n",
       "summarizations1    Read the Magnuson-Stevens Fishery Conservation...\n",
       "summarizations2    For example: The NMSA provides the program wit...\n",
       "lda_topics1        [0.044695556, 0.00058139535, 0.00058139535, 0....\n",
       "lda_topics2        [0.0008064516, 0.0008064516, 0.0008064516, 0.0...\n",
       "KL_div                                                       2.86804\n",
       "Name: 133, dtype: object"
      ]
     },
     "execution_count": 50,
     "metadata": {},
     "output_type": "execute_result"
    }
   ],
   "source": [
    "new_df.iloc[133]"
   ]
  },
  {
   "cell_type": "code",
   "execution_count": 13,
   "metadata": {},
   "outputs": [
    {
     "data": {
      "text/plain": [
       "(30000, 10)"
      ]
     },
     "execution_count": 13,
     "metadata": {},
     "output_type": "execute_result"
    }
   ],
   "source": [
    "new_df_rand.shape"
   ]
  },
  {
   "cell_type": "code",
   "execution_count": 34,
   "metadata": {
    "scrolled": true
   },
   "outputs": [
    {
     "data": {
      "text/plain": [
       "(1393, 43)"
      ]
     },
     "execution_count": 34,
     "metadata": {},
     "output_type": "execute_result"
    }
   ],
   "source": [
    "df_lda.groupby(['collection_id']).agg(['count']).shape"
   ]
  },
  {
   "cell_type": "code",
   "execution_count": 18,
   "metadata": {},
   "outputs": [
    {
     "data": {
      "text/plain": [
       "0       001ed871-f958-4f85-a638-6219d47b3935\n",
       "1       001ed871-f958-4f85-a638-6219d47b3935\n",
       "2       001ed871-f958-4f85-a638-6219d47b3935\n",
       "3       00247455-2bac-4152-af3f-0b33860e7e15\n",
       "4       00413ae4-2088-4319-97b1-8216a4fee1e7\n",
       "5       00413ae4-2088-4319-97b1-8216a4fee1e7\n",
       "6       00413ae4-2088-4319-97b1-8216a4fee1e7\n",
       "7       008fe8b8-abad-4f91-9aa9-184117b8fd44\n",
       "8       008fe8b8-abad-4f91-9aa9-184117b8fd44\n",
       "9       008fe8b8-abad-4f91-9aa9-184117b8fd44\n",
       "10      008fe8b8-abad-4f91-9aa9-184117b8fd44\n",
       "11      008fe8b8-abad-4f91-9aa9-184117b8fd44\n",
       "12      008fe8b8-abad-4f91-9aa9-184117b8fd44\n",
       "13      008fe8b8-abad-4f91-9aa9-184117b8fd44\n",
       "14      008fe8b8-abad-4f91-9aa9-184117b8fd44\n",
       "15      008fe8b8-abad-4f91-9aa9-184117b8fd44\n",
       "16      008fe8b8-abad-4f91-9aa9-184117b8fd44\n",
       "17      008fe8b8-abad-4f91-9aa9-184117b8fd44\n",
       "18      008fe8b8-abad-4f91-9aa9-184117b8fd44\n",
       "19      00a31a04-19a7-4160-9b48-0d5cad6d5976\n",
       "20      00a31a04-19a7-4160-9b48-0d5cad6d5976\n",
       "21      00a31a04-19a7-4160-9b48-0d5cad6d5976\n",
       "22      00edf3ed-3e21-4003-a6ca-eff89e6004af\n",
       "23      00f34544-d5c3-47aa-b136-f5d48c287d32\n",
       "24      00f34544-d5c3-47aa-b136-f5d48c287d32\n",
       "25      00f34544-d5c3-47aa-b136-f5d48c287d32\n",
       "26      0114e414-7832-45a2-819d-30c909825e8f\n",
       "27      0114e414-7832-45a2-819d-30c909825e8f\n",
       "28      0114e414-7832-45a2-819d-30c909825e8f\n",
       "29      0114e414-7832-45a2-819d-30c909825e8f\n",
       "                        ...                 \n",
       "4913    fe7e52d7-d956-43f6-9599-377a9ce2f94f\n",
       "4914    fe7e52d7-d956-43f6-9599-377a9ce2f94f\n",
       "4915    fe978037-ee48-4364-8a56-4a8aac83a462\n",
       "4916    fe978037-ee48-4364-8a56-4a8aac83a462\n",
       "4917    fecb66d6-1614-437b-bfdd-4569799f950c\n",
       "4918    fecb66d6-1614-437b-bfdd-4569799f950c\n",
       "4919    ff156f31-0828-46fd-93d5-2c986acbba5b\n",
       "4920    ff156f31-0828-46fd-93d5-2c986acbba5b\n",
       "4921    ff58dd7c-c0b5-4caa-babb-e36a989b69e1\n",
       "4922    ff59921a-b977-4738-8ceb-dedbbe55f4fa\n",
       "4923    ff59921a-b977-4738-8ceb-dedbbe55f4fa\n",
       "4924    ff59921a-b977-4738-8ceb-dedbbe55f4fa\n",
       "4925    ff59921a-b977-4738-8ceb-dedbbe55f4fa\n",
       "4926    ff59921a-b977-4738-8ceb-dedbbe55f4fa\n",
       "4927    ff59921a-b977-4738-8ceb-dedbbe55f4fa\n",
       "4928    ff59921a-b977-4738-8ceb-dedbbe55f4fa\n",
       "4929    ff59921a-b977-4738-8ceb-dedbbe55f4fa\n",
       "4930    ff797367-b1ef-4039-9216-a1374d2d32a5\n",
       "4931    ff797367-b1ef-4039-9216-a1374d2d32a5\n",
       "4932    ff797367-b1ef-4039-9216-a1374d2d32a5\n",
       "4933    ff797367-b1ef-4039-9216-a1374d2d32a5\n",
       "4934    ff865909-ecc5-455c-9649-6671ff1bf16c\n",
       "4935    ff865909-ecc5-455c-9649-6671ff1bf16c\n",
       "4936    ff865909-ecc5-455c-9649-6671ff1bf16c\n",
       "4937    ff90ab2e-5bf0-4c3d-b0ff-93a0130f30cd\n",
       "4938    ffdaab48-66e0-4adc-a073-7b1028079f48\n",
       "4939    ffdaab48-66e0-4adc-a073-7b1028079f48\n",
       "4940    ffdaab48-66e0-4adc-a073-7b1028079f48\n",
       "4941    ffdaab48-66e0-4adc-a073-7b1028079f48\n",
       "4942    ffee59cd-6bc3-4ad2-8137-d37270d3a529\n",
       "Name: collection_id, Length: 4943, dtype: object"
      ]
     },
     "execution_count": 18,
     "metadata": {},
     "output_type": "execute_result"
    }
   ],
   "source": [
    "df_lda.collection_id"
   ]
  },
  {
   "cell_type": "code",
   "execution_count": 9,
   "metadata": {},
   "outputs": [],
   "source": [
    "df_rand = util.generate_random_collections_df(rand_col)"
   ]
  },
  {
   "cell_type": "code",
   "execution_count": 12,
   "metadata": {},
   "outputs": [],
   "source": [
    "df_rand.to_csv('./data/rand_collection_science.csv',index=False)"
   ]
  },
  {
   "cell_type": "code",
   "execution_count": null,
   "metadata": {},
   "outputs": [],
   "source": []
  },
  {
   "cell_type": "code",
   "execution_count": null,
   "metadata": {},
   "outputs": [],
   "source": []
  },
  {
   "cell_type": "code",
   "execution_count": null,
   "metadata": {},
   "outputs": [],
   "source": []
  },
  {
   "cell_type": "code",
   "execution_count": null,
   "metadata": {},
   "outputs": [],
   "source": []
  }
 ],
 "metadata": {
  "kernelspec": {
   "display_name": "Python 2",
   "language": "python",
   "name": "python2"
  },
  "language_info": {
   "codemirror_mode": {
    "name": "ipython",
    "version": 3
   },
   "file_extension": ".py",
   "mimetype": "text/x-python",
   "name": "python",
   "nbconvert_exporter": "python",
   "pygments_lexer": "ipython3",
   "version": "3.7.3"
  }
 },
 "nbformat": 4,
 "nbformat_minor": 2
}
