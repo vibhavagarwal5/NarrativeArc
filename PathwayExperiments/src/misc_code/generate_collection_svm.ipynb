{
 "cells": [
  {
   "cell_type": "code",
   "execution_count": 20,
   "metadata": {},
   "outputs": [],
   "source": [
    "import pandas as pd\n",
    "import numpy as np\n",
    "import matplotlib.pyplot as plt\n",
    "import os\n",
    "import re\n",
    "import util\n",
    "from numpy import linalg as LA\n",
    "import pickle\n",
    "import random\n",
    "\n",
    "from sklearn.metrics import log_loss\n",
    "from sklearn.metrics import accuracy_score\n",
    "from sklearn.model_selection import train_test_split\n",
    "from sklearn import svm\n",
    "from gensim.models.doc2vec import Doc2Vec, TaggedDocument\n",
    "from gensim.models import Word2Vec\n",
    "from nltk.tokenize import word_tokenize\n",
    "from sklearn.multiclass import OneVsRestClassifier\n"
   ]
  },
  {
   "cell_type": "code",
   "execution_count": 21,
   "metadata": {},
   "outputs": [],
   "source": [
    "df = util.get_processed_data(\"./data/collections_math.csv\", False)\n",
    "collections = util.get_collections(df)"
   ]
  },
  {
   "cell_type": "code",
   "execution_count": 111,
   "metadata": {},
   "outputs": [
    {
     "data": {
      "text/html": [
       "<div>\n",
       "<style scoped>\n",
       "    .dataframe tbody tr th:only-of-type {\n",
       "        vertical-align: middle;\n",
       "    }\n",
       "\n",
       "    .dataframe tbody tr th {\n",
       "        vertical-align: top;\n",
       "    }\n",
       "\n",
       "    .dataframe thead th {\n",
       "        text-align: right;\n",
       "    }\n",
       "</style>\n",
       "<table border=\"1\" class=\"dataframe\">\n",
       "  <thead>\n",
       "    <tr style=\"text-align: right;\">\n",
       "      <th></th>\n",
       "      <th>collection_id</th>\n",
       "      <th>sequence_id</th>\n",
       "      <th>resource_id</th>\n",
       "      <th>title</th>\n",
       "      <th>description</th>\n",
       "      <th>text</th>\n",
       "    </tr>\n",
       "  </thead>\n",
       "  <tbody>\n",
       "    <tr>\n",
       "      <th>27744</th>\n",
       "      <td>ffea9e8f-65e1-4731-bebb-140174f60cda</td>\n",
       "      <td>5</td>\n",
       "      <td>932997a9-c44c-479c-ab9d-ec10fe17fc7f</td>\n",
       "      <td>Given the polar coordinates of Point V (2,&amp;nbs...</td>\n",
       "      <td>Given the polar coordinates of Point V (2,&amp;nbs...</td>\n",
       "      <td>Given the polar coordinates of Point V nbsp s ...</td>\n",
       "    </tr>\n",
       "    <tr>\n",
       "      <th>27745</th>\n",
       "      <td>ffea9e8f-65e1-4731-bebb-140174f60cda</td>\n",
       "      <td>4</td>\n",
       "      <td>d7336856-48c1-4143-95b0-a64e3252d207</td>\n",
       "      <td>Given the polar coordinates of Point D (4,&amp;nbs...</td>\n",
       "      <td>Given the polar coordinates of Point D (4,&amp;nbs...</td>\n",
       "      <td>Given the polar coordinates of Point D nbsp s ...</td>\n",
       "    </tr>\n",
       "    <tr>\n",
       "      <th>27746</th>\n",
       "      <td>ffea9e8f-65e1-4731-bebb-140174f60cda</td>\n",
       "      <td>1</td>\n",
       "      <td>81bf920e-ee87-4b68-9674-3aed717521d6</td>\n",
       "      <td>Given the rectangular coordinates of Point P (...</td>\n",
       "      <td>Given the rectangular coordinates of Point P (...</td>\n",
       "      <td>Given the rectangular coordinates of Point P G...</td>\n",
       "    </tr>\n",
       "    <tr>\n",
       "      <th>27747</th>\n",
       "      <td>ffea9e8f-65e1-4731-bebb-140174f60cda</td>\n",
       "      <td>3</td>\n",
       "      <td>c3a6e776-f263-47df-9fd2-91087a183539</td>\n",
       "      <td>Given the rectangular coordinates of Point L (...</td>\n",
       "      <td>Given the rectangular coordinates of Point L (...</td>\n",
       "      <td>Given the rectangular coordinates of Point L G...</td>\n",
       "    </tr>\n",
       "    <tr>\n",
       "      <th>27748</th>\n",
       "      <td>ffea9e8f-65e1-4731-bebb-140174f60cda</td>\n",
       "      <td>2</td>\n",
       "      <td>d98c1c9e-4e76-4d3d-b3ff-7577415ada69</td>\n",
       "      <td>Given the rectangular coordinates of Point M (...</td>\n",
       "      <td>Given the rectangular coordinates of Point M (...</td>\n",
       "      <td>Given the rectangular coordinates of Point M G...</td>\n",
       "    </tr>\n",
       "    <tr>\n",
       "      <th>27749</th>\n",
       "      <td>fff795b2-263c-48cb-8f93-74693e8c9c58</td>\n",
       "      <td>5</td>\n",
       "      <td>87f88be6-843f-11e3-a253-12313f070480</td>\n",
       "      <td>Simplify 5^4/5^1.</td>\n",
       "      <td>Simplify 5^4/5^1.</td>\n",
       "      <td>Simplify Simplify</td>\n",
       "    </tr>\n",
       "    <tr>\n",
       "      <th>27750</th>\n",
       "      <td>fff795b2-263c-48cb-8f93-74693e8c9c58</td>\n",
       "      <td>1</td>\n",
       "      <td>87f88984-843f-11e3-a253-12313f070480</td>\n",
       "      <td>Chapter 8: Exponential Functions</td>\n",
       "      <td>This textbook chapter on exponential functions...</td>\n",
       "      <td>Chapter Exponential Functions This textbook ch...</td>\n",
       "    </tr>\n",
       "    <tr>\n",
       "      <th>27751</th>\n",
       "      <td>fff795b2-263c-48cb-8f93-74693e8c9c58</td>\n",
       "      <td>3</td>\n",
       "      <td>87f88830-843f-11e3-a253-12313f070480</td>\n",
       "      <td>Division with exponents</td>\n",
       "      <td>IXL presents Division with exponents, an educa...</td>\n",
       "      <td>Division with exponents IXL presents Division ...</td>\n",
       "    </tr>\n",
       "    <tr>\n",
       "      <th>27752</th>\n",
       "      <td>fff795b2-263c-48cb-8f93-74693e8c9c58</td>\n",
       "      <td>2</td>\n",
       "      <td>87f886f0-843f-11e3-a253-12313f070480</td>\n",
       "      <td>Exponent Properties Involving Quotients</td>\n",
       "      <td>This video from Khan Academy explain exponent ...</td>\n",
       "      <td>Exponent Properties Involving Quotients This v...</td>\n",
       "    </tr>\n",
       "    <tr>\n",
       "      <th>27753</th>\n",
       "      <td>fff795b2-263c-48cb-8f93-74693e8c9c58</td>\n",
       "      <td>4</td>\n",
       "      <td>87f88aba-843f-11e3-a253-12313f070480</td>\n",
       "      <td>Simplify (5^3*5^5)/5^9.</td>\n",
       "      <td>Simplify (5^3*5^5)/5^9.</td>\n",
       "      <td>Simplify Simplify</td>\n",
       "    </tr>\n",
       "  </tbody>\n",
       "</table>\n",
       "</div>"
      ],
      "text/plain": [
       "                              collection_id  sequence_id  \\\n",
       "27744  ffea9e8f-65e1-4731-bebb-140174f60cda            5   \n",
       "27745  ffea9e8f-65e1-4731-bebb-140174f60cda            4   \n",
       "27746  ffea9e8f-65e1-4731-bebb-140174f60cda            1   \n",
       "27747  ffea9e8f-65e1-4731-bebb-140174f60cda            3   \n",
       "27748  ffea9e8f-65e1-4731-bebb-140174f60cda            2   \n",
       "27749  fff795b2-263c-48cb-8f93-74693e8c9c58            5   \n",
       "27750  fff795b2-263c-48cb-8f93-74693e8c9c58            1   \n",
       "27751  fff795b2-263c-48cb-8f93-74693e8c9c58            3   \n",
       "27752  fff795b2-263c-48cb-8f93-74693e8c9c58            2   \n",
       "27753  fff795b2-263c-48cb-8f93-74693e8c9c58            4   \n",
       "\n",
       "                                resource_id  \\\n",
       "27744  932997a9-c44c-479c-ab9d-ec10fe17fc7f   \n",
       "27745  d7336856-48c1-4143-95b0-a64e3252d207   \n",
       "27746  81bf920e-ee87-4b68-9674-3aed717521d6   \n",
       "27747  c3a6e776-f263-47df-9fd2-91087a183539   \n",
       "27748  d98c1c9e-4e76-4d3d-b3ff-7577415ada69   \n",
       "27749  87f88be6-843f-11e3-a253-12313f070480   \n",
       "27750  87f88984-843f-11e3-a253-12313f070480   \n",
       "27751  87f88830-843f-11e3-a253-12313f070480   \n",
       "27752  87f886f0-843f-11e3-a253-12313f070480   \n",
       "27753  87f88aba-843f-11e3-a253-12313f070480   \n",
       "\n",
       "                                                   title  \\\n",
       "27744  Given the polar coordinates of Point V (2,&nbs...   \n",
       "27745  Given the polar coordinates of Point D (4,&nbs...   \n",
       "27746  Given the rectangular coordinates of Point P (...   \n",
       "27747  Given the rectangular coordinates of Point L (...   \n",
       "27748  Given the rectangular coordinates of Point M (...   \n",
       "27749                                  Simplify 5^4/5^1.   \n",
       "27750                   Chapter 8: Exponential Functions   \n",
       "27751                            Division with exponents   \n",
       "27752            Exponent Properties Involving Quotients   \n",
       "27753                            Simplify (5^3*5^5)/5^9.   \n",
       "\n",
       "                                             description  \\\n",
       "27744  Given the polar coordinates of Point V (2,&nbs...   \n",
       "27745  Given the polar coordinates of Point D (4,&nbs...   \n",
       "27746  Given the rectangular coordinates of Point P (...   \n",
       "27747  Given the rectangular coordinates of Point L (...   \n",
       "27748  Given the rectangular coordinates of Point M (...   \n",
       "27749                                  Simplify 5^4/5^1.   \n",
       "27750  This textbook chapter on exponential functions...   \n",
       "27751  IXL presents Division with exponents, an educa...   \n",
       "27752  This video from Khan Academy explain exponent ...   \n",
       "27753                            Simplify (5^3*5^5)/5^9.   \n",
       "\n",
       "                                                    text  \n",
       "27744  Given the polar coordinates of Point V nbsp s ...  \n",
       "27745  Given the polar coordinates of Point D nbsp s ...  \n",
       "27746  Given the rectangular coordinates of Point P G...  \n",
       "27747  Given the rectangular coordinates of Point L G...  \n",
       "27748  Given the rectangular coordinates of Point M G...  \n",
       "27749                                  Simplify Simplify  \n",
       "27750  Chapter Exponential Functions This textbook ch...  \n",
       "27751  Division with exponents IXL presents Division ...  \n",
       "27752  Exponent Properties Involving Quotients This v...  \n",
       "27753                                  Simplify Simplify  "
      ]
     },
     "execution_count": 111,
     "metadata": {},
     "output_type": "execute_result"
    }
   ],
   "source": [
    "df.tail(10)"
   ]
  },
  {
   "cell_type": "code",
   "execution_count": 112,
   "metadata": {},
   "outputs": [
    {
     "name": "stdout",
     "output_type": "stream",
     "text": [
      "<class 'pandas.core.frame.DataFrame'>\n",
      "RangeIndex: 27754 entries, 0 to 27753\n",
      "Data columns (total 6 columns):\n",
      "collection_id    27754 non-null object\n",
      "sequence_id      27754 non-null int64\n",
      "resource_id      27754 non-null object\n",
      "title            27754 non-null object\n",
      "description      27754 non-null object\n",
      "text             27754 non-null object\n",
      "dtypes: int64(1), object(5)\n",
      "memory usage: 1.3+ MB\n"
     ]
    }
   ],
   "source": [
    "df.info()"
   ]
  },
  {
   "cell_type": "code",
   "execution_count": 62,
   "metadata": {},
   "outputs": [],
   "source": [
    "#Removing words with length 1 since tfidf does not recognize them\n",
    "for col in collections:\n",
    "    lrs = []\n",
    "    for i,text in enumerate(col[\"texts\"]):\n",
    "        new_text = \"\"\n",
    "        for word in text.split():\n",
    "            if len(word)>2:\n",
    "                new_text+=word+\" \"\n",
    "        if new_text.strip()!=\"\":\n",
    "            lrs.append(new_text.strip().lower())\n",
    "    col[\"texts\"] = lrs"
   ]
  },
  {
   "cell_type": "code",
   "execution_count": 63,
   "metadata": {},
   "outputs": [],
   "source": [
    "d2v= Doc2Vec.load(\"doc2vec_100dim.model\")\n",
    "\n",
    "def document_embeddings(doc):\n",
    "    test_data = word_tokenize(doc.lower())\n",
    "    return d2v.infer_vector(test_data)        \n",
    "\n",
    "\n",
    "word2vec = Word2Vec.load('Word2Vec_100dim.bin')\n",
    "\n",
    "def Word2doc(doc):\n",
    "    words=doc.split()\n",
    "    emb=np.zeros(100)\n",
    "    for word in words:\n",
    "        if(word in word2vec.wv.vocab):\n",
    "            emb = np.add(emb,word2vec[word])\n",
    "    if(len(doc)!=0) :       \n",
    "        return emb/len(words)\n",
    "    else:\n",
    "        return(np.zeros(100))"
   ]
  },
  {
   "cell_type": "code",
   "execution_count": 64,
   "metadata": {},
   "outputs": [
    {
     "name": "stdout",
     "output_type": "stream",
     "text": [
      "[ 0.00048814  0.00215189  0.00102763  0.00044883 -0.00076345  0.00145894\n",
      " -0.00062413  0.00391773  0.00463663 -0.00116558  0.00291725  0.00028895\n",
      "  0.00068045  0.00425597 -0.00428964 -0.00412871 -0.00479782  0.0033262\n",
      "  0.00278157  0.00370012  0.00478618  0.00299159 -0.00038521  0.00280529\n",
      " -0.00381726  0.00139921 -0.00356647  0.00444669  0.00021848 -0.00085338\n",
      " -0.00235444  0.00274234 -0.0004385   0.00068434 -0.0048121   0.00117635\n",
      "  0.00112096  0.00116934  0.00443748  0.0018182  -0.00140492 -0.00062968\n",
      "  0.00197631 -0.00439775  0.00166767  0.00170638 -0.00289617 -0.00371074\n",
      " -0.00184572 -0.00136289  0.00070197 -0.00061398  0.00488374 -0.00397955\n",
      " -0.00291123 -0.0033869   0.00153108 -0.00246708 -0.00033689 -0.00255574\n",
      " -0.0034103  -0.00389625  0.0015633  -0.00361817 -0.00303418 -0.00131275\n",
      "  0.00320993 -0.00402899  0.00337945 -0.00403902  0.00476459 -0.00031349\n",
      "  0.00476761  0.00104846  0.00239264 -0.00460812 -0.00217193 -0.00379803\n",
      " -0.0020386  -0.00381272 -0.00182017 -0.00085737 -0.00435852  0.00192472\n",
      "  0.00066601 -0.00234611  0.00023248 -0.00406059  0.00075946  0.00429296\n",
      " -0.00181431  0.0016741  -0.00368202  0.00216327 -0.00210594 -0.00316809\n",
      "  0.00086513 -0.00479892  0.0032894  -0.00495305]\n",
      "-----------------------------\n",
      "[0. 0. 0. 0. 0. 0. 0. 0. 0. 0. 0. 0. 0. 0. 0. 0. 0. 0. 0. 0. 0. 0. 0. 0.\n",
      " 0. 0. 0. 0. 0. 0. 0. 0. 0. 0. 0. 0. 0. 0. 0. 0. 0. 0. 0. 0. 0. 0. 0. 0.\n",
      " 0. 0. 0. 0. 0. 0. 0. 0. 0. 0. 0. 0. 0. 0. 0. 0. 0. 0. 0. 0. 0. 0. 0. 0.\n",
      " 0. 0. 0. 0. 0. 0. 0. 0. 0. 0. 0. 0. 0. 0. 0. 0. 0. 0. 0. 0. 0. 0. 0. 0.\n",
      " 0. 0. 0. 0.]\n"
     ]
    }
   ],
   "source": [
    "print(document_embeddings(\"\"))\n",
    "print(\"-----------------------------\")\n",
    "print(Word2doc(\"\"))"
   ]
  },
  {
   "cell_type": "code",
   "execution_count": 65,
   "metadata": {},
   "outputs": [],
   "source": [
    "pickle_in = open(\"./data/svm_model_cosine.sav\",\"rb\")\n",
    "svm = pickle.load(pickle_in)\n"
   ]
  },
  {
   "cell_type": "code",
   "execution_count": 66,
   "metadata": {},
   "outputs": [],
   "source": [
    "def cosin(v1,v2):\n",
    "    if(LA.norm(v1)!=0 and LA.norm(v2)!=0):\n",
    "        return (np.dot(np.array(v1),np.array(v2))/(LA.norm(v1) * LA.norm(v2)))\n",
    "    else:\n",
    "        return 1  \n"
   ]
  },
  {
   "cell_type": "code",
   "execution_count": 73,
   "metadata": {},
   "outputs": [],
   "source": [
    "def text_similarity_svm(text1, text2):\n",
    "    \n",
    "    dv1 = document_embeddings(text1)\n",
    "    dv2 = document_embeddings(text2)\n",
    "    \n",
    "    wd1 = Word2doc(text1)\n",
    "    wd2 = Word2doc(text1)\n",
    "    \n",
    "    ds = cosin(dv1,dv2)\n",
    "    ws = cosin(wd1,wd2)\n",
    "\n",
    "    data=[]\n",
    "\n",
    "#     for i in range(0,100):\n",
    "#         data.append(dv1[i])\n",
    "    \n",
    "#     for i in range(0,100):\n",
    "#         data.append(dv2[i])\n",
    "    \n",
    "#     for i in range(0,100):\n",
    "#         data.append(wd1[i])\n",
    "    \n",
    "#     for i in range(0,100):\n",
    "#         data.append(wd2[i])\n",
    "    \n",
    "    data.append(ds)\n",
    "    data.append(ws)\n",
    "    \n",
    "    similarity = svm.predict_proba(np.array(data).reshape(1,2))[0][1]\n",
    "\n",
    "    \n",
    "    return similarity"
   ]
  },
  {
   "cell_type": "code",
   "execution_count": 74,
   "metadata": {},
   "outputs": [],
   "source": [
    "def get_mean_score_pair(data, score_function):\n",
    "    score_sum = 0.0\n",
    "    for lr1, lr2 in data:\n",
    "        score_sum += score_function(lr1, lr2)\n",
    "    return score_sum/len(data)"
   ]
  },
  {
   "cell_type": "code",
   "execution_count": 75,
   "metadata": {},
   "outputs": [],
   "source": [
    "def get_next_lr(given_lr, lr_list, target_score, score_function):\n",
    "    next_lr = \"\"\n",
    "    score_diff = 0\n",
    "    for lr in lr_list:\n",
    "        score = score_function(given_lr, lr)\n",
    "        if (score - target_score) > score_diff:\n",
    "            score_diff = (score - target_score)\n",
    "            next_lr = lr\n",
    "    return next_lr"
   ]
  },
  {
   "cell_type": "code",
   "execution_count": 76,
   "metadata": {},
   "outputs": [],
   "source": [
    "def create_collection(collection_size, start_lr, lr_list, target_score, score_function):\n",
    "    collection = [start_lr]\n",
    "    lr = start_lr\n",
    "    if(start_lr in lr_list): \n",
    "        lr_list.remove(start_lr)\n",
    "    for _ in range(collection_size - 1):\n",
    "        next_lr = get_next_lr(lr, lr_list, target_score, score_function)\n",
    "        collection.append(next_lr)\n",
    "        lr = next_lr\n",
    "        if(next_lr in lr_list):\n",
    "            lr_list.remove(next_lr)\n",
    "    return collection"
   ]
  },
  {
   "cell_type": "code",
   "execution_count": 77,
   "metadata": {},
   "outputs": [],
   "source": [
    "lr_pairs = []\n",
    "\n",
    "for col in collections:\n",
    "    for i in range(len(col[\"texts\"]) -1):\n",
    "        lr1 = col[\"texts\"][i]\n",
    "        lr2 = col[\"texts\"][i+1]\n",
    "        lr_pairs.append((lr1, lr2))"
   ]
  },
  {
   "cell_type": "code",
   "execution_count": 78,
   "metadata": {},
   "outputs": [
    {
     "name": "stderr",
     "output_type": "stream",
     "text": [
      "/home/bukka/anaconda3/lib/python3.6/site-packages/ipykernel_launcher.py:15: DeprecationWarning: Call to deprecated `__getitem__` (Method will be removed in 4.0.0, use self.wv.__getitem__() instead).\n",
      "  from ipykernel import kernelapp as app\n"
     ]
    }
   ],
   "source": [
    "mean = get_mean_score_pair(lr_pairs, text_similarity_svm)"
   ]
  },
  {
   "cell_type": "code",
   "execution_count": 79,
   "metadata": {},
   "outputs": [],
   "source": [
    "lr_lists = []\n",
    "\n",
    "for col in collections:\n",
    "    for lr in col[\"texts\"]:\n",
    "        if(len(lr)>0):\n",
    "            lr_lists.append(lr)"
   ]
  },
  {
   "cell_type": "code",
   "execution_count": 80,
   "metadata": {},
   "outputs": [],
   "source": [
    "lr_lists=list(set(lr_lists))"
   ]
  },
  {
   "cell_type": "code",
   "execution_count": 81,
   "metadata": {},
   "outputs": [
    {
     "name": "stdout",
     "output_type": "stream",
     "text": [
      "which these sums equal which these sums equal frac frac choose all answers that apply\n"
     ]
    }
   ],
   "source": [
    "start_lr = lr_lists[random.randint(0,len(lr_lists))]\n",
    "print(start_lr)"
   ]
  },
  {
   "cell_type": "code",
   "execution_count": 88,
   "metadata": {},
   "outputs": [
    {
     "name": "stderr",
     "output_type": "stream",
     "text": [
      "/home/bukka/anaconda3/lib/python3.6/site-packages/ipykernel_launcher.py:15: DeprecationWarning: Call to deprecated `__getitem__` (Method will be removed in 4.0.0, use self.wv.__getitem__() instead).\n",
      "  from ipykernel import kernelapp as app\n"
     ]
    }
   ],
   "source": [
    "new_collection = create_collection(8, start_lr, lr_lists, 0.5, text_similarity_svm)"
   ]
  },
  {
   "cell_type": "code",
   "execution_count": 89,
   "metadata": {},
   "outputs": [
    {
     "name": "stdout",
     "output_type": "stream",
     "text": [
      "learn comparing areas plots land find area two rectangles solve word problem\n",
      "----------------------------------------------------------------\n",
      "lesson concept development draw the labeled tape diagram the board and give students the context have them write story problem based the tape diagram\n",
      "----------------------------------------------------------------\n",
      "solve draw tape diagram solve draw tape diagram number bond add subtract tens write the newnumber sentence\n",
      "----------------------------------------------------------------\n",
      "write statement express each conversion write statement express each conversion the first one done for you the screen measures inches convert inches feet inches inch feet feet feetthe screen measures inches feet jug syrup holds cups convert cups pints pints the length the diving board centimeters what its length meters meters the capacity container milliliters convert this liters liters truck weighs grams convertthe truck weight kilograms kilograms the distance was meters convertthe distance kilometers kilo meters\n",
      "----------------------------------------------------------------\n",
      "baseten baseten\n",
      "----------------------------------------------------------------\n",
      "labeling what\n",
      "----------------------------------------------------------------\n",
      "evaluate the equcation\n",
      "----------------------------------------------------------------\n",
      "how much would hours consult cost decorating consultant charges for the first hour and for each additional whole hour how much would hours consultation cost\n",
      "----------------------------------------------------------------\n"
     ]
    }
   ],
   "source": [
    "# print(new_collection)\n",
    "\n",
    "for i in new_collection:\n",
    "    print(i)\n",
    "    print(\"----------------------------------------------------------------\")"
   ]
  },
  {
   "cell_type": "code",
   "execution_count": 90,
   "metadata": {},
   "outputs": [
    {
     "name": "stdout",
     "output_type": "stream",
     "text": [
      "finding percent change practice practice finding percent change with answers kuta\n"
     ]
    },
    {
     "name": "stderr",
     "output_type": "stream",
     "text": [
      "/home/bukka/anaconda3/lib/python3.6/site-packages/ipykernel_launcher.py:15: DeprecationWarning: Call to deprecated `__getitem__` (Method will be removed in 4.0.0, use self.wv.__getitem__() instead).\n",
      "  from ipykernel import kernelapp as app\n"
     ]
    }
   ],
   "source": [
    "start_lr = lr_lists[random.randint(0,len(lr_lists))]\n",
    "print(start_lr)\n",
    "new_collection1 = create_collection(8, start_lr, lr_lists, 0.6, text_similarity_svm)"
   ]
  },
  {
   "cell_type": "code",
   "execution_count": 91,
   "metadata": {},
   "outputs": [
    {
     "name": "stdout",
     "output_type": "stream",
     "text": [
      "finding percent change practice practice finding percent change with answers kuta\n",
      "----------------------------------------------------------------\n",
      "complete each pattern complete each pattern\n",
      "----------------------------------------------------------------\n",
      "splitting the linear term introduce the following strategy splitting the linear term into two terms and regrouping and apply the second problem above\n",
      "----------------------------------------------------------------\n",
      "lesson ruling out chance explain writing what you learned about randomly divided groups from the last lesson\n",
      "----------------------------------------------------------------\n",
      "multiply whole numbers times fractions did you get the same answer using both methods\n",
      "----------------------------------------------------------------\n",
      "lesson describing the center distribution using the median suppose chain restaurant restaurant advertises that typical number french fries large bag\n",
      "----------------------------------------------------------------\n",
      "study the graphs below study the graphs below identify the parent function and the transformations that function depicted the second graph then write the formula for the transformed function\n",
      "----------------------------------------------------------------\n",
      "the circumference circle centimeters the circumference circle centimeters nbsp what the circle diameter hint use for centimeters\n",
      "----------------------------------------------------------------\n"
     ]
    }
   ],
   "source": [
    "for i in new_collection1:\n",
    "    print(i)\n",
    "    print(\"----------------------------------------------------------------\")"
   ]
  },
  {
   "cell_type": "code",
   "execution_count": 92,
   "metadata": {},
   "outputs": [
    {
     "name": "stdout",
     "output_type": "stream",
     "text": [
      "what fraction full turn what fraction full turn\n"
     ]
    },
    {
     "name": "stderr",
     "output_type": "stream",
     "text": [
      "/home/bukka/anaconda3/lib/python3.6/site-packages/ipykernel_launcher.py:15: DeprecationWarning: Call to deprecated `__getitem__` (Method will be removed in 4.0.0, use self.wv.__getitem__() instead).\n",
      "  from ipykernel import kernelapp as app\n"
     ]
    }
   ],
   "source": [
    "start_lr = lr_lists[random.randint(0,len(lr_lists))]\n",
    "print(start_lr)\n",
    "new_collection2 = create_collection(8, start_lr, lr_lists, 0.7, text_similarity_svm)"
   ]
  },
  {
   "cell_type": "code",
   "execution_count": 93,
   "metadata": {},
   "outputs": [
    {
     "name": "stdout",
     "output_type": "stream",
     "text": [
      "what fraction full turn what fraction full turn\n",
      "----------------------------------------------------------------\n",
      "pythagorean theorem side units long and the adjacent square has area units\n",
      "----------------------------------------------------------------\n",
      "sequence shown below what function that defines the nth term the sequence sequence shown below what function that defines the nth term the sequence\n",
      "----------------------------------------------------------------\n",
      "take out the tens decomposing whole numbers into tens and ones foundational for today lesson\n",
      "----------------------------------------------------------------\n",
      "consider the sequence that follows consider the sequence that follows plus pattern write formula for the sequence using both the notation and the notation does the formula generate the same sequence why might some people prefer thisformula graph the terms the sequence ordered pairs the coordinate plane what you noticeabout the graph\n",
      "----------------------------------------------------------------\n",
      "how much juice did brodie drink jamie drank times much juice brodie jamie drank milliliters juice how much juice did brodie drink\n",
      "----------------------------------------------------------------\n",
      "rectangular prism has top face with area rectangular prism has top face with area and height what the volume thisrectangular prism\n",
      "----------------------------------------------------------------\n",
      "definition the term multiplicative inverse during this lesson students continue make sense problems and persevere solving them\n",
      "----------------------------------------------------------------\n"
     ]
    }
   ],
   "source": [
    "for i in new_collection2:\n",
    "    print(i)\n",
    "    print(\"----------------------------------------------------------------\")"
   ]
  },
  {
   "cell_type": "code",
   "execution_count": 94,
   "metadata": {},
   "outputs": [
    {
     "name": "stdout",
     "output_type": "stream",
     "text": [
      "simplify the expression using one more properti simplify the expression using one more properties addition and multiplication left frac right left right left frac right left right\n"
     ]
    },
    {
     "name": "stderr",
     "output_type": "stream",
     "text": [
      "/home/bukka/anaconda3/lib/python3.6/site-packages/ipykernel_launcher.py:15: DeprecationWarning: Call to deprecated `__getitem__` (Method will be removed in 4.0.0, use self.wv.__getitem__() instead).\n",
      "  from ipykernel import kernelapp as app\n"
     ]
    }
   ],
   "source": [
    "start_lr = lr_lists[random.randint(0,len(lr_lists))]\n",
    "print(start_lr)\n",
    "new_collection3 = create_collection(8, start_lr, lr_lists, 0.8, text_similarity_svm)"
   ]
  },
  {
   "cell_type": "code",
   "execution_count": 95,
   "metadata": {},
   "outputs": [
    {
     "name": "stdout",
     "output_type": "stream",
     "text": [
      "simplify the expression using one more properti simplify the expression using one more properties addition and multiplication left frac right left right left frac right left right\n",
      "----------------------------------------------------------------\n",
      "suppose the times that five students studied suppose the times that five students studied for test are follows michelle said that the mad for this data set hours because the dot plot balanced around without doing any calculations you agree with michelle why why not\n",
      "----------------------------------------------------------------\n",
      "eight each two varieties tomato plants eight each two varieties tomato plants loveem and wonderful are grown under the same conditions\n",
      "----------------------------------------------------------------\n",
      "multiply\n",
      "----------------------------------------------------------------\n",
      "evaluate what\n",
      "----------------------------------------------------------------\n",
      "lesson reason concretely and pictorially using place value understanding relate adjacent base ten units from millions thousandths\n",
      "----------------------------------------------------------------\n",
      "and and nbsp find\n",
      "----------------------------------------------------------------\n",
      "the chart the right shows data the chart the right shows data amashi collected about butterfly wingspans the bottom this page create line plot todisplay the data the table what the difference wingspan between thewidest and narrowest butterflies the chart three butterflies have the same wingspan explainhow you know the measurements are equal solve each problem draw model write equation and write statement for each amashi wants display postman and viceroy side side photo box with width inches will these two butterflies fit explain how you know compare the wingspan the milbert tortoiseshell and the zebra swallowtail using the queen alexandra birdwing can have wingspan that times wide the southerndogface how many inches can the birdwing wingspan amashi discovered pattern she started with frac frac inches and added frac frac inch each measurement list the next four measurements her pattern name the five butterflies whose wingspans matchthe measurements her pattern\n",
      "----------------------------------------------------------------\n"
     ]
    }
   ],
   "source": [
    "for i in new_collection3:\n",
    "    print(i)\n",
    "    print(\"----------------------------------------------------------------\")"
   ]
  },
  {
   "cell_type": "code",
   "execution_count": 102,
   "metadata": {},
   "outputs": [
    {
     "name": "stdout",
     "output_type": "stream",
     "text": [
      "video formula for geometric series khan practice this lesson yourself khanacademy org right now https www khanacademy org math precalculus seq induction geometric sequence series geometric series utm source utm medium desc utm campaign precalculus watch the next lesson https www khanacademy org math precalculus seq indu\n"
     ]
    },
    {
     "name": "stderr",
     "output_type": "stream",
     "text": [
      "/home/bukka/anaconda3/lib/python3.6/site-packages/ipykernel_launcher.py:15: DeprecationWarning: Call to deprecated `__getitem__` (Method will be removed in 4.0.0, use self.wv.__getitem__() instead).\n",
      "  from ipykernel import kernelapp as app\n"
     ]
    }
   ],
   "source": [
    "start_lr = lr_lists[random.randint(0,len(lr_lists))]\n",
    "print(start_lr)\n",
    "new_collection4 = create_collection(8, \"solving systems equations using linear combinations addition method learn solve systems equations using the linear combination method\"\n",
    "                                    , lr_lists, 0.8, text_similarity_svm)"
   ]
  },
  {
   "cell_type": "code",
   "execution_count": 103,
   "metadata": {},
   "outputs": [
    {
     "name": "stdout",
     "output_type": "stream",
     "text": [
      "solving systems equations using linear combinations addition method learn solve systems equations using the linear combination method\n",
      "----------------------------------------------------------------\n",
      "jean luc jogged around the lake jean luc jogged around the lake frac frac hour william jogged the same distance frac frac hour how muchlonger did jean luc take than william hours\n",
      "----------------------------------------------------------------\n",
      "chris nbsp playing with die chris cups his chris nbsp playing with die chris cups his hand hopes for six and rolls six chris convinced that lucky taylor comes along drops another die the table and tells chris again with both them can easily with two with one says chris what the probability rolling six the probability what the probability rolling double sixes the probability\n",
      "----------------------------------------------------------------\n",
      "write statement express each conversion write statement express each conversion the first one done for you convert the number hours day tominutes hours hour minutes minutes one day has hours which the same minutes newborn giraffe weighs about kilograms how much does weigh grams the average height female giraffe meters what her height centimeters the capacity beaker liter convert thisto milliliters pig weighs pounds convert the pig sweight ounces marker meters long what the lengthin millimeters\n",
      "----------------------------------------------------------------\n",
      "lesson more modeling relationships with line the curb weight car the weight the car without luggage passengers\n",
      "----------------------------------------------------------------\n",
      "will the area the paper will the area the paper the top the folded stack larger smaller than postage stamp\n",
      "----------------------------------------------------------------\n",
      "lesson evaluating reports based data from experiment pericarditis inflammation irritation and swelling the pericardium the thin sac that surrounds the heart\n",
      "----------------------------------------------------------------\n",
      "triangle lmn right triangle and angles and are equal what the measure angle triangle lmn right triangle and angles and are equal what the measure angle\n",
      "----------------------------------------------------------------\n"
     ]
    }
   ],
   "source": [
    "for i in new_collection4:\n",
    "    print(i)\n",
    "    print(\"----------------------------------------------------------------\")"
   ]
  },
  {
   "cell_type": "code",
   "execution_count": null,
   "metadata": {},
   "outputs": [],
   "source": []
  },
  {
   "cell_type": "code",
   "execution_count": 96,
   "metadata": {},
   "outputs": [
    {
     "data": {
      "text/plain": [
       "17453"
      ]
     },
     "execution_count": 96,
     "metadata": {},
     "output_type": "execute_result"
    }
   ],
   "source": [
    "len(lr_lists)"
   ]
  },
  {
   "cell_type": "code",
   "execution_count": 101,
   "metadata": {},
   "outputs": [
    {
     "name": "stdout",
     "output_type": "stream",
     "text": [
      "lesson lesson summary when the relationship between two numerical variables and linear straight line can used describes the relationship\n",
      "linear regression model remember that module used graphing display calculator gdc find linear regression model\n",
      "lesson modeling context from data this real life descriptive modeling lesson about creating different types functions based data including linear quadratic and exponential\n",
      "powerpoint linear quadratic exponential powerpoint linear quadratic exponential\n",
      "some ordered pairs for linear function are given the table below which the following equations was used generate the table above some ordered pairs for linear function are given the table below which the following equations was used generate the table above\n",
      "number solutions equations one variable linear equations practice telling whether equation has one zero infinite solutions for example how many solutions does the equation\n",
      "linear inequalities linear inequality describes area the coordinate plane that has boundary line every point that region solution the inequality simpler speak linear inequality just everything one side line graph\n",
      "systems linear inequalities system linear inequalities two variables consists least two linear inequalities the same variables\n",
      "system two linear equations here system two linear equations verify that the solution this system equation equation\n",
      "write piecewise linear function that models there was snow the ground when started falling midnight constant rate inches per hour starting falling constant rate inches per hour and then from snow wasfalling constant rate inches per hour stopped snowing note this problem models snowfalling constant rate during each time period reality the snowfall rate might very close constant but isunlikely perfectly uniform throughout any given time period write piecewise linear function that models the depth snow function time since midnight create graph the function when was the depth the snow the ground inches how deep was the snow\n",
      "multiplying monomial and polynomial polynomials are expressions made with constants variables and positive integer exponents the variables factoring the breaking down polynomial into its linear factors\n",
      "lesson analyzing verbal description this lesson asks students recognize function type from verbal description context using linear quadratic and exponential functions and linear inequalities\n",
      "systems linear inequalities this khan academy video inequalities offers more information solving and manipulating systems inequalities\n",
      "consider two linear equations consider two linear equations the graph the first equation shown table values satisfying the secondequation given what the solution the system the two equations\n",
      "determine whether the statement always true determine whether the statement always true sometimes true never true the ordered pair solution system linear equations\n",
      "renting canoe costs plus per day the linear model for this situation relates the total cost renting canoe with the number days rented what number corresponds the slope the linear model renting canoe costs plus per day the linear model for this situation relates the total cost renting canoe with the number days rented what number corresponds the slope the linear model\n",
      "two step equation word problems khan academy presents basic linear equation word problem educational video resource math\n",
      "graphs two variable inequalities graph two variable linear inequalities\n",
      "solving linear systems graphing this khan academy video graphing offers more information graphing linear systems solve them\n",
      "zero product property find the answers for each the related questions below use what you know about the zero product property find the answers the area rectangle can represented the expression the dimensions the rectangleare known the linear factors the expression write each dimension this rectangle binomial write the area terms the product the two binomials draw and label diagram that represents the rectangle area suppose the rectangle area square units can you find the dimensions the rectangle rewrite the equation that equal zero and solve what are the actual dimensions the rectangle smaller rectangle can fit inside the first rectangle and has area that can represented theexpression the dimensions the rectangle are known the linear factors theexpression what are the dimensions the smaller rectangle terms what value for would make the smaller rectangle have area that the larger\n",
      "fair say that exponential fair say that exponential function always grows faster than linear\n",
      "linear model tony collected data the years employment and the annual salaries the salespeople company made scatterplot and drew trend line that approximated the line best fit for the data shown below nbsp based the trend line drawn for the data what the salary salesperson with years employment company can expect earn\n",
      "lesson choosing model focus linear quadratic sinusoidal and exponential models this lesson\n",
      "lesson geometric sequences and exponential growth and decay algebra students learned interpret arithmetic sequences linear functions and geometric sequences exponential functions but both simple contexts only\n",
      "lesson analyzing graph this lesson asks students recognize function type from graph from the function library studied this year linear exponential quadratic cubic square root cube root absolute value and other piecewise functions and formulate analytical symbolic model\n",
      "arithmetic sequences sometimes called linear why are arithmetic sequences sometimes called linear sequences\n",
      "use the polynomial remainder theorem use the prt polynomial remainder theorem determine the factors polynomials and their remainders when divided linear expressions\n",
      "interpret arithmetic sequences algebra students learned interpret arithmetic sequences linear functions and geometric sequences exponential functions but both simple contexts only\n",
      "the sum two numbers the sum two numbers and the difference what are the numbers create system two linear equations represent this problem and what the solution the system and\n",
      "the floor ceiling function and your knowledge use the floor ceiling function and your knowledge transformations write piecewise linear function whose graph shown below\n",
      "systems linear equations this webpage resource offers few graphs demonstrating real life examples graphing equations included are the answers the posed questions check for understanding\n",
      "graph two variable linear inequality fun math practice improve your skills with free problems graph two variable linear inequality and thousands other practice lessons\n",
      "systems inequalities word problems watch this khan academy systems inequalities word problems for real world examples algebraic systems linear inequalities and graphing\n",
      "rate change when someone purchases new car and begins drive the mileage meaning the number miles the car has traveled immediately increases let represent the number years since the car was purchased and represent the total miles traveled the linear function that models the relationship between the number years since purchase and the total miles traveled nbsp what the rate change\n",
      "compare the expansion this binomial product now compare the expansion this binomial product the one above nbsp the expression lying between the two arrows before the like terms are combined can seethe coefficients the split linear terms also notice that for this example wehave coefficients both terms the factors and that one the coefficients not have and the factors the leading coefficient the expanded form and and the factorsof the constant term get ready for quadratic expressions factored form where neither the term coefficients are how this product different from the first example how similar why are the split linear terms different the two examples now that have four different numbers coefficients each form the expression how can use thenumbers the expanded form the quadratic expression the right find the numbers the factors onthe left\n",
      "practice graphing systems inequalities graph systems two practice graphing systems inequalities ariable linear inequalities and check solution using the graph\n",
      "solving linear systems substitution video about solving linear systems substitution\n",
      "kudzu perennial vine native southeast kudzu perennial vine native southeast asia now covers large area the southern united states kudzu was promoted forage crop and ornamental plant when was introduced the the philadelphia centennial exposition many southern farmers were encouraged plant kudzu for erosion control from the mid the mid kudzu was removed from the department agriculture list permissible cover plants due its recognition invasive species look information about kudzu the wikipedia and write short page report the growth kudzu since its introduction your report choose function linear exponential model and graph the growth kudzu hectares the per year over the past half century remember cite your sources\n",
      "slope intercept form this video depicts the ways graph linear equation solving for plotting the intercept the constant and locating other points using the slope the coefficient\n",
      "simplifying linear expressions practice worksheet math worksheets land presents simplifying linear expressions practice worksheet educational handout resource math\n",
      "what you think scatter plot what you think scatter plot with the strongest possible linear relationship might look like positiverelationship draw scatter plot with five points that illustrates this how would scatter plot that shows the strongest possible linear relationship that negative look different fromthe scatter plot that you drew the previous question\n",
      "solving systems linear equations review game super teacher tools presents solving systems equations jeopardy educational interactive resources math\n",
      "how you add two fractions with the same denomin virtual nerd patent pending tutorial system provides context information hints and links supporting tutorials synchronized with videos each minutes long this non linear system users are free take whatever path through the material best serves their needs these unique feat\n",
      "factoring linear expressions learn how apply the distributive property factor out the greatest common factor from algebraic expression like practice this lesson yourself\n",
      "kudzu perennial vine native southeast kudzu perennial vine native southeast asia now covers large area the southern united states kudzu waspromoted forage crop and ornamental plant when was introduced the the philadelphia centennialexposition many southern farmers were encouraged plant kudzu for erosion control from the mid tothe mid kudzu was removed from the department agriculture list permissible cover plantsdue its recognition invasive species look information about kudzu the wikipedia and write short page report the growth kudzusince its introduction your report choose function linear exponential model and graph the growth kudzu hectares the per year over the past half century remember cite your sources\n",
      "simultaneous linear equations how solve simultaneous equations the method addition the method substitution cramer rule the method determinants\n",
      "graph linear inequalities identify the equation that matches the linear inequality graphed below\n",
      "parallel lines from equation this khan academy video you will determine which pairs out few given linear equations are parallel\n",
      "what convenient method what convenient method for identifying whether sequence numbers could modeled using linear exponential quadratic function\n",
      "graphing find solutions explains step step how graph linear equations first identifying the slope and the intercept giving several examples\n",
      "study found the correlation between the heights study found the correlation between the heights men and the heights their biological sons what the approximate value and what does this value tell you the approximate value leading zero decimal places and represents the proportion the variability sons heights that can explained the approximate linear relationship between fathers heights and sons heights\n",
      "solving linear inequalities word problems source purple math\n",
      "recall the parking problem recall the parking problem from the opening exercise write piecewise linear function using step functions that models the cost parking parking for hours write piecewise linear function that models the cost parking blue line parking for hours evaluate each function and hours your answers agree with the work the opening exercise not refine your model there time where both models have the same parking cost support your reasoning with graphs and orequations apply your knowledge transformations write new function that would represent the result across the board increase hourly rates parking hint draw its graph first and then use the graphto help you determine the step functions and domains\n",
      "solve linear and quadratic systems step step examples with diagrams and several practice problems students will learn about systems linear and quadratic equations this interactive\n",
      "linear equations word problems solve word problems about real world relationships that are given formulas\n",
      "complete the following construction complete the following construction the space below plot non collinear points and draw and plot point and draw the remaining sides such that quadrilateral symmetric about\n",
      "explain his error kirkland says that figure below quadrilateral because has four points the same plane and four segments with three endpoints collinear explain his error\n",
      "graphing linear equations making chart finding plot points graphing linear equations pretty simple but only you work neatly you messy you often make extra work for yourself and you frequently get the wrong answer walk you through few examples follow pattern and you should fine\n",
      "linear exponential growth given verbal description real world relationship determine whether that relationship linear exponential\n",
      "proof linear model tony collected data the years employment and the annual salaries the salespeople company made scatterplot and drew trend line that approximated the line best fit for the data shown below tony expects his salary about after has been employed salesperson company for years use the trend line and your answer from part question determine tony salary expectation reasonable not\n",
      "pairs linear equations this lesson answers the questions how solve system equations graphically how solve system equation algebraically what linear system how find solution system linear equations how can system have infinite number solutions how solve equation with variables both sides\n",
      "linear growth and decay learn everything you ever wanted know about linear growth and decay this lesson from mrs aitken integrated math\n",
      "simplifying linear expressions math worksheets land presents simplifying linear expressions guided lesson educational handout resource math\n",
      "linear inequalities identify the equations that represent this graph\n",
      "equations linear inequalities you can work more than hours each week your two jobs housecleaning pays per hour and your sales job pays per hour you need earn least each week pay your bills write system inequalities that shows the various numbers hours you can work each job use both the and housecleaning job sales job equation for hours equation for money\n",
      "for each the following for each the following residual plots what conclusion would you reach about the relationship between the variables the original data set indicate whether the values would better represented linear nonlinear relationship\n",
      "system equations interactive system linear equations and the solution the system equations\n",
      "the following graph shows the revenue the following graph shows the revenue income company makes from designer coffee mugs and the total cost including overhead maintenance machines etc that the company spends make the coffee mugs how are revenue and total cost related the number units coffee mugs produced what the meaning the point the total cost line what are the coordinates the intersection point what the meaning this point this situation create linear equations for revenue and total cost terms units produced and sold verify the coordinatesof the intersection point profit for selling units equal revenue generated selling units minus the total cost ofmaking units what the company profit units are produced and sold\n",
      "slope from linear standard form find the slope line that given standard form for example find the slope\n",
      "interpret the rate change slope the context construct function model linear relationship between two quantities determine the rate change and initial value the function from description relationship from two values including reading these from table from graph\n",
      "the factors the leading coefficient now compare the expansion this binomial product the one above the expression lying between the two arrows before the like terms are combined can seethe coefficients the split linear terms also notice that for this example wehave coefficients both terms the factors and that one the coefficients not have and the factors the leading coefficient the expanded form and and the factorsof the constant term get ready for quadratic expressions factored form where neither the term coefficients are now need place those numbers into the parentheses for the factors that the product matches theexpanded form the quadratic expression here template for finding the factors using what call theproduct sum method\n",
      "solve linear equations solve linear equations with rational number coefficients including equations whose solutions require expanding expressions using the distributive property and collecting like terms\n",
      "solve two step linear equations ixl presents solve two step linear equations educational activity resource math\n",
      "what type model biologists conducted study the nesting behavior type bird called flycatcher they examined large numberof nests and recorded the latitude for the location the nest and the number chicks the nest what type model linear quadratic exponential would best describe the relationship between latitude andmean number chicks\n",
      "how the average rates change how the average rates change help support your argument whether linear exponential model better suited for the data\n",
      "how calculate correlation here tutorial help you find the correlation coefficient your graphing calculator this part part will talk more about linear regression\n",
      "determine linear expression certain business marketing its product and has collected data sales and prices forthe past few years the company determined that when raised the selling price theproduct the number sales went down the cost producing single item nbsp using the data the company collected this table determine linearexpression represent the quantity sold\n",
      "lesson interpreting correlation this lesson introduces students the correlation coefficient measure the strength linear relationship between two numerical values\n",
      "the constant proportionality the constant proportionality just sounds like scary concept not learning this will help you understand linear equations down the road the way\n",
      "consider the following scatter plot consider the following scatter plot for problems and there relationship between finish time and age are the data points scattered you think there relationship between finish time and age does look linear\n",
      "word problems linear inequalities suppose teacher earns money with simple formula for each day shows school and for each math assessment that his students pass identify the graph that matches this scenario\n",
      "callie observation correct callie observation correct why why not joe observation correct why why not use the world population graph estimate the percent increase world population from now use the population graph estimate the percent increase the population for the same timeperiod how does the percent increase for the world population compare that for the population over the sametime period the graphs above seem indicate linear exponential population growth explain your response write explicit formula for the sequence that models the world population growth from basedon the information the graph assume that the population millions was and was use represent the number years after\n",
      "the data points scattered consider the following scatter plot for problems and mare female horse and foal baby horse there relationship between foal birth weight and amare weight are the data points scattered there relationship between baby birth weight and mother weight does the relationship look linear\n",
      "complete the word puzzle suppose that social scientists conducted study senior citizens see how the time minutes required solve aword puzzle changes with age the scatter plot below displays data from this study let equal the age the citizen and equal the time minutes required solve word puzzle for the seven studyparticipants what type model linear quadratic exponential would you use describe the relationship between age andtime required complete the word puzzle exponential\n",
      "real world problems equation problems solve mathematical problems leading two linear equations two variables for example given coordinates for two pairs points determine whether the line through the first pair points intersects the line through the second pair\n",
      "strength linear relationships strength linear relationships\n",
      "examples linear inequalities two variables emathzone presents examples linear inequalities two variables educational reference material resource math\n",
      "linear factors yes each cubic function could written product three linear factors\n",
      "what the meaning you earned from employer your social security tax rate was your income ifyou earned over you paid fixed amount write piecewise linear function represent the social security taxes for incomes between and how much social security tax would someone who made owe how much money would you have made you paid social security tax what the meaning what the value\n",
      "using separate sheet graph paper using separate sheet graph paper plot the solution sets the following equations and inequalities nbsp nbsp nbsp nbsp nbsp nbsp which the inequalities this exercise are linear inequalities\n",
      "the following table contains population data the following table contains population data for the two most recent census years and steve thinks the data should modeled linear function what the average rate change population per year according this data write formula for linear function estimate the population years since the year phillip thinks the data should modeled exponential function what the growth rate the population per year according this data write formula for exponential function estimate the population years since the year who has the correct model how you know\n",
      "video interpreting rate change sal discusses how would about making sense the direction linear graph that represents relationship between two real world quantities\n",
      "lesson lesson summary graphing stories with quantities that change constant rate can represented using piecewise linear equation\n",
      "determine whether the statement always true determine whether the statement always true sometimes true never true one the equations system two linear equations then can substituted for the other equation the system\n",
      "lesson lesson summary expect from the context that each new term the sequence data constant added the previous term then try linear model\n",
      "proportional relationships equations and graphs tutorial for grade math students how the concept building stairs the same way they can graph linear relationship all the examples the tutorial are proportional due the line going through the origin\n",
      "writing and graphing linear inequalities braingenie presents writing and graphing linear inequalities given word problem educational activity resource math\n",
      "the graph the exploratory challenge the graph the exploratory challenge made combining pieces nine linear functions piecewise linear function each linear function defined over interval time represented the horizontal axis select the nine time intervals\n",
      "writing linear equations this worksheet contains slope intercept practice questions with answers the last two sheets\n",
      "exponential function this table students should see that not constant for any two inputs that have difference unit which implies that the function cannot linear function\n",
      "the relevance the pattern the residual plot linear model not the best fit for the first and second scatter plots what type model might more appropriate\n",
      "the linear relationship scatter plot the linear relationship scatter plot positive negative the linear relationship scatter plot positive negative\n",
      "graphing lines slope intercept introduce how graph line slope intercept form also discuss graphing vertical and horizontal lines please check out other lessons about linear functions standard form line https www youtube com watch emr\n",
      "word problems linear inequalities suppose you are going coinstar cash all your pennies and nickels that you saved jar nbsp the coinstar machine charges for the transaction and you only want make this trip you can walk away with your pocket you know that your jar coins can hold coins maximum write system inequalities that represents this situation let nbsp represent the number pennies the jar lety nbsp represent the number nickels the jar equation for coins equation for the amount careful not use any spaces the equation\n",
      "solve the linear equation solve the linear equation nbsp\n",
      "when the value the correlation coefficient when the value the correlation coefficient positive when the value the correlation coefficient negative the linear relationship stronger when the correlation coefficient closer\n",
      "lesson lesson summary looking the structure quadratic equation missing linear terms perfect squares factored expressions you can find clues for the best method solve\n",
      "number solutions linear equations khan academy presents number solutions linear equations educational video resource math\n",
      "multi step linear inequalities solve linear inequalities that take multiple steps solve\n",
      "linear model finding slope tony collected data the years employment and the annual salaries the salespeople company made scatterplot and drew trend line that approximated the line best fit for the data shown below what the slope the trend line that tony drew\n",
      "answer the following question the graph shown below describes the change the average temperature the world over time this graph shows positive linear relationship\n",
      "finding the slope and intercept explanation and example how find the slope and intercept linear equation\n",
      "quadratic functions lesson far our study algebra have discovered all the ins and outs linear equations and functions know that linear equations graph straight line wonder what quadratic function going look like\n",
      "answer for following question the relationship displayed scatter plot positive linear relationship does the value the variable tend toincrease decrease the value increases you were describe this relationship using line would the linehave positive negative slope the relationship displayed scatter plot negative linear relationship the value one the variablesincreases what happens the value the other variable you were describe this relationship using line would the line have positive negative slope what does mean say that there positive linear relationship between two variables what does mean say that there negative linear relationship between two variables\n",
      "linear functions\n",
      "graphing linear equations and functions this textbook chapter introduces the coordinate plane graphs linear equation graphing using intercepts slope and rate change graphing using slope intercept form direct variation and linear function graphs includes practice problems\n",
      "comparing rates explain why exponential growth will always exceed linear growth exponential growth involves values that grow common ratio ormultiplier this means that the growth from one value the next depends onthe previous value the larger the quantity gets the faster grows contrastthat with linear growth which involves growing constant amount overeach interval since linear involves constant growth and exponential involvesgrowth that gets larger and larger exponential functions will always overtake linear functions\n",
      "video analyze linear tables this lesson you will learn define linear functions analyzing tables the forms and\n",
      "skills and applications this webpage links viewers worksheet with problems practicing writing linear equations given two points\n",
      "predicting with linear models this khan academy video offers more information prediction with linear models and contains few sample problems with step step walkthrough solving these problems\n",
      "linear function word problems ixl presents linear function word problems educational activity resource math\n",
      "following table contains additional census this challenge continues examine census data select and refine model for thepopulation the united states over time the following table contains additional census population data would more appropriate model thisdata with linear exponential function explain your reasoning\n",
      "practice comparing linear functions compare features two linear functions represented different ways\n",
      "identify linear quadratic and exponential functions from tables fun math practice improve your skills with this interactive resource from ixl immersive learning experience that provides comprehensive standards aligned content for math language arts science and social studies\n",
      "how you graph linear equation making table graphing function would really helpful you had table values that fit your equation you could plot those values coordinate plane and connect the point make your graph see all this tutorial\n",
      "compound inequalities solve compound linear inequalities for example solve\n",
      "solving linear systems graphing the khan academy presents solving linear systems graphing\n",
      "graphing linear inequalities two variables example graphing linear inequalities two variables\n",
      "linear inequalities regions you learned how graph linear inequality and before talking about what solution and how find them there more than one you need become familiar with what region\n",
      "the princeton review publishes inform the princeton review publishes information about colleges and universities the data below are for six public yearcolleges new york graduation rate the percentage students who graduate within six years student facultyratio the number students per full time faculty member calculate the value the correlation coefficient between the number full time students and graduationrate round the nearest hundredth the linear relationship between graduation rate and number full time students weak moderate orstrong what did you base your decision the following statement true false based the value the correlation coefficient reasonable toconclude that having larger number students school the cause higher graduation rate calculate the value the correlation coefficient between the student faculty ratio and the graduationrate round the nearest hundredth which linear relationship stronger graduation rate and number full time students graduation rateand student faculty ratio justify your choice\n",
      "khan lesson graphing standard form sal introduces the standard form linear equations and compares other known forms slope intercept and point slope\n",
      "examine the total number sightings examine the total number sightings data which model appears better fit for the data linear exponential explain your reasoning\n",
      "finding unit rate from graph this lesson answers the question what unit rate how find unit rate how can point graph represent unit rate how can simplify unit rate how can analyze linear relationship graph how can\n",
      "which model would better fit for which model would better fit for the data linear exponential why\n",
      "linear equations and modeling designed quickly and accurately connect users with the educational resources they need\n",
      "linear equations solve frac frac left frac frac right frac frac left frac frac right\n",
      "graphing systems inequalities this khan academy video describes graphing systems linear inequalities\n",
      "high school counselor large public high sch high school counselor large public high school interested developing model predict sat math scores takes random sample seniors the school who took the sat exam and recorded sat math score the number math courses completed the high school and the number science courses completed the high school for each the students the sample computer output resulting from fitting linear regression model given below from the computer output this means that about the variability can attributed approximate linear relationship between the and sat score\n",
      "lesson graphs piecewise linear functions show the first minutes the video below telling the class that the goal simply describe words the motion the man\n",
      "graph the exponential function your mathematics teacher asks you sketch graph the exponential function for numberbetween and inclusively using scale units one inch for both the and axes what are the dimensions feet the roll paper needed sketch this graph how many more feet paper would you need add the roll order graph the function the interval find that the linear function greater than for all such that but\n",
      "consider the sky crane descent portion consider the sky crane descent portion the landing sequence create linear function model the curiosity rover altitude function time what two points did you choose create your function compare the slope your function the velocity should they equal explain why why not use your linear model determine the altitude one minute before landing how does compare your earlier estimate explain any differences you found\n",
      "rectangular plot land that shares boundary two mathematicians are neighbors each owns separate rectangular plot land that shares boundary and has the same dimensions they agree that each has area square units one mathematician sells his plot the other the other wants put fence around the perimeter his new combined plot land how many linear units fencing does need write your answer expression note this question has two correct approaches and two different correct solutions can you find them both\n",
      "solving systems equations using linear combinations addition method learn solve systems equations using the linear combination method\n",
      "learn how solve two variable linear inequalities including absolute value inequalities systems linear inequalities two variables graphing and solution\n",
      "lesson systems equations students solve systems linear equations two variables and systems linear and quadratic equation two variables\n",
      "linear exponential function graph for each table problems classify the data describing linear relationship exponential growth relationship exponential decay relationship neither\n",
      "lesson modeling relationships with line lesson introduced the concept using linear functions model the relationship between two numerical variables\n",
      "piecewise defined linear function given non overlaping intervals the real number line real piecewise linear function function from the union the intervals the real number line that defined possibly different linear functions each intervals\n",
      "understanding linear and exponential models watch the following video understand the difference between linear and exponential models\n",
      "key terms solving linear equations key terms solving linear equations\n",
      "the linear relationship scatter plot the linear relationship scatter plot positive negative the linear relationship scatter plot positive negative also common describe the strength linear relationship would say that the linear relationship scatter plot weaker than the linear relationship scatter plot why you think the linear relationship scatter plot considered weaker than the linear relationship scatter plot nbsp\n",
      "initial value when someone purchases new car and begins drive generally speaking the resale value the car dollars goes down each year let represent the number years since purchase and represent the resale value the car dollars the linear function that models the resale value based the number years since purchase nbsp what the initial value\n",
      "rate change when someone purchases new car and begins drive generally speaking the resale value the car dollars goes down each year let represent the number years since purchase and represent the resale value the car dollars the linear function that models the resale value based the number years since purchase nbsp what the rate change\n",
      "linear equations point slope form khan academy video linear equations and point slope form\n",
      "lesson lesson summary given linear function the form and exponential function the form abx for real number and constants and consider the sequence given and the sequence given where both these sequences can written recursively\n",
      "how graph linear function this lesson answers the questions how graph function how graph linear function what the difference between linear function and quadratic function what slope intercept form how find the intercept how find slope how graph line what the equation line\n",
      "algebra linear equations linear equations with multiple variable and constant terms\n",
      "exploratory challenge write down another system two linear equations and whose solution this time make sure both linear equations have positive slope verify that the solution this system two linear equations graph equation and are either equivalent the original explain your reasoning add and create new equation then multiply create new equation why thesolution this system also explain your reasoning\n",
      "linear equations linear equation equation for straight line\n",
      "write piecewise linear function parking problem given below write piecewise linear function using step functions that models the cost parking parking for hours write piecewise linear function that models the cost parking blue line parking for hours evaluate each function and hours your answers agree with the work the different parking option not refine your model there time where both models have the same parking cost support your reasoning with graphs and orequations apply your knowledge transformations write new function that would represent the result across the board increase hourly rates parking hint draw its graph first and then use the graphto help you determine the step functions and domains\n",
      "systems how many solutions does the system linear equations graphed below have\n",
      "rewriting linear expressions match the expressions their meaning this example reinforcing our knowledge linear expressions practice this lesson yourself khanacadem\n",
      "solve the linear equation solve the linear equation\n",
      "algebra linear equations equations the form\n",
      "lesson lesson summary the difference constant then the data set could modeled linear function\n",
      "lesson lesson summary linear relationships are often described terms strength and direction\n",
      "the graphs function that involves taking the graphs function that involves taking absolute value and linear function are shown the right both functions are defined over all real values for tami concluded that the equation has solution you agree disagree explain your reasoning\n",
      "amusement park charges for admission and for each ride ticket you have how many ride tickets can you buy which these represents linear model for this problem amusement park charges for admission and for each ride ticket you have how many ride tickets can you buy which these represents linear model for this problem\n",
      "how does relate the product sum method learned method today for factoring difficult factor quadratic expressions using tabular model and splitting the linear term how does relate the product sum method\n",
      "the following statement linear inequality the following statement linear inequality one variable frac frac\n",
      "write the function exploratory challenge reexamine your work exploratory challenge and exercises and from this lesson given below parts and ofexploratory challenge asked how the equations and could graphed with the help thestrategic points found part given below this problem investigate whether possible determine the graphs and working with the piecewise linear function directly write the function exploratory challenge piecewise linear function let use the graph you sketched exploratory challenge given below part write theformula for the function piecewise linear function let use the graph you sketched exploratory challenge given below part write theformula for the function piecewise linear function compare the piecewise linear functions and the piecewise linear function did the expressionsdefining each piece change how did the domains each piece change how\n",
      "expand linear expression using gcf this lesson answers the question how can expand expression how can find gcf what greatest common factor how can check answer how can generate equivalent expression\n",
      "word problems linear inequalities suppose you are going coinstar cash all your pennies and nickels that you saved jar the coinstar machine charges for the transaction and you only want make this trip you can walk away with your pocket you know that your jar coins can hold coins maximum identify all the possible combinations\n",
      "linear equations without graphing construct system two linear equations where solution the first equationbut not solution the second equation and solution the system graph the system and label the graph show that the system you created part satisfies the givenconditions\n",
      "consider again data set consider again data set giving the shoe lengths and heights adult men this data set shown the table below use your calculator graphing program construct the scatter plot this data set include the least squares lineon your graph explain what the slope the least squares line indicates about shoe length and height use your calculator construct the residual plot for this data set make sketch the residual plot the axes given below does the scatter points the residual plot indicate alinear relationship the original data set explain your answer\n",
      "lesson obstacles resolved surprising result write each the following quadratic expressions product linear factors verify that the factored form equivalent\n",
      "linear functions could the table pairs have been generated linear function\n",
      "consider the story may june consider the story may june and july were running the track may started first and ran steady pace every min june started min later than may and ran steady pace every min july started min after june andran steady pace running the first lap frac frac min she maintained this steady pace for more laps andthen slowed down lap every min sketch may june and july distance versus time graphs coordinate plane create linear equations that represent each girl mileage terms time minutes you will need twoequations for july since her pace changes after laps who was the first person run did june and july pass may the track they did when and what mileage did july pass june the track she did when and what mileage\n",
      "answer based the scatter based the scatter plot you think that the value the correlation coefficient between sodium content andcalories per serving will positive negative explain why you made this choice based the scatter plot estimate the value the correlation coefficient between sodium content and calories perserving calculate the value the correlation coefficient between sodium content and calories per serving round thenearest hundredth interpret this value for these fast food items the linear relationship between fat content and number calories stronger orweaker than the linear relationship between sodium content and number calories does this surprise you explain why why not\n",
      "plotting relationships this video from khan academy demonstrates how plot relationships shows how create graph from the linear equation\n",
      "algebraic solutions linear systems this section shows methods for solving linear systems equations\n",
      "linear quadratic and exponential functions they formulate model that can used analyze the function its context for this lesson they not beyond the second step the modeling cycle but focus recognition and formulation only\n",
      "graphing linear equations questions test student understanding positive negative zero and undefined slope well the rise over run concept\n",
      "which ordered pair solution the following system linear equations which ordered pair solution the following system linear equations\n",
      "word problems linear inequalities suppose teacher earns money with simple formula nbsp for each day shows school and for each math assessment that his students pass suppose the teacher planned attending days school nbsp how many assessments would have pass that could reach his write the solution inequality careful not use any spaces the equation more assessments must passed reach higher\n",
      "systems linear equations many problems lend themselves being solved with systems linear equations real life these problems can incredibly complex this one reason why linear algebra the study linear systems and related concepts its own branch mathematics\n",
      "simplifying linear expressions solutions math worksheets land presents simplifying linear expressions guided lesson explanation educational handout resource math\n",
      "three types functions research linear quadratic and exponential functions using the internet for each the three types functions provide example problem situation you found the internet where that function was used model the situation answer the problem include the actual function used the example and web page where you found the example\n",
      "choosing method for solving linear systems youtube presents choosing method for solving linear systems educational video resource math\n",
      "word problems linear inequalities suppose teacher earns money with simple formula nbsp for each day shows school and for each math assessment that his students pass write inequality that represents all the possible ways that the teacher could earn more this year let nbsp represent the days the teacher shows lety nbsp represents the number assessments his students pass equation nbsp careful not use any spaces the equation\n",
      "graph the count bacteria have students share the differences between linear quadratic and exponential graphs first with partner and then class\n",
      "suppose two cars are travelling north suppose two cars are travelling north along road car travels constant speed mph for two hours thenspeeds and drives constant speed mph for the next hour the car breaks down and the driver has tostop and work for two hours when gets running again continues driving recklessly constantspeed mph car starts the same time that car starts but car starts farther north than car and travels constant speed mph throughout the trip sketch the distance versus time graphs for car and car coordinate plane start with time andmeasure time hours approximately when the cars pass each other tell the entire story the graph from the point view car what does the driver car see along theway and when create linear equations representing each car distance terms time hours note that you will needfour equations for car and only one for car use these equations find the exact coordinates when thecars meet\n",
      "what area virtual nerd virtual nerd patent pending tutorial system provides context information hints and links supporting tutorials synchronized with videos each minutes long this non linear system users are free take whatever path through the material best serves their needs these unique feat\n",
      "practice the equation linear non linear practice problems the equation linear non linear summit created\n",
      "age and time complete the word puzzle suppose that social scientists conducted study senior citizens see how the time minutes required solve aword puzzle changes with age the scatter plot below displays data from this study let equal the age the citizen and equal the time minutes required solve word puzzle for the seven studyparticipants what type model linear quadratic exponential would you use describe the relationship between age andtime required complete the word puzzle one model that could describe the relationship between age and time complete the word puzzle this exponential curve shown the scatter plot below does this model good job ofdescribing the relationship between age and time complete the word puzzle explain why why not based this exponential model what time would you predict for person who years old\n",
      "video calculate rate change standard form sal introduces the standard form linear equations and compares other known forms slope intercept and point slope\n",
      "then sketch graph the quadratic curve biologists conducted study the nesting behavior type bird called flycatcher they examined large numberof nests and recorded the latitude for the location the nest and the number chicks the nest what type model linear quadratic exponential would best describe the relationship between latitude andmean number chicks one model that could used describe the relationship between mean number chicks and latitude where represents the latitude the location the nest and represents thenumber chicks the nest use the quadratic model complete the following table then sketch graph thequadratic curve the scatter plot the beginning the problem set based this quadratic model what the best latitude for hatching the most flycatcher chicks justify your choice\n",
      "suppose that problem above car suppose that problem above car travels the constant speed mph the entire time sketch the distance versus time graphs for the two cars graph below the cars ever pass each other what the linear equation for car this case\n",
      "lesson comparing linear and exponential models again this lesson has students compare and contrast the two functions solidify their understanding each\n",
      "linear inequality math warehouse presents linear inequality educational activity resource math\n",
      "linear equations solve frac frac frac frac\n",
      "eduardo employers eduardo has summer job that pays him certain rate for the first hours per week and time and half for anyovertime the graph below representation how much money earns function the hours works inone week eduardo employers want make him salaried employee which means does not get overtime they wantto pay him per week but have him commit hours week should agree the salary change justifyyour answer mathematically formulate what type function can represented graph like this quadratic linear exponential piecewise square root cube root how would you describe the end behavior the graph the context this problem iii how does this affect the equation our function compute what strategy you plan use come with the model for this context find the function this graph show all your work interpret how much does eduardo make hour looking only the graphs which interval has greater average rate change justify your answer making connections the graph and its verbal description iii eduardo employers want make eduardo salaried employee which means does not get overtime they want pay him per week but have him commit hours week should agree thesalary change justify your answer mathematically validatehow can you check make sure your function models the graph accurately\n",
      "initial value when someone purchases new car and begins drive the mileage meaning the number miles the car has traveled immediately increases let represent the number years since the car was purchased and represent the total miles traveled the linear function that models the relationship between the number years since purchase and the total miles traveled nbsp what the initial value and what its meaning\n",
      "some linear relationships are stronger than others introduce the scatter plots the example\n",
      "practice linear models data worksheet linear models data\n",
      "graphing linear functions standard form two example problems graphing linear functions standard form two intercept method\n",
      "sketch graph the exponential function your mathematics teacher asks you sketch graph the exponential function frac frac for numberbetween and inclusively using scale units one inch for both the and axes what are the dimensions feet the roll paper needed sketch this graph how many more feet paper would you need add the roll order graph the function the interval find that the linear function greater than for all such that but\n",
      "general form one variable linear equation have students start with solving the general form one variable linear equation for\n",
      "why you need the residual plot what does the residual plot for example indicate about using linear model\n",
      "video how calculate correlation here tutorial help you find the correlation coefficient your graphing calculator this part part will talk more about linear regression\n",
      "basic linear equation word problem khan academy presents basic linear equation word problem educational video resource math\n",
      "how the equations and how the equations and could graphed with the help thestrategic points found part this problem investigate whether possible determine the graphs and working with the piecewise linear function directly write the function exploratory challenge piecewise linear function let use the graph you sketched exploratory challenge part write theformula for the function piecewise linear function let use the graph you sketched exploratory challenge part write theformula for the function piecewise linear function compare the piecewise linear functions and the piecewise linear function did the expressionsdefining each piece change how did the domains each piece change how\n",
      "below are three scatter plots below are three scatter plots each one represents data set with eight observations the scales the and axes have been left off these plots purpose you have think carefully about therelationships one these scatter plots represents the relationship between height and weight for eight adults which scatterplot you think and why one these scatter plots represents the relationship between height and sat math score for eight high schoolseniors which scatter plot you think and why one these scatter plots represents the relationship between the weight car and fuel efficiency for eightcars which scatter plot you think and why which these three scatter plots does not appear represent linear relationship explain the reasoning behindyour choice\n",
      "lesson graphs piecewise linear functions create elevation versus time graphing story for the following graph\n",
      "geometry lesson building blocks geometry this video teaches students how identify points lines and planes the terms segment ray angle collinear intersect intersection and coplanar are defined\n",
      "recognizing linear functions recognizing linear functions\n",
      "write linear exponential function for each table below assume the function defined for all real numbers calculate the last column the tables below and show your work the symbol this context means change what you notice about could the function linear exponential write linear exponential function formula that generates the same input output pairs given the table\n",
      "rewriting linear expressions this video shows how rewrite linear expressions gives examples and step step solutions\n",
      "school club visits museum student tickets cost each while non student tickets cost each the club paid for tickets write linear model for this situation school club visits museum student tickets cost each while non student tickets cost each the club paid for tickets write linear model for this situation\n",
      "linear function graphs the graphs below represent linear function answer yes for each graph\n",
      "solve the linear equation solve the linear equation please write your answer fraction\n",
      "determine linear expression use student responses from above derive the following steps class\n",
      "lesson solving exponential equations students use technology calculate logarithmic values and graph linear and exponential functions\n",
      "lesson linear systems three variables determine the value and the following systems equations\n",
      "the minnow population increasing linearly river has initial minnow population that growing per year due environmental conditions the amount algae that minnows use for food decreasing supporting fewer minnows each year currently there enough algae support minnows the minnow population increasing linearly exponentially the amount algae decreasing linear exponential rate what year will the minnow population exceed the amount algae available\n",
      "lesson linear systems three variables students solve linear systems three variables algebraically\n",
      "which system linear equations graphed which system linear equations graphed\n",
      "nour and leo teacher gave them system nour and leo teacher gave them system linear equations solve they each took few steps that led the systems shown the table below teacher nour leo which system has the same solution the teacher system choose answer\n",
      "lesson interpreting correlation linear relationships can described either positive negative below are two scatter plots that display linear relationship between two numerical variables and\n",
      "beginning algebra graphing linear equations youtube presents beginning algebra graphing linear equations educational video resource math\n",
      "systems linear inequalities solutions these systems how find the solution linear inequality functions\n",
      "slideshow the function linear non linear slideshow the function linear non linear summit created\n",
      "two step inequality word problems practice constructing interpreting and solving linear inequalities that model real world situations\n",
      "system linear equations activity students graph system equations solve problem about cell phone plans\n",
      "approaches solving systems linear equations this video school shows how solve systems equations graphing substitution and elimination\n",
      "the minnow population river has initial minnow population that growing per year due environmentalconditions the amount algae that minnows use for food decreasing supporting fewer minnows eachyear currently there enough algae support minnows the minnow population increasing linearly orexponentially the amount algae decreasing linear exponential rate what year will the minnowpopulation exceed the amount algae available\n",
      "infinitely many solutions learn how solve multi step linear inequalities having parenthesis inequality statement which one value not equal the other value inequality linear when the highest exponent its variable there exponent its variable multi step linear inequality inequality which multiple steps operations are performed obtain the solution\n",
      "linear functions practice this example linear function used describe situation\n",
      "the population the country the population the country was the year the population expected grow factorof annually the annual food supply currently sufficient for population people and isincreasing rate that will supply food for additional people per year write formula model the population your formula linear exponential write formula model the food supply the formula linear exponential what point does the population exceed the food supply justify your response doubled its current food supply million would shortages still take place explain doubles both its beginning food supply and doubles the rate which the food supply increases wouldfood shortages still take place explain\n",
      "two linear equations two variables the previous exercises solved systems two linear equations two variables using the method elimination\n",
      "function that involves taking absolute value the graphs function that involves taking absolute value and linear function are shown the right both functions are defined over all real values for tami concluded that the equation has solution you agree disagree explain your reasoning\n",
      "how did you figure out the slope your linear how did you figure out the slope your linear equations from the story why was shirley slope negative\n",
      "complete the following construction complete the following construction the space below plot non collinear points and draw overline overline overline overline and plot point and draw the remaining sides such that quadrilateral symmetric about\n",
      "constructed pendulums various lengths science class students constructed pendulums various lengths and then recorded the time required for thependulum complete one full oscillation out and back the results aredisplayed the table shown below jack looks the first three rows the table and says that linearfunction should used model the data based the data doyou agree with him justify your reasoning create scatter plot length versus oscillation time based the scatter plot what sort function might used model the data williams the science teacher tells the students that the oscillation time for pendulum can foundusing the formula frac frac where the length the pendulum meters and the oscillation time seconds does this formula support the results from the table explain looking the table values what effect does quadrupling the length the pendulum have the oscillationtime use the formula from part demonstrate why this the case\n",
      "graphing using slope intercept form create quick and easy graphs for linear equations using slope intercept form\n",
      "lesson comparing linear and exponential for each table below assume the function defined for all real numbers calculate the last column the tables below and show your work\n",
      "math planet the elimination method for solving linear systems article about solving systems elimination includes video\n",
      "statistics class the teacher wanted statistics class the teacher wanted show the students that humans are not good guessing estimating quantities she displayed series clear containers with different numbers gumballs inside and asked each student guess the number gumballs one the containers large number students participated this study the data was then used produce the following residual plot nbsp comment the appropriateness linear model for these data\n",
      "algebra linear equations khan academy presents algebra linear equations educational video resource math\n",
      "cfu solve equations one step solve the linear equation nbsp\n",
      "solve linear relationship person can pay for membership the science museum and then the museum for just what the maximum number visits member the science museum can make for total cost the maximum number visits member can make would visits\n",
      "compare linear and exponential models this table format allows students compare linear and exponential models several ways\n",
      "text graphing linear system article about systems linear equations\n",
      "find the and intercepts the linear equatio find the intercept and the intercept the linear equation the intercept the intercept\n",
      "solving linear systems combinations these multiple choice questions focus solving linear systems using the combination method also known the elimination addition method there are questions each with button view the solution and check your work\n",
      "linear and nonlinear functions you may recall equation whose graph straight line called linear function\n",
      "the following system equations the following system equations was obtained from the original system adding multiple equation equationa equation equation what multiple was added create what the solution the system two linear equations formed and equivalent the original explain your reasoning start with equation multiply number your choice and add the result equation thiscreates new equation record below check the solution equation equation\n",
      "video what conditional probability virtual nerd patent pending tutorial system provides context information hints and links supporting tutorials synchronized with videos each minutes long this non linear system users are free take whatever path through the material best serves their needs these unique feat\n",
      "forms linear equations this lesson teach engineering students learn about direct variation slope intercept form standard form and point slope form\n",
      "consider the three scatter plots above consider the three scatter plots above place them order from the one that shows the strongest linearrelationship the one that shows the weakest linear relationship explain your reasoning for choosing the order above mention question\n",
      "which the three scatter plots which the three scatter plots below shows the strongest linear relationship which shows the weakest linear relationship\n",
      "not every relationship linear when straight line provides reasonable summary the relationship between two numerical variables say thatthe two variables are linearly related that there linear relationship between the two variables take look the scatter plots below and answer the questions that follow there relationship between the number cell phone calls and age does look like the data points arescattered there relationship between the number cell phone calls and age does the relationship appear linear there relationship between moisture content and frying time the data points look scattered there relationship between moisture content and frying time does the relationship look linear scatter plot shows data for the prices bike helmets and the quality ratings the helmets based scale thatestimates helmet quality there relationship between quality rating and price are the data points scattered there relationship between quality rating and price for bike helmets does the relationship appear linear\n",
      "how does relate the product sum method learned method today for factoring difficult factor quadratic expressions using tabular model andsplitting the linear term how does relate the product sum method\n",
      "solving linear systems using elimination this narrated animation from pearson provides explanation for how solve linear systems using elimination\n",
      "straight line equations slope intercept form straight line equations linear equations graph straight lines and have simple variable expressions with exponents them you see equation with only and opposed say sqrt then you dealing with straight line equation\n",
      "you are buying vegetables make tray for party you buy worth cauliflower and broccoli the cauliflower costs per pund and the broccoli costs per pund write linear model for the total cost you are buying vegetables make tray for party you buy worth cauliflower and broccoli the cauliflower costs per pund and the broccoli costs per pund write linear model for the total cost nbsp\n",
      "solving real world problems with linear equations here you learn how solve real world problems whose equations are straight lines either point slope slope intercept standard form this video demonstrates sample use solving real world problems with linear equations this part algebra writing linear equations\n",
      "lesson lesson summary relationship between two numerical variables can described linear nonlinear relationship\n",
      "the context regression analysis which the context regression analysis which the following statements are true when the data set includes influential point the data set nonlinear influential points always reduce the coefficient determination iii all outliers are influential data points nbsp\n",
      "linear nonlinear functions determine relationship linear nonlinear\n",
      "lesson lesson summary while there are several steps involved splitting the linear term relatively more efficient and reliable method for factoring trinomials comparison simple guess and check\n",
      "how solve systems linear equations this lesson answers the question how solve linear equation how can model pair linear equations how can solve pairs simultaneous linear equations how can solve linear equations real world problems\n",
      "lesson lesson summary pattern the residual plot indicates that the relationship the original data set not linear\n",
      "positive and negative linear relationships example positive and negative linear relationships\n",
      "marti sells tacos and burritos marti sells tacos and burritos from food truck the farmers market she sells burritos for each and tacosfor each she hopes earn least the farmers market this saturday identify three combinations tacos and burritos that will earn marti more than identify three combinations tacos and burritos that will earn marti exactly identify three combinations tacos and burritos that will not earn marti least graph your answers parts the coordinate plane and then shade half plane that contains allpossible solutions this problem create linear inequality that represents the solution this problem let equal the number burritos thatmarti sells and let equal the number tacos that marti sells the point solution the inequality you created part explain your reasoning\n",
      "check for understanding piecewise nonlinear given the graph nonlinear piecewise function find its formula\n",
      "solving linear inequalities this video solving linear inequalities introduces and explains what linear inequalities are and works through examples\n",
      "basketball team scored points game each field goal points and each free throw poit the team scored point field goals write linear model for the number points sored terms field goals and free throws basketball team scored points game each field goal points and each free throw poit the team scored point field goals write linear model for the number points sored terms field goals and free throws nbsp\n",
      "how solve linear equations elimination http facebook com tylersokay http twitter com tylertarver how solve linear equations elimination essentially when you have two linear equations and you want find the coordinate that they cross\n",
      "systems linear equations activity solve system linear equations graphing and finding the intersection the lines the equations create system equations examine its graph matrix and table values and determine the solution the system\n",
      "answer the questions that follow when straight line provides reasonable summary the relationship between two numerical variables say thatthe two variables are linearly related that there linear relationship between the two variables take look the scatter plots below and answer the questions that follow there relationship between the number cell phone calls and age does look like the data points arescattered there relationship between the number cell phone calls and age does the relationship appear linear\n",
      "video define linear function using graph this lesson you will learn define linear functions comparing graphs\n",
      "california population projection california population projection engineer was tasked with finding model that predictsthe state population growth modeled the population growth function time yearssince census data shows that the population thousands was the population the state california was thousand decided explore both alinear and exponential model use the data provided determine the equation the linear function that modelsthe population growth from use the data provided and your calculator determine the equation the exponential function that modelsthe population growth\n",
      "two linear equations are parallel they have the same slope two linear equations are parallel they have the same slope nbsp\n",
      "fill the missing number complete the linear fill the missing number complete the linear equation that gives the rule for this table\n",
      "graph linear inequalities identify the graph the following equation\n",
      "the following statement linear inequality the following statement linear inequality one variable\n",
      "estimate when the two boys pass each other the graph shows glenn distance from home rode his bicycle toschool which just down his street his next door neighbor pablo wholives closer the school leaves his house the same time asglenn walks constant velocity and they both arrive school atthe same time graph linear function that represents pablo distance from glenn shome function time estimate when the two boys pass each other write piecewise linear functions represent each boy distance and use them verify your answer part\n",
      "sketch and sketch and are there values and that the graph linear function described contains and find those values not explain why they not exist\n",
      "cross section view deep river gorge the cross section view deep river gorge modeled the graph shown below where both height and distanceare measured miles how long bridge that spans the gorge from the point labeled the other side how high above the bottom the gorge the bridge formulate what type function can represented graph like this quadratic linear exponential piecewise square root cube root what are the quantities this problem iii how would you describe the end behavior the graph what general form for this function type how does knowing the function type and end behavior affect the equation the function for this graph what the equation would use model this graph\n",
      "using linear combinations solve using linear combinations solve\n",
      "powerpoint linear exponential powerpoint linear exponential\n",
      "calculator tip how linear regression regression modeling the process finding function that approximates the relationship between the two variables two data lists the table shows the types\n",
      "consider the story may june consider the story may june and july were running the track may started first and ran steady pace every min june started min later than may and ran steady pace every min july started min after june andran steady pace running the first lap min she maintained this steady pace for more laps andthen slowed down lap every min sketch may june and july distance versus time graphs coordinate plane create linear equations that represent each girl mileage terms time minutes you will need twoequations for july since her pace changes after laps who was the first person run did june and july pass may the track they did when and what mileage did july pass june the track she did when and what mileage\n",
      "system linear equations variables system equation just means more than equation system linear equations just more than line see the picture\n",
      "explain why this true try answer the following without solving for and first you always get the same solution matter which two the four equations you choose from problem form asystem two linear equations explain why this true\n",
      "example graphing find solution learn how solve system equations graphing solve system equations means obtain common value and common value that makes the each the equation the system true solve system equations graphing means obtain the point intersection any the graphs each the equation that make the system graph linear equation set the equation the slope intercept form and then graph the intercept and obtain the line using the slope\n",
      "website solving two step linear equations website solving two step linear equations\n",
      "practice questions linear equations six questions solving linear systems graphing all are open ended and one word problem sure check your answers when you are finished\n",
      "linear equations solve frac frac frac frac frac frac\n",
      "how many linear factors guaranteed have consider the degree polynomial function whose graph shown below you not need factor thispolynomial answer the questions below how many linear factors guaranteed have explain\n",
      "sketch points and sketch points and are there values and such that the graph the linear function described contains and find those values not explain why they not exist\n",
      "eduardo employers eduardo has summer job that pays him certain rate for the first hours per week and time and half for anyovertime the graph below representation how much money earns function the hours works inone week eduardo employers want make him salaried employee which means does not get overtime they wantto pay him per week but have him commit hours week should agree the salary change justifyyour answer mathematically formulate what type function can represented graph like this quadratic linear exponential piecewise square root cube root how would you describe the end behavior the graph the context this problem iii how does this affect the equation our function\n",
      "answer based the scatter the consumer reports study also collected data sodium content and number calories per serving for thesame fast food items the data represented the table and scatter plot below based the scatter plot you think that the value the correlation coefficient between sodium content andcalories per serving will positive negative explain why you made this choice based the scatter plot estimate the value the correlation coefficient between sodium content and calories perserving calculate the value the correlation coefficient between sodium content and calories per serving round thenearest hundredth interpret this value for these fast food items the linear relationship between fat content and number calories stronger orweaker than the linear relationship between sodium content and number calories does this surprise you explain why why not\n",
      "california population projection california population projection engineer was tasked with finding model that predictsthe state population growth modeled the population growth function time yearssince census data shows that the population thousands was the population the state california was thousand decided explore both alinear and exponential model does either model closely predict the population for what phenomenon explains the real populationvalue\n",
      "linear function how can identify quadratic function from its data\n",
      "graph from linear standard form find the graph linear equation given standard form\n",
      "chapter writing linear equations chapter this textbook basic algebra students will learn how write linear equation\n",
      "exploring linear relationships this video from khan academy sal creates equation and graph represent and solve word problem demonstrates how model linear relationship\n",
      "find linear and exponential model you only have two data points how should you decide which type function use model the data\n",
      "also common describe the strength also common describe the strength linear relationship would say that the linear relationship scatterplot weaker than the linear relationship scatter plot why you think the linear relationship scatter plot considered weaker than the linear relationship scatterplot\n",
      "how write linear equations given two points long you given two points you can write liner equation just few quick moments write linear equations given two points with help from experienced math teacher this free video clip\n",
      "classify the data describing linear relations classify the data describing linear relationship exponential growth relationship exponential decay relationship neither the relationship linear calculate the constant rate change slope and write formula for the linear function that models the data the function exponential calculate the commonquotient for input values that are distance one apart and write the formula for the exponential function that models thedata for each linear exponential function found graph the equation\n",
      "linear exponential function using calculator joanna made the following table and then made the following conjecture always greaterthan joanna correct explain\n",
      "chapter linear inequalities this text from introduces mathematical concepts relating linear inequalities such compound inequalities and absolute value equations\n",
      "video comparing linear functions khan academy presents comparing linear functions educational video resource math\n",
      "lesson linear and exponential models linear and exponential models\n",
      "california population projection california population projection engineer was tasked with finding model that predictsthe state population growth modeled the population growth function time yearssince census data shows that the population thousands was the population the state california was thousand decided explore both alinear and exponential model use the two functions predict the population for the following years which function better model for the population growth california and\n",
      "describing linear relationship exponential how can you tell whether input output pairs table are describing linear relationship exponential relationship\n",
      "graph linear equation using table values finding table values for linear equation two variables\n",
      "lesson modeling context from data identify the type function that each table appears represent quadratic linear exponential square root\n",
      "lesson solution sets simultaneous equations write down another system two linear equations and whose solution this time make sure both linear equations have positive slope\n",
      "linear equations word problems tables solve word problems about real world relationships that are given tables\n",
      "video linear transformation only watch from\n",
      "graphs piecewise linear functions draw the graph piecewise function determine its formula from its graph\n",
      "which these two models does better job below scatter plot the data with two linear models and which these two models does better job describing how shoe length and height are related explain your choice\n",
      "website systems linear equations definitions this word also joins two more equations inequalities\n",
      "glenn distance from home rode his bicycle the graph shows glenn distance from home rode his bicycle toschool which just down his street his next door neighbor pablo wholives closer the school leaves his house the same time asglenn walks constant velocity and they both arrive school atthe same time graph linear function that represents pablo distance from glenn shome function time estimate when the two boys pass each other write piecewise linear functions represent each boy distance and use them verify your answer part\n",
      "comparing linear exponential and quadratic models text comparing linear exponential and quadratic models article about comparing linear exponential and quadratic models\n",
      "step understand linear growth step understand linear growth\n",
      "solving systems linear equations using the substitution method series practice problems learners use the substitution method solve systems linear equations also called simultaneous linear equations tagged\n",
      "there relationship between moisture content when straight line provides reasonable summary the relationship between two numerical variables say thatthe two variables are linearly related that there linear relationship between the two variables take look the scatter plots below and answer the questions that follow there relationship between moisture content and frying time the data points look scattered there relationship between moisture content and frying time does the relationship look linear\n",
      "answer the following question the plot shown below describes the relationship between students scores the first exam class and their corresponding scores the second exam the class line was fit the data model the relationship which these linear equations best describes the given model you may need calculator\n",
      "rate problems linear sometimes the rate combined with constant part flat fee for example taxi service charges plus per mile times the mileage these equations use the form\n",
      "could the table pairs could the table pairs have been generated linear function choose answer\n",
      "equations linear inequalities fuel costs per gallon and fuel costs per gallon you have most spend fuel write and graph system linear inequalities represent this situation use both the and fuel fuel equation for price gallons gallons\n",
      "draw graph for the elevation time video watch the nbsp video elevations time nbsp shows man climbing down aladder that high time sec his shoes are above the floor and time sec his shoes are fromtime sec the sec mark drinks some water thestep off the ground after drinking the water takes sec descend the ground and then walks into the kitchen the videoends the sec mark nbsp draw your own graph for this graphing story use straight line segments your graph model the elevationof the man over different time intervals label your axis and axis appropriately and give title for yourgraph nbsp your picture example graph piecewise linear function each linear function defined over aninterval time represented the horizontal axis list those time intervals your graph part what does horizontal line segment represent the graphing story you measured from the top the man head instead tall how would your graph change suppose the ladder descends into the basement the apartment the top the ladder ground level and the base the ladder below ground level how would your graph change observing theman following the same motion descending the ladder what his average rate descent between time sec and time sec what was his average rate ofdescent between time sec and time sec over which interval does descend faster describe howyour graph part can also used find the interval during which descending fastest\n",
      "write piecewise linear function write piecewise linear function using step functions that models your group assigned parking rate theopening exercise assume that the car there for any part the next time period then that period counted infull hours counted hours days counted days etc helena collected all the parking tickets from one day during the summer help her analyze ways increase parkingrevenues and used that data create the table shown below the table displays the number tickets turned foreach time and cost category the four different parking lots\n",
      "linear equation table the equation line expresses relationship between and values the coordinate plane for instance the equation expresses relationship where every value has the exact same value\n",
      "what the difference what the difference between the way linear function increases and the way exponential function increases\n",
      "lesson linear and exponential models sketch points and are there values and such that the graph the linear function described contains and find those values not explain why they not exist\n",
      "lesson lesson summary linear polynomial determined points its graph\n",
      "study the growth sparrows data were study the growth sparrows data were gathered the wing length and age days sparrows regression was performed with the following results the value squared this suggests that the variability wing length can explained the linear relationship with age days sparrows\n",
      "rates change consider example part restrict the linear function the positive integers and consider the sequence the sequence\n",
      "equations linear inequalities mary babysits for per hour she also works tutor for per hour she only allowed work hours per week she wants make least write and graph system inequalities represent this situation use both the and babysitting tutoring equation for hours equation for money careful not use any spaces the equation\n",
      "which the following two scatter which the following two scatter plots shows the stronger linear relationship\n",
      "intermediate algebra this tutorial will specifically looking systems that have two equations and two unknowns tutorial solving systems linear equations three variables will cover systems that have three equations and three unknowns\n",
      "video analyze linear graphs this lesson you will learn define linear functions analyzing graphs the forms and\n",
      "what can say about increasing what can say about increasing exponential function when compared with increasing linear function\n",
      "word problems linear inequalities suppose you are going coinstar cash all your pennies and nickels that you saved jar the coinstar machine charges for the transaction and you only want make this trip you can walk away with your pocket you know that your jar coins can hold coins maximum identify the graph that matches this scenario\n",
      "algebra solving inequalities this video from khan academy explores algebraic concepts related solving linear equalities and includes illustrative examples\n",
      "identify the function identify the type function that eachtable appears represent quadratic linear exponential squareroot explain how you were able identifythe function find the symbolic representation thefunction plot the graphs your data\n",
      "practice solving multi step linear equations check for understanding solving multi step linear inequalities kuta\n",
      "there relationship between quality when straight line provides reasonable summary the relationship between two numerical variables say thatthe two variables are linearly related that there linear relationship between the two variables take look the scatter plots below and answer the questions that follow scatter plot shows data for the prices bike helmets and the quality ratings the helmets based scale thatestimates helmet quality there relationship between quality rating and price are the data points scattered there relationship between quality rating and price for bike helmets does the relationship appear linear\n",
      "systems linear equations real life and their solutions cell phone plans cab rides real world systems equations this webpage resource offers few graphs demonstrating real life examples graphing equations included are the answers the posed questions check for understanding\n",
      "library parent functions identify and graph linear and squaring functions\n",
      "module linear functions this module was written for pre algebra algebra class mind will lead students through the process graphing data and finding line best fit while simultaneously exploring the characteristics linear equations algebraic and graphic\n"
     ]
    }
   ],
   "source": [
    "for i in lr_lists:\n",
    "    if(\"linear\" in i):\n",
    "        print (i)"
   ]
  },
  {
   "cell_type": "code",
   "execution_count": 104,
   "metadata": {},
   "outputs": [
    {
     "name": "stdout",
     "output_type": "stream",
     "text": [
      "leah years older than sue and john years older than leah and the total their ages then how old sue leah years older than sue and john years older than leah and the total their ages then how old sue\n"
     ]
    },
    {
     "name": "stderr",
     "output_type": "stream",
     "text": [
      "/home/bukka/anaconda3/lib/python3.6/site-packages/ipykernel_launcher.py:15: DeprecationWarning: Call to deprecated `__getitem__` (Method will be removed in 4.0.0, use self.wv.__getitem__() instead).\n",
      "  from ipykernel import kernelapp as app\n"
     ]
    },
    {
     "name": "stdout",
     "output_type": "stream",
     "text": [
      "leah years older than sue and john years older than leah and the total their ages then how old sue leah years older than sue and john years older than leah and the total their ages then how old sue\n",
      "----------------------------------------------------------------\n",
      "lesson use metric measurement model the decomposition one whole into tenths\n",
      "----------------------------------------------------------------\n",
      "compound sample spaces explore the notion sample space see sample space represented tree diagram table and list\n",
      "----------------------------------------------------------------\n",
      "video percent word problems khan academy presents percent word problems educational video resource math\n",
      "----------------------------------------------------------------\n",
      "application problem aneisha setting play space for her new puppy\n",
      "----------------------------------------------------------------\n",
      "constructing the number line the purpose this exercise let students construct the number line positive and negative numbers and zero using compass\n",
      "----------------------------------------------------------------\n",
      "demolition division demolition division helps students learn division tanks with division problems move toward your blaster\n",
      "----------------------------------------------------------------\n",
      "solve for solve for frac frac\n",
      "----------------------------------------------------------------\n"
     ]
    }
   ],
   "source": [
    "start_lr = lr_lists[random.randint(0,len(lr_lists))]\n",
    "print(start_lr)\n",
    "new_collection6 = create_collection(8, start_lr, lr_lists, 0.7, text_similarity_svm)\n",
    "for i in new_collection6:\n",
    "    print(i)\n",
    "    print(\"----------------------------------------------------------------\")\n"
   ]
  },
  {
   "cell_type": "code",
   "execution_count": 105,
   "metadata": {},
   "outputs": [
    {
     "name": "stdout",
     "output_type": "stream",
     "text": [
      "video inequalities with word problems writing inequalities using information from the word problems\n"
     ]
    },
    {
     "name": "stderr",
     "output_type": "stream",
     "text": [
      "/home/bukka/anaconda3/lib/python3.6/site-packages/ipykernel_launcher.py:15: DeprecationWarning: Call to deprecated `__getitem__` (Method will be removed in 4.0.0, use self.wv.__getitem__() instead).\n",
      "  from ipykernel import kernelapp as app\n"
     ]
    },
    {
     "name": "stdout",
     "output_type": "stream",
     "text": [
      "video inequalities with word problems writing inequalities using information from the word problems\n",
      "----------------------------------------------------------------\n",
      "the absolute value any number the absolute value any number will always positive number positive numbers will always have higher absolute value than negative numbers\n",
      "----------------------------------------------------------------\n",
      "another way make the same total value another way make the same total value\n",
      "----------------------------------------------------------------\n",
      "rates proportional relationships variety questions about rates and proportional relationships involving graphs tables and equations\n",
      "----------------------------------------------------------------\n",
      "the long division algorithm for polynomial division when solving the problem example sure record the polynomial division problem next the arithmetic problem already the board\n",
      "----------------------------------------------------------------\n",
      "graph the equation the coordinate plane aliyah purchasing produce the farmers market she plans buy worth potatoes and some apples the apples cost per pound\n",
      "----------------------------------------------------------------\n",
      "nina made triangle cutting the corner off sheet paper one angle what the measure the third angle nina triangle nina made triangle cutting the corner off sheet paper one angle what the measure the third angle nina triangle\n",
      "----------------------------------------------------------------\n",
      "use the coordinate plane use the coordinate plane answer the following name the shape each location coordinate coordinate shape circle diamond triangle heart which shape units from the axis star which shape has the same and coordinate square\n",
      "----------------------------------------------------------------\n"
     ]
    }
   ],
   "source": [
    "start_lr = lr_lists[random.randint(0,len(lr_lists))]\n",
    "print(start_lr)\n",
    "new_collection6 = create_collection(8, start_lr, lr_lists, 0.7, text_similarity_svm)\n",
    "for i in new_collection6:\n",
    "    print(i)\n",
    "    print(\"----------------------------------------------------------------\")\n"
   ]
  },
  {
   "cell_type": "code",
   "execution_count": 106,
   "metadata": {},
   "outputs": [
    {
     "name": "stdout",
     "output_type": "stream",
     "text": [
      "change mixed numbers improper fractions this fluency activity reviews module concepts\n"
     ]
    },
    {
     "name": "stderr",
     "output_type": "stream",
     "text": [
      "/home/bukka/anaconda3/lib/python3.6/site-packages/ipykernel_launcher.py:15: DeprecationWarning: Call to deprecated `__getitem__` (Method will be removed in 4.0.0, use self.wv.__getitem__() instead).\n",
      "  from ipykernel import kernelapp as app\n"
     ]
    },
    {
     "name": "stdout",
     "output_type": "stream",
     "text": [
      "change mixed numbers improper fractions this fluency activity reviews module concepts\n",
      "----------------------------------------------------------------\n",
      "lesson solution sets simultaneous circle all the ordered pairs that are solutions the inequality below\n",
      "----------------------------------------------------------------\n",
      "graphing lines sketch the graph each line\n",
      "----------------------------------------------------------------\n",
      "draw show how children can equally share draw show how children can equally share cookies write equation and express your answer asa fraction\n",
      "----------------------------------------------------------------\n",
      "lesson lesson summary the range the tangent function all real numbers\n",
      "----------------------------------------------------------------\n",
      "video interpreting transformation explain interpreting the graph transformation with video tutorials and quizzes using our many ways approach from multiple teachers this lesson shows how determine how function was transformed observing the graphs the original and transformed functions\n",
      "----------------------------------------------------------------\n",
      "lesson multiply any whole number fraction using tape diagrams\n",
      "----------------------------------------------------------------\n",
      "what the range the secant the definition the secant function offered below answer the questions better understandthis definition and the domain and range this function prepared discuss your responses withothers your class what the range the secant function how this range related the range thecosine function the secant function periodic function what its period\n",
      "----------------------------------------------------------------\n"
     ]
    }
   ],
   "source": [
    "start_lr = lr_lists[random.randint(0,len(lr_lists))]\n",
    "print(start_lr)\n",
    "new_collection6 = create_collection(8, start_lr, lr_lists, 0.7, text_similarity_svm)\n",
    "for i in new_collection6:\n",
    "    print(i)\n",
    "    print(\"----------------------------------------------------------------\")\n"
   ]
  },
  {
   "cell_type": "code",
   "execution_count": 107,
   "metadata": {},
   "outputs": [
    {
     "name": "stdout",
     "output_type": "stream",
     "text": [
      "find how many times greater the surface area the surface area jupiter and the surface area earth without using acalculator but using the table logarithms find how many times greater the surface area jupiter than the surfacearea earth\n"
     ]
    },
    {
     "name": "stderr",
     "output_type": "stream",
     "text": [
      "/home/bukka/anaconda3/lib/python3.6/site-packages/ipykernel_launcher.py:15: DeprecationWarning: Call to deprecated `__getitem__` (Method will be removed in 4.0.0, use self.wv.__getitem__() instead).\n",
      "  from ipykernel import kernelapp as app\n"
     ]
    },
    {
     "name": "stdout",
     "output_type": "stream",
     "text": [
      "find how many times greater the surface area the surface area jupiter and the surface area earth without using acalculator but using the table logarithms find how many times greater the surface area jupiter than the surfacearea earth\n",
      "----------------------------------------------------------------\n",
      "effects bracing adolescents the role bracing patients with adolescent idiopathic scoliosis who are risk for curve progression and eventual surgery controversial\n",
      "----------------------------------------------------------------\n",
      "david was when marieka was born david was when marieka was born complete the table\n",
      "----------------------------------------------------------------\n",
      "what the weight one chair pounds solve using tape diagrams table and chairs weigh together the table weighs what the weight onechair pounds\n",
      "----------------------------------------------------------------\n",
      "evaluate evaluate uwhen and frac frac\n",
      "----------------------------------------------------------------\n",
      "david the groundskeeper triangle park david the groundskeeper triangle park scale shown below david needs cut the grass four times month how many square yards grass will cutaltogether each month during the winter the triangular park and adjacent square parking lot are flooded with water andallowed freeze that people can ice skating what the area the ice\n",
      "----------------------------------------------------------------\n",
      "the line graph the right was created boyd checks the gauge his home fuel tank the first day every month the line graph theright was created using the data collected according the graph during whichmonth does the amount fueldecrease most rapidly the boyds took month long vacation during which month did this mostlikely occur explain how you knowusing the data the graph boyd fuel company filled his tankonce this year during which monthdid this most likely occur explain howyou know the boyd family fuel tank holds gallons fuel when full how many gallons fuel did theboyds use february boyd pays per gallon fuel what the cost the fuel used february and march\n",
      "----------------------------------------------------------------\n",
      "what the area the park park times long wide the distance around the park kilometers what the areaof the park\n",
      "----------------------------------------------------------------\n"
     ]
    }
   ],
   "source": [
    "start_lr = lr_lists[random.randint(0,len(lr_lists))]\n",
    "print(start_lr)\n",
    "new_collection6 = create_collection(8, start_lr, lr_lists, 0.7, text_similarity_svm)\n",
    "for i in new_collection6:\n",
    "    print(i)\n",
    "    print(\"----------------------------------------------------------------\")\n"
   ]
  },
  {
   "cell_type": "code",
   "execution_count": 108,
   "metadata": {},
   "outputs": [
    {
     "name": "stdout",
     "output_type": "stream",
     "text": [
      "eyeballing the line best fit given random assortment points draw line best fit through them\n"
     ]
    },
    {
     "name": "stderr",
     "output_type": "stream",
     "text": [
      "/home/bukka/anaconda3/lib/python3.6/site-packages/ipykernel_launcher.py:15: DeprecationWarning: Call to deprecated `__getitem__` (Method will be removed in 4.0.0, use self.wv.__getitem__() instead).\n",
      "  from ipykernel import kernelapp as app\n"
     ]
    },
    {
     "name": "stdout",
     "output_type": "stream",
     "text": [
      "eyeballing the line best fit given random assortment points draw line best fit through them\n",
      "----------------------------------------------------------------\n",
      "how many ounces does each kitten weigh solve liza cat had six kittens when liza and her brother weighed all the kittens together they weighed pounds ounces since all the kittens are about the same size about how many ounces does each kittenweigh\n",
      "----------------------------------------------------------------\n",
      "striped marlin can swim rate miles striped marlin can swim rate miles per hour this faster slower rate than sailfish which takes minutes swim miles\n",
      "----------------------------------------------------------------\n",
      "find the selling price each item company offers off everything the store but there sales tax costumer wantssome items that have retail value how much will the costumer pay\n",
      "----------------------------------------------------------------\n",
      "how much money does krista need give malory use the rdw process solve write your answer decimal krista has dollars and cents malory has dollars and cents how much money does krista need togive malory that each them has the same amount money\n",
      "----------------------------------------------------------------\n",
      "using the equation below using the equation below draw tape diagram and create your own word problem solve for the valueof the variable\n",
      "----------------------------------------------------------------\n",
      "solve the following solve the following\n",
      "----------------------------------------------------------------\n",
      "comprehensive intro randomness and probability comprehensive introduction randomness and probability\n",
      "----------------------------------------------------------------\n"
     ]
    }
   ],
   "source": [
    "start_lr = lr_lists[random.randint(0,len(lr_lists))]\n",
    "print(start_lr)\n",
    "new_collection6 = create_collection(8, start_lr, lr_lists, 0.7, text_similarity_svm)\n",
    "for i in new_collection6:\n",
    "    print(i)\n",
    "    print(\"----------------------------------------------------------------\")\n",
    "\n",
    "    "
   ]
  },
  {
   "cell_type": "code",
   "execution_count": 109,
   "metadata": {},
   "outputs": [
    {
     "name": "stdout",
     "output_type": "stream",
     "text": [
      "what the length the shaded part what the length the shadedpart the meter stick incentimeters what fraction meter centimeters fraction form express the lengthof the shaded portion the meterstick decimal form express the length the shaded portion the meter stick what fraction meter centimeters\n"
     ]
    },
    {
     "name": "stderr",
     "output_type": "stream",
     "text": [
      "/home/bukka/anaconda3/lib/python3.6/site-packages/ipykernel_launcher.py:15: DeprecationWarning: Call to deprecated `__getitem__` (Method will be removed in 4.0.0, use self.wv.__getitem__() instead).\n",
      "  from ipykernel import kernelapp as app\n"
     ]
    },
    {
     "name": "stdout",
     "output_type": "stream",
     "text": [
      "what the length the shaded part what the length the shadedpart the meter stick incentimeters what fraction meter centimeters fraction form express the lengthof the shaded portion the meterstick decimal form express the length the shaded portion the meter stick what fraction meter centimeters\n",
      "----------------------------------------------------------------\n",
      "absolute value and opposite integers fun math practice improve your skills with this interactive resource from ixl immersive learning experience that provides comprehensive standards aligned content for math language arts science and social studies\n",
      "----------------------------------------------------------------\n",
      "barb used her scissors cut out coupon barb used her scissors cut out coupon from the newspaper how many quarter turns does she need turn the paper order stay the lines\n",
      "----------------------------------------------------------------\n",
      "completion the exercise graph the number and its opposite the number line graph the number and its opposite the number line\n",
      "----------------------------------------------------------------\n",
      "problem problem frac frac frac frac\n",
      "----------------------------------------------------------------\n",
      "identify the domain and the range the following identify the domain and the range the following function graphed below\n",
      "----------------------------------------------------------------\n",
      "lesson overcoming obstacles factoring the teacher may want consider displaying gcf poster the classroom wall for reference\n",
      "----------------------------------------------------------------\n",
      "the area all triangles using height and base the area all triangles using height and base\n",
      "----------------------------------------------------------------\n"
     ]
    }
   ],
   "source": [
    "start_lr = lr_lists[random.randint(0,len(lr_lists))]\n",
    "print(start_lr)\n",
    "new_collection6 = create_collection(8, start_lr, lr_lists, 0.7, text_similarity_svm)\n",
    "for i in new_collection6:\n",
    "    print(i)\n",
    "    print(\"----------------------------------------------------------------\")\n"
   ]
  },
  {
   "cell_type": "code",
   "execution_count": 110,
   "metadata": {},
   "outputs": [
    {
     "name": "stdout",
     "output_type": "stream",
     "text": [
      "partition and shade the following shapes indicated split the pizza below that maria paul jose and mark each have equal share\n"
     ]
    },
    {
     "name": "stderr",
     "output_type": "stream",
     "text": [
      "/home/bukka/anaconda3/lib/python3.6/site-packages/ipykernel_launcher.py:15: DeprecationWarning: Call to deprecated `__getitem__` (Method will be removed in 4.0.0, use self.wv.__getitem__() instead).\n",
      "  from ipykernel import kernelapp as app\n"
     ]
    },
    {
     "name": "stdout",
     "output_type": "stream",
     "text": [
      "partition and shade the following shapes indicated split the pizza below that maria paul jose and mark each have equal share\n",
      "----------------------------------------------------------------\n",
      "use this example show students use this example show students how rounding addends minuends and subtrahends can help predict reasonable answers\n",
      "----------------------------------------------------------------\n",
      "point slope form write equation from graph fun math practice improve your skills with this interactive resource from ixl immersive learning experience that provides comprehensive standards aligned content for math language arts science and social studies\n",
      "----------------------------------------------------------------\n",
      "answer the following question evaluate the expression nbsp\n",
      "----------------------------------------------------------------\n",
      "lesson student debrief use measurement tools convert mixed number measurements smaller units\n",
      "----------------------------------------------------------------\n",
      "divide whole numbers unit fractions write say the division sentence with the answer\n",
      "----------------------------------------------------------------\n",
      "construct the following figures based construct the following figures based the given attributes give name each figure you construct specific possible quadrilateral with four sides the samelength and four right angles quadrilateral with two sets parallelsides quadrilateral with only one set ofparallel sides parallelogram with four right angles\n",
      "----------------------------------------------------------------\n",
      "use the number lines answer the questions use the number lines answer the questions\n",
      "----------------------------------------------------------------\n"
     ]
    }
   ],
   "source": [
    "start_lr = lr_lists[random.randint(0,len(lr_lists))]\n",
    "print(start_lr)\n",
    "new_collection6 = create_collection(8, start_lr, lr_lists, 0.7, text_similarity_svm)\n",
    "for i in new_collection6:\n",
    "    print(i)\n",
    "    print(\"----------------------------------------------------------------\")\n"
   ]
  },
  {
   "cell_type": "code",
   "execution_count": null,
   "metadata": {},
   "outputs": [],
   "source": []
  },
  {
   "cell_type": "code",
   "execution_count": null,
   "metadata": {},
   "outputs": [],
   "source": []
  }
 ],
 "metadata": {
  "kernelspec": {
   "display_name": "Python 3",
   "language": "python",
   "name": "python3"
  },
  "language_info": {
   "codemirror_mode": {
    "name": "ipython",
    "version": 3
   },
   "file_extension": ".py",
   "mimetype": "text/x-python",
   "name": "python",
   "nbconvert_exporter": "python",
   "pygments_lexer": "ipython3",
   "version": "3.6.6"
  }
 },
 "nbformat": 4,
 "nbformat_minor": 2
}
