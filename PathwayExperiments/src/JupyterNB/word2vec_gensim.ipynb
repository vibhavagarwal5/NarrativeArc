{
 "cells": [
  {
   "cell_type": "code",
   "execution_count": 1,
   "metadata": {},
   "outputs": [],
   "source": [
    "#  importing modules\n",
    "\n",
    "import pandas as pd\n",
    "import numpy as np\n",
    "import matplotlib.pyplot as plt\n",
    "import os\n",
    "import re\n",
    "import util\n",
    "\n",
    "from gensim.models import Word2Vec"
   ]
  },
  {
   "cell_type": "code",
   "execution_count": 2,
   "metadata": {},
   "outputs": [],
   "source": [
    "#  lodaing the data using get_processed_data function from utils file\n",
    "data = util.get_processed_data(\"./data/collections_math.csv\" ,True)"
   ]
  },
  {
   "cell_type": "code",
   "execution_count": 4,
   "metadata": {},
   "outputs": [
    {
     "data": {
      "text/html": [
       "<div>\n",
       "<style scoped>\n",
       "    .dataframe tbody tr th:only-of-type {\n",
       "        vertical-align: middle;\n",
       "    }\n",
       "\n",
       "    .dataframe tbody tr th {\n",
       "        vertical-align: top;\n",
       "    }\n",
       "\n",
       "    .dataframe thead th {\n",
       "        text-align: right;\n",
       "    }\n",
       "</style>\n",
       "<table border=\"1\" class=\"dataframe\">\n",
       "  <thead>\n",
       "    <tr style=\"text-align: right;\">\n",
       "      <th></th>\n",
       "      <th>collection_id</th>\n",
       "      <th>sequence_id</th>\n",
       "      <th>resource_id</th>\n",
       "      <th>title</th>\n",
       "      <th>description</th>\n",
       "      <th>text</th>\n",
       "    </tr>\n",
       "  </thead>\n",
       "  <tbody>\n",
       "    <tr>\n",
       "      <th>0</th>\n",
       "      <td>0008d66a-753f-4639-8634-81bb3abb3269</td>\n",
       "      <td>3</td>\n",
       "      <td>2ee6f80f-0851-4cfa-b4bf-2655e9c46ab7</td>\n",
       "      <td>Solve the Linear equation: _______</td>\n",
       "      <td>Solve the Linear equation:            [2]</td>\n",
       "      <td>Solve the Linear equation: _______  Solve the ...</td>\n",
       "    </tr>\n",
       "    <tr>\n",
       "      <th>1</th>\n",
       "      <td>0008d66a-753f-4639-8634-81bb3abb3269</td>\n",
       "      <td>4</td>\n",
       "      <td>81c6995c-dd95-418e-a8c4-c22d8ccd32e9</td>\n",
       "      <td>Solve the linear equation: _______</td>\n",
       "      <td>Solve the linear equation:            [-18]</td>\n",
       "      <td>Solve the linear equation: _______  Solve the ...</td>\n",
       "    </tr>\n",
       "    <tr>\n",
       "      <th>2</th>\n",
       "      <td>0008d66a-753f-4639-8634-81bb3abb3269</td>\n",
       "      <td>1</td>\n",
       "      <td>231eb4ad-d0e8-4e94-a552-f8bd2358a47a</td>\n",
       "      <td>Solve the linear equation: _______</td>\n",
       "      <td>Solve the linear equation:            [1/2] ...</td>\n",
       "      <td>Solve the linear equation: _______   Solve the...</td>\n",
       "    </tr>\n",
       "    <tr>\n",
       "      <th>3</th>\n",
       "      <td>0008d66a-753f-4639-8634-81bb3abb3269</td>\n",
       "      <td>2</td>\n",
       "      <td>0b248202-12a9-405b-acd1-4ab8250e4198</td>\n",
       "      <td>If , then _______</td>\n",
       "      <td>If      , then      [1/5]. &amp;nbsp;Please writ...</td>\n",
       "      <td>If , then _______   If      , then      [1/5]....</td>\n",
       "    </tr>\n",
       "    <tr>\n",
       "      <th>4</th>\n",
       "      <td>001bf2c6-8ede-478a-9b8b-d7750488cb1b</td>\n",
       "      <td>1</td>\n",
       "      <td>1b922fae-619f-4f52-9551-663b3206e4e5</td>\n",
       "      <td>Lesson 11</td>\n",
       "      <td>I'll say an addition or subtraction sentence. ...</td>\n",
       "      <td>Lesson 11 I'll say an addition or subtraction ...</td>\n",
       "    </tr>\n",
       "    <tr>\n",
       "      <th>5</th>\n",
       "      <td>001bf2c6-8ede-478a-9b8b-d7750488cb1b</td>\n",
       "      <td>4</td>\n",
       "      <td>0598accc-df55-4f03-9bb3-09bdd9a4acc6</td>\n",
       "      <td>Application Problem</td>\n",
       "      <td>Talk with your partner for 30 seconds about st...</td>\n",
       "      <td>Application Problem Talk with your partner for...</td>\n",
       "    </tr>\n",
       "  </tbody>\n",
       "</table>\n",
       "</div>"
      ],
      "text/plain": [
       "                          collection_id  sequence_id  \\\n",
       "0  0008d66a-753f-4639-8634-81bb3abb3269            3   \n",
       "1  0008d66a-753f-4639-8634-81bb3abb3269            4   \n",
       "2  0008d66a-753f-4639-8634-81bb3abb3269            1   \n",
       "3  0008d66a-753f-4639-8634-81bb3abb3269            2   \n",
       "4  001bf2c6-8ede-478a-9b8b-d7750488cb1b            1   \n",
       "5  001bf2c6-8ede-478a-9b8b-d7750488cb1b            4   \n",
       "\n",
       "                            resource_id                               title  \\\n",
       "0  2ee6f80f-0851-4cfa-b4bf-2655e9c46ab7  Solve the Linear equation: _______   \n",
       "1  81c6995c-dd95-418e-a8c4-c22d8ccd32e9  Solve the linear equation: _______   \n",
       "2  231eb4ad-d0e8-4e94-a552-f8bd2358a47a  Solve the linear equation: _______   \n",
       "3  0b248202-12a9-405b-acd1-4ab8250e4198                   If , then _______   \n",
       "4  1b922fae-619f-4f52-9551-663b3206e4e5                           Lesson 11   \n",
       "5  0598accc-df55-4f03-9bb3-09bdd9a4acc6                 Application Problem   \n",
       "\n",
       "                                         description  \\\n",
       "0         Solve the Linear equation:            [2]    \n",
       "1       Solve the linear equation:            [-18]    \n",
       "2    Solve the linear equation:            [1/2] ...   \n",
       "3    If      , then      [1/5]. &nbsp;Please writ...   \n",
       "4  I'll say an addition or subtraction sentence. ...   \n",
       "5  Talk with your partner for 30 seconds about st...   \n",
       "\n",
       "                                                text  \n",
       "0  Solve the Linear equation: _______  Solve the ...  \n",
       "1  Solve the linear equation: _______  Solve the ...  \n",
       "2  Solve the linear equation: _______   Solve the...  \n",
       "3  If , then _______   If      , then      [1/5]....  \n",
       "4  Lesson 11 I'll say an addition or subtraction ...  \n",
       "5  Application Problem Talk with your partner for...  "
      ]
     },
     "execution_count": 4,
     "metadata": {},
     "output_type": "execute_result"
    }
   ],
   "source": [
    "#  combinig title and description of learning resources and storig them into text column \n",
    "data['text'] = data[['title', 'description']].apply(lambda x: ' '.join(x), axis=1)\n",
    "data.head(6)"
   ]
  },
  {
   "cell_type": "code",
   "execution_count": 5,
   "metadata": {},
   "outputs": [],
   "source": [
    "#  combining learning resoures to form a collection \n",
    "#  function is  there in utils file\n",
    "collections = util.get_collections(data)"
   ]
  },
  {
   "cell_type": "code",
   "execution_count": 6,
   "metadata": {},
   "outputs": [],
   "source": [
    "#  collecting all texts and cleaning them \n",
    "\n",
    "sentences=[]\n",
    "for col in collections:\n",
    "    lrs = []\n",
    "    for i,text in enumerate(col[\"texts\"]):\n",
    "        new_text = \"\"\n",
    "        for word in text.split():\n",
    "            if len(word)>2:\n",
    "                new_text+=word+\" \"\n",
    "        if new_text.strip()!=\"\":\n",
    "            lrs.append(new_text.strip().lower())\n",
    "            sentences.append(new_text.strip().lower())\n",
    "    col[\"texts\"] = lrs\n",
    "    \n",
    "    \n"
   ]
  },
  {
   "cell_type": "code",
   "execution_count": 19,
   "metadata": {},
   "outputs": [],
   "source": [
    "#  creating a corpus out of all the texts\n",
    "corpus=[]\n",
    "for i in sentences:\n",
    "    words=i.split()\n",
    "    corpus.append(words)\n",
    "    "
   ]
  },
  {
   "cell_type": "code",
   "execution_count": 34,
   "metadata": {},
   "outputs": [],
   "source": [
    "# traning the 100 dimension model and saving it\n",
    "model = Word2Vec(corpus, min_count=1 ,size=100 ,workers = 4,iter=200)\n",
    "model.save('Word2Vec_100dim.bin')\n"
   ]
  },
  {
   "cell_type": "code",
   "execution_count": 35,
   "metadata": {},
   "outputs": [],
   "source": [
    "# traning the  50 dimension model and saving it\n",
    "\n",
    "model = Word2Vec(corpus, min_count=1 ,size=50 ,workers = 4,iter=200)\n",
    "model.save('Word2Vec_50dim.bin')\n"
   ]
  },
  {
   "cell_type": "code",
   "execution_count": 38,
   "metadata": {},
   "outputs": [
    {
     "name": "stdout",
     "output_type": "stream",
     "text": [
      "[ 1.610428    1.9499695  -5.2792287  -3.665752    1.3461736  -1.7500732\n",
      " -0.30315953 -4.2581544   0.2631377  -0.76070815  2.5732222   1.3919466\n",
      " -3.2521114  -2.5226998  -1.0922048  -1.6798224   1.5176922   0.55879736\n",
      " -0.81528944  4.336797    0.60581905 -2.016921    0.30823946 -3.222775\n",
      "  0.0695768   1.6317749  -4.2840595   0.22164007 -2.7365732  -0.75058854\n",
      "  0.9736076  -0.9767777  -0.23195273 -0.44084972 -0.27060708 -0.6331482\n",
      "  1.3059715  -2.7584872   1.3842827   2.6181192  -0.0246813  -0.62474996\n",
      "  0.2653738  -2.861175   -0.03595041 -0.31932566 -3.4605439   2.8801455\n",
      "  2.3838422  -2.3474264 ]\n"
     ]
    },
    {
     "name": "stderr",
     "output_type": "stream",
     "text": [
      "/home/bukka/anaconda3/lib/python3.6/site-packages/ipykernel_launcher.py:1: DeprecationWarning: Call to deprecated `__getitem__` (Method will be removed in 4.0.0, use self.wv.__getitem__() instead).\n",
      "  \"\"\"Entry point for launching an IPython kernel.\n"
     ]
    }
   ],
   "source": [
    "# excample \n",
    "print(model['for'])\n"
   ]
  },
  {
   "cell_type": "code",
   "execution_count": null,
   "metadata": {},
   "outputs": [],
   "source": []
  },
  {
   "cell_type": "code",
   "execution_count": null,
   "metadata": {},
   "outputs": [],
   "source": []
  }
 ],
 "metadata": {
  "kernelspec": {
   "display_name": "Python 3",
   "language": "python",
   "name": "python3"
  },
  "language_info": {
   "codemirror_mode": {
    "name": "ipython",
    "version": 3
   },
   "file_extension": ".py",
   "mimetype": "text/x-python",
   "name": "python",
   "nbconvert_exporter": "python",
   "pygments_lexer": "ipython3",
   "version": "3.6.6"
  }
 },
 "nbformat": 4,
 "nbformat_minor": 2
}
