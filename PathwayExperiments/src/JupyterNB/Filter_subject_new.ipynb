{
 "cells": [
  {
   "cell_type": "code",
   "execution_count": 1,
   "metadata": {},
   "outputs": [],
   "source": [
    "import numpy as np\n",
    "import pandas as pd"
   ]
  },
  {
   "cell_type": "code",
   "execution_count": 2,
   "metadata": {},
   "outputs": [],
   "source": [
    "data = pd.read_csv('./data/collections_all_latest_5-12.csv')"
   ]
  },
  {
   "cell_type": "code",
   "execution_count": 3,
   "metadata": {},
   "outputs": [
    {
     "data": {
      "text/plain": [
       "(1771968, 7)"
      ]
     },
     "execution_count": 3,
     "metadata": {},
     "output_type": "execute_result"
    }
   ],
   "source": [
    "data.shape"
   ]
  },
  {
   "cell_type": "code",
   "execution_count": 4,
   "metadata": {},
   "outputs": [
    {
     "data": {
      "text/plain": [
       "242909"
      ]
     },
     "execution_count": 4,
     "metadata": {},
     "output_type": "execute_result"
    }
   ],
   "source": [
    "collection_ids = data.collection_id.unique()\n",
    "\n",
    "len(collection_ids)"
   ]
  },
  {
   "cell_type": "code",
   "execution_count": 16,
   "metadata": {},
   "outputs": [],
   "source": [
    "# a = data.groupby(data.collection_id).count()\n",
    "\n",
    "# val_col_ids = a[a.taxonomy<5].index\n",
    "\n",
    "# df = data[data.collection_id.isin(list(val_col_ids))]"
   ]
  },
  {
   "cell_type": "code",
   "execution_count": null,
   "metadata": {},
   "outputs": [],
   "source": [
    "# removing the nan taxonomy and deleting those collections with less than 5 LRs after this"
   ]
  },
  {
   "cell_type": "code",
   "execution_count": 25,
   "metadata": {},
   "outputs": [],
   "source": [
    "df_temp = data[data.taxonomy.isna() == False]"
   ]
  },
  {
   "cell_type": "code",
   "execution_count": 30,
   "metadata": {},
   "outputs": [],
   "source": [
    "a = df_temp.groupby(df_temp.collection_id).count()\n",
    "\n",
    "val_col_ids = a[a.taxonomy>4].index\n",
    "\n",
    "df_temp_1 = df_temp[df_temp.collection_id.isin(list(val_col_ids))]"
   ]
  },
  {
   "cell_type": "code",
   "execution_count": 31,
   "metadata": {},
   "outputs": [
    {
     "data": {
      "text/plain": [
       "(1048026, 7)"
      ]
     },
     "execution_count": 31,
     "metadata": {},
     "output_type": "execute_result"
    }
   ],
   "source": [
    "df_temp_1.shape"
   ]
  },
  {
   "cell_type": "code",
   "execution_count": null,
   "metadata": {},
   "outputs": [],
   "source": [
    "# blacklist_collection_ids = []\n",
    "# for i in collection_ids:\n",
    "#     a = data[data.collection_id == i]\n",
    "#     print(a['taxonomy'])\n",
    "#     if a['taxonomy'].isna().sum() == a.shape[0]:\n",
    "#         blacklist_collection_ids.append(i)\n",
    "# #         print(a.collection_id.unique(),i,a.taxonomy)\n",
    "# #         data.drop(a.index,inplace=True)"
   ]
  },
  {
   "cell_type": "code",
   "execution_count": 47,
   "metadata": {},
   "outputs": [],
   "source": [
    "# Get science topic LRs only\n",
    "df_temp_1_sc = df_temp_1[df_temp_1.taxonomy.apply(lambda x: 'Science' in x)]"
   ]
  },
  {
   "cell_type": "code",
   "execution_count": 36,
   "metadata": {},
   "outputs": [],
   "source": [
    "# sc_index = df_temp_1.taxonomy[df_temp_1.taxonomy.apply(lambda x: \"Science\" in x)].index"
   ]
  },
  {
   "cell_type": "code",
   "execution_count": null,
   "metadata": {},
   "outputs": [],
   "source": [
    "# sc_collection_ids = df_temp_1.iloc[sc_index].collection_id.unique()"
   ]
  },
  {
   "cell_type": "code",
   "execution_count": null,
   "metadata": {},
   "outputs": [],
   "source": [
    "# sc_df = df_temp_1[df_temp_1.collection_id.isin(sc_collection_ids)]"
   ]
  },
  {
   "cell_type": "code",
   "execution_count": 50,
   "metadata": {},
   "outputs": [
    {
     "data": {
      "text/plain": [
       "collection_id        0\n",
       "sequence_id          0\n",
       "resource_id          0\n",
       "taxonomy             0\n",
       "title                0\n",
       "description      44253\n",
       "url                  0\n",
       "dtype: int64"
      ]
     },
     "execution_count": 50,
     "metadata": {},
     "output_type": "execute_result"
    }
   ],
   "source": [
    "df_temp_1_sc.isna().sum()"
   ]
  },
  {
   "cell_type": "code",
   "execution_count": null,
   "metadata": {},
   "outputs": [],
   "source": [
    "# Filter collections only with length btw 5 and 12 \n",
    "a = data.groupby(data.collection_id).count()\n",
    "\n",
    "val_col_ids = a[a.sequence_id.between(5,12,inclusive=True)].index\n",
    "\n",
    "df = data[data.collection_id.isin(list(val_col_ids))]"
   ]
  },
  {
   "cell_type": "code",
   "execution_count": 51,
   "metadata": {},
   "outputs": [],
   "source": [
    "df_temp_1_sc.to_csv('./data/collections_all_latest_5-12_science.csv',index=False)"
   ]
  },
  {
   "cell_type": "code",
   "execution_count": null,
   "metadata": {},
   "outputs": [],
   "source": []
  }
 ],
 "metadata": {
  "kernelspec": {
   "display_name": "Python 2",
   "language": "python",
   "name": "python2"
  },
  "language_info": {
   "codemirror_mode": {
    "name": "ipython",
    "version": 3
   },
   "file_extension": ".py",
   "mimetype": "text/x-python",
   "name": "python",
   "nbconvert_exporter": "python",
   "pygments_lexer": "ipython3",
   "version": "3.7.3"
  }
 },
 "nbformat": 4,
 "nbformat_minor": 2
}
