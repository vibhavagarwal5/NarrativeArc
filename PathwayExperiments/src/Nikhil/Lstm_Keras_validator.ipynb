{
 "cells": [
  {
   "cell_type": "code",
   "execution_count": 3,
   "metadata": {},
   "outputs": [
    {
     "name": "stderr",
     "output_type": "stream",
     "text": [
      "Using TensorFlow backend.\n"
     ]
    },
    {
     "ename": "NameError",
     "evalue": "name 'core' is not defined",
     "output_type": "error",
     "traceback": [
      "\u001b[0;31m---------------------------------------------------------------------------\u001b[0m",
      "\u001b[0;31mNameError\u001b[0m                                 Traceback (most recent call last)",
      "\u001b[0;32m<ipython-input-3-a90bbfccf790>\u001b[0m in \u001b[0;36m<module>\u001b[0;34m()\u001b[0m\n\u001b[1;32m      3\u001b[0m \u001b[0;34m\u001b[0m\u001b[0m\n\u001b[1;32m      4\u001b[0m \u001b[0;32mfrom\u001b[0m \u001b[0msklearn\u001b[0m\u001b[0;34m.\u001b[0m\u001b[0mfeature_extraction\u001b[0m\u001b[0;34m.\u001b[0m\u001b[0mtext\u001b[0m \u001b[0;32mimport\u001b[0m \u001b[0mCountVectorizer\u001b[0m\u001b[0;34m\u001b[0m\u001b[0m\n\u001b[0;32m----> 5\u001b[0;31m \u001b[0;32mfrom\u001b[0m \u001b[0mkeras\u001b[0m\u001b[0;34m.\u001b[0m\u001b[0mpreprocessing\u001b[0m\u001b[0;34m.\u001b[0m\u001b[0mtext\u001b[0m \u001b[0;32mimport\u001b[0m \u001b[0mTokenizer\u001b[0m\u001b[0;34m\u001b[0m\u001b[0m\n\u001b[0m\u001b[1;32m      6\u001b[0m \u001b[0;32mfrom\u001b[0m \u001b[0mkeras\u001b[0m\u001b[0;34m.\u001b[0m\u001b[0mpreprocessing\u001b[0m\u001b[0;34m.\u001b[0m\u001b[0msequence\u001b[0m \u001b[0;32mimport\u001b[0m \u001b[0mpad_sequences\u001b[0m\u001b[0;34m\u001b[0m\u001b[0m\n\u001b[1;32m      7\u001b[0m \u001b[0;32mfrom\u001b[0m \u001b[0mkeras\u001b[0m\u001b[0;34m.\u001b[0m\u001b[0mmodels\u001b[0m \u001b[0;32mimport\u001b[0m \u001b[0mSequential\u001b[0m\u001b[0;34m\u001b[0m\u001b[0m\n",
      "\u001b[0;32m~/anaconda3/lib/python3.6/site-packages/keras/__init__.py\u001b[0m in \u001b[0;36m<module>\u001b[0;34m()\u001b[0m\n\u001b[1;32m      1\u001b[0m \u001b[0;32mfrom\u001b[0m \u001b[0m__future__\u001b[0m \u001b[0;32mimport\u001b[0m \u001b[0mabsolute_import\u001b[0m\u001b[0;34m\u001b[0m\u001b[0m\n\u001b[1;32m      2\u001b[0m \u001b[0;34m\u001b[0m\u001b[0m\n\u001b[0;32m----> 3\u001b[0;31m \u001b[0;32mfrom\u001b[0m \u001b[0;34m.\u001b[0m \u001b[0;32mimport\u001b[0m \u001b[0mutils\u001b[0m\u001b[0;34m\u001b[0m\u001b[0m\n\u001b[0m\u001b[1;32m      4\u001b[0m \u001b[0;32mfrom\u001b[0m \u001b[0;34m.\u001b[0m \u001b[0;32mimport\u001b[0m \u001b[0mactivations\u001b[0m\u001b[0;34m\u001b[0m\u001b[0m\n\u001b[1;32m      5\u001b[0m \u001b[0;32mfrom\u001b[0m \u001b[0;34m.\u001b[0m \u001b[0;32mimport\u001b[0m \u001b[0mapplications\u001b[0m\u001b[0;34m\u001b[0m\u001b[0m\n",
      "\u001b[0;32m~/anaconda3/lib/python3.6/site-packages/keras/utils/__init__.py\u001b[0m in \u001b[0;36m<module>\u001b[0;34m()\u001b[0m\n\u001b[1;32m      4\u001b[0m \u001b[0;32mfrom\u001b[0m \u001b[0;34m.\u001b[0m \u001b[0;32mimport\u001b[0m \u001b[0mdata_utils\u001b[0m\u001b[0;34m\u001b[0m\u001b[0m\n\u001b[1;32m      5\u001b[0m \u001b[0;32mfrom\u001b[0m \u001b[0;34m.\u001b[0m \u001b[0;32mimport\u001b[0m \u001b[0mio_utils\u001b[0m\u001b[0;34m\u001b[0m\u001b[0m\n\u001b[0;32m----> 6\u001b[0;31m \u001b[0;32mfrom\u001b[0m \u001b[0;34m.\u001b[0m \u001b[0;32mimport\u001b[0m \u001b[0mconv_utils\u001b[0m\u001b[0;34m\u001b[0m\u001b[0m\n\u001b[0m\u001b[1;32m      7\u001b[0m \u001b[0;34m\u001b[0m\u001b[0m\n\u001b[1;32m      8\u001b[0m \u001b[0;31m# Globally-importable utils.\u001b[0m\u001b[0;34m\u001b[0m\u001b[0;34m\u001b[0m\u001b[0m\n",
      "\u001b[0;32m~/anaconda3/lib/python3.6/site-packages/keras/utils/conv_utils.py\u001b[0m in \u001b[0;36m<module>\u001b[0;34m()\u001b[0m\n\u001b[1;32m      7\u001b[0m \u001b[0;32mfrom\u001b[0m \u001b[0msix\u001b[0m\u001b[0;34m.\u001b[0m\u001b[0mmoves\u001b[0m \u001b[0;32mimport\u001b[0m \u001b[0mrange\u001b[0m\u001b[0;34m\u001b[0m\u001b[0m\n\u001b[1;32m      8\u001b[0m \u001b[0;32mimport\u001b[0m \u001b[0mnumpy\u001b[0m \u001b[0;32mas\u001b[0m \u001b[0mnp\u001b[0m\u001b[0;34m\u001b[0m\u001b[0m\n\u001b[0;32m----> 9\u001b[0;31m \u001b[0;32mfrom\u001b[0m \u001b[0;34m.\u001b[0m\u001b[0;34m.\u001b[0m \u001b[0;32mimport\u001b[0m \u001b[0mbackend\u001b[0m \u001b[0;32mas\u001b[0m \u001b[0mK\u001b[0m\u001b[0;34m\u001b[0m\u001b[0m\n\u001b[0m\u001b[1;32m     10\u001b[0m \u001b[0;34m\u001b[0m\u001b[0m\n\u001b[1;32m     11\u001b[0m \u001b[0;34m\u001b[0m\u001b[0m\n",
      "\u001b[0;32m~/anaconda3/lib/python3.6/site-packages/keras/backend/__init__.py\u001b[0m in \u001b[0;36m<module>\u001b[0;34m()\u001b[0m\n\u001b[1;32m     87\u001b[0m \u001b[0;32melif\u001b[0m \u001b[0m_BACKEND\u001b[0m \u001b[0;34m==\u001b[0m \u001b[0;34m'tensorflow'\u001b[0m\u001b[0;34m:\u001b[0m\u001b[0;34m\u001b[0m\u001b[0m\n\u001b[1;32m     88\u001b[0m     \u001b[0msys\u001b[0m\u001b[0;34m.\u001b[0m\u001b[0mstderr\u001b[0m\u001b[0;34m.\u001b[0m\u001b[0mwrite\u001b[0m\u001b[0;34m(\u001b[0m\u001b[0;34m'Using TensorFlow backend.\\n'\u001b[0m\u001b[0;34m)\u001b[0m\u001b[0;34m\u001b[0m\u001b[0m\n\u001b[0;32m---> 89\u001b[0;31m     \u001b[0;32mfrom\u001b[0m \u001b[0;34m.\u001b[0m\u001b[0mtensorflow_backend\u001b[0m \u001b[0;32mimport\u001b[0m \u001b[0;34m*\u001b[0m\u001b[0;34m\u001b[0m\u001b[0m\n\u001b[0m\u001b[1;32m     90\u001b[0m \u001b[0;32melse\u001b[0m\u001b[0;34m:\u001b[0m\u001b[0;34m\u001b[0m\u001b[0m\n\u001b[1;32m     91\u001b[0m     \u001b[0;31m# Try and load external backend.\u001b[0m\u001b[0;34m\u001b[0m\u001b[0;34m\u001b[0m\u001b[0m\n",
      "\u001b[0;32m~/anaconda3/lib/python3.6/site-packages/keras/backend/tensorflow_backend.py\u001b[0m in \u001b[0;36m<module>\u001b[0;34m()\u001b[0m\n\u001b[1;32m      3\u001b[0m \u001b[0;32mfrom\u001b[0m \u001b[0m__future__\u001b[0m \u001b[0;32mimport\u001b[0m \u001b[0mprint_function\u001b[0m\u001b[0;34m\u001b[0m\u001b[0m\n\u001b[1;32m      4\u001b[0m \u001b[0;34m\u001b[0m\u001b[0m\n\u001b[0;32m----> 5\u001b[0;31m \u001b[0;32mimport\u001b[0m \u001b[0mtensorflow\u001b[0m \u001b[0;32mas\u001b[0m \u001b[0mtf\u001b[0m\u001b[0;34m\u001b[0m\u001b[0m\n\u001b[0m\u001b[1;32m      6\u001b[0m \u001b[0;32mfrom\u001b[0m \u001b[0mtensorflow\u001b[0m\u001b[0;34m.\u001b[0m\u001b[0mpython\u001b[0m\u001b[0;34m.\u001b[0m\u001b[0mframework\u001b[0m \u001b[0;32mimport\u001b[0m \u001b[0mops\u001b[0m \u001b[0;32mas\u001b[0m \u001b[0mtf_ops\u001b[0m\u001b[0;34m\u001b[0m\u001b[0m\n\u001b[1;32m      7\u001b[0m \u001b[0;32mfrom\u001b[0m \u001b[0mtensorflow\u001b[0m\u001b[0;34m.\u001b[0m\u001b[0mpython\u001b[0m\u001b[0;34m.\u001b[0m\u001b[0mtraining\u001b[0m \u001b[0;32mimport\u001b[0m \u001b[0mmoving_averages\u001b[0m\u001b[0;34m\u001b[0m\u001b[0m\n",
      "\u001b[0;32m~/anaconda3/lib/python3.6/site-packages/tensorflow/__init__.py\u001b[0m in \u001b[0;36m<module>\u001b[0;34m()\u001b[0m\n\u001b[1;32m    614\u001b[0m \u001b[0;31m# pylint: disable=undefined-variable\u001b[0m\u001b[0;34m\u001b[0m\u001b[0;34m\u001b[0m\u001b[0m\n\u001b[1;32m    615\u001b[0m \u001b[0;32mdel\u001b[0m \u001b[0mpython\u001b[0m\u001b[0;34m\u001b[0m\u001b[0m\n\u001b[0;32m--> 616\u001b[0;31m \u001b[0;32mdel\u001b[0m \u001b[0mcore\u001b[0m\u001b[0;34m\u001b[0m\u001b[0m\n\u001b[0m\u001b[1;32m    617\u001b[0m \u001b[0;31m# pylint: enable=undefined-variable\u001b[0m\u001b[0;34m\u001b[0m\u001b[0;34m\u001b[0m\u001b[0m\n",
      "\u001b[0;31mNameError\u001b[0m: name 'core' is not defined"
     ]
    }
   ],
   "source": [
    "import numpy as np \n",
    "import pandas as pd \n",
    "\n",
    "from sklearn.feature_extraction.text import CountVectorizer\n",
    "from keras.preprocessing.text import Tokenizer\n",
    "from keras.preprocessing.sequence import pad_sequences\n",
    "from keras.models import Sequential\n",
    "from keras.layers import Dense, Embedding, LSTM ,Dropout ,CuDNNLSTM\n",
    "from sklearn.model_selection import train_test_split\n",
    "from keras.utils.np_utils import to_categorical\n",
    "import re\n",
    "import keras\n",
    "import ast\n",
    "import seaborn as sn\n",
    "import pandas as pd\n",
    "import matplotlib.pyplot as plt\n",
    "import matplotlib.pyplot as plt\n",
    "from sklearn.utils import shuffle\n",
    "import pickle\n",
    "from sklearn.metrics import confusion_matrix\n",
    "from sklearn.model_selection import train_test_split\n",
    "from sklearn.metrics import precision_score\n",
    "from sklearn.metrics import recall_score"
   ]
  },
  {
   "cell_type": "code",
   "execution_count": 2,
   "metadata": {},
   "outputs": [],
   "source": [
    "# X_train = np.random.randint(10,size=(1000,3,220))\n",
    "# Y_train = np.random.randint(2,size=(1000))\n",
    "\n",
    "# X_test = np.random.randint(10,size=(500,3,220))\n",
    "# Y_test = np.random.randint(2,size=(500))"
   ]
  },
  {
   "cell_type": "code",
   "execution_count": 78,
   "metadata": {},
   "outputs": [],
   "source": [
    "# X_train[0][0]\n",
    "pickle_in = open(\"./Final_Data/Invalid_processed_science1.pickle\",\"rb\")\n",
    "invalid_data = pickle.load(pickle_in)\n",
    "\n",
    "pickle_in = open(\"./Final_Data/Valid_processed_science1.pickle\",\"rb\")\n",
    "valid_data = pickle.load(pickle_in)\n"
   ]
  },
  {
   "cell_type": "code",
   "execution_count": 79,
   "metadata": {},
   "outputs": [
    {
     "name": "stdout",
     "output_type": "stream",
     "text": [
      "800\n"
     ]
    },
    {
     "data": {
      "text/plain": [
       "1393"
      ]
     },
     "execution_count": 79,
     "metadata": {},
     "output_type": "execute_result"
    }
   ],
   "source": [
    "print(len(invalid_data))\n",
    "len(valid_data)"
   ]
  },
  {
   "cell_type": "code",
   "execution_count": 80,
   "metadata": {},
   "outputs": [
    {
     "name": "stdout",
     "output_type": "stream",
     "text": [
      "<class 'pandas.core.frame.DataFrame'>\n",
      "RangeIndex: 800 entries, 0 to 799\n",
      "Data columns (total 10 columns):\n",
      "Doc_embeddings     800 non-null object\n",
      "Summarizations     800 non-null object\n",
      "Word_embeddings    800 non-null object\n",
      "collection_ids     800 non-null object\n",
      "descriptions       800 non-null object\n",
      "lda_topics         800 non-null object\n",
      "resource_ids       800 non-null object\n",
      "sequence_ids       800 non-null object\n",
      "titles             800 non-null object\n",
      "label              800 non-null int64\n",
      "dtypes: int64(1), object(9)\n",
      "memory usage: 62.6+ KB\n",
      "None\n",
      "----------------------------------------------\n",
      "<class 'pandas.core.frame.DataFrame'>\n",
      "RangeIndex: 1393 entries, 0 to 1392\n",
      "Data columns (total 10 columns):\n",
      "collection_ids     1393 non-null object\n",
      "resource_ids       1393 non-null object\n",
      "sequence_ids       1393 non-null object\n",
      "descriptions       1393 non-null object\n",
      "Summarizations     1393 non-null object\n",
      "lda_topics         1393 non-null object\n",
      "titles             1393 non-null object\n",
      "Word_embeddings    1393 non-null object\n",
      "Doc_embeddings     1393 non-null object\n",
      "label              1393 non-null int64\n",
      "dtypes: int64(1), object(9)\n",
      "memory usage: 108.9+ KB\n"
     ]
    }
   ],
   "source": [
    "print(invalid_data.info())\n",
    "print(\"----------------------------------------------\")\n",
    "valid_data.info()"
   ]
  },
  {
   "cell_type": "code",
   "execution_count": 81,
   "metadata": {},
   "outputs": [],
   "source": [
    "def prepare_data(df,window_size):\n",
    "    frame = []\n",
    "    label=[]\n",
    "    for index,row in df.iterrows():\n",
    "        for i in range(0,len(row[\"Word_embeddings\"])- window_size+1):\n",
    "#                 print(len(row[\"Word_embeddings\"]))\n",
    "                temp = []\n",
    "                data1=[]\n",
    "                data2=[]\n",
    "                data3=[]\n",
    "                \n",
    "                data1 += row[\"Word_embeddings\"][i]\n",
    "                data2 += row[\"Word_embeddings\"][i+1]\n",
    "                data3 += row[\"Word_embeddings\"][i+2]\n",
    "                \n",
    "                                \n",
    "                data1 += row[\"Doc_embeddings\"][i]\n",
    "                data2 += row[\"Doc_embeddings\"][i+1]\n",
    "                data3 += row[\"Doc_embeddings\"][i+2]\n",
    "                \n",
    "                for j in range(0,20):\n",
    "                    data1 += [row[\"lda_topics\"][i][j][1]]\n",
    "                    data2 += [row[\"lda_topics\"][i+1][j][1]]\n",
    "                    data3 += [row[\"lda_topics\"][i+2][j][1]]\n",
    "                \n",
    "                temp.append(data1)\n",
    "                temp.append(data2)                \n",
    "                temp.append(data3)                \n",
    "                frame.append(temp) \n",
    "                label.append(row[\"label\"])\n",
    "    return frame,label\n",
    "    "
   ]
  },
  {
   "cell_type": "code",
   "execution_count": 82,
   "metadata": {},
   "outputs": [
    {
     "name": "stderr",
     "output_type": "stream",
     "text": [
      "/home/bukka/anaconda3/lib/python3.6/site-packages/ipykernel_launcher.py:1: FutureWarning: Sorting because non-concatenation axis is not aligned. A future version\n",
      "of pandas will change to not sort by default.\n",
      "\n",
      "To accept the future behavior, pass 'sort=False'.\n",
      "\n",
      "To retain the current behavior and silence the warning, pass 'sort=True'.\n",
      "\n",
      "  \"\"\"Entry point for launching an IPython kernel.\n"
     ]
    }
   ],
   "source": [
    "result = pd.concat([valid_data,invalid_data],ignore_index=True)\n"
   ]
  },
  {
   "cell_type": "code",
   "execution_count": 83,
   "metadata": {},
   "outputs": [],
   "source": [
    "final = shuffle(result,random_state = 2019)\n",
    "# final.head(10)"
   ]
  },
  {
   "cell_type": "code",
   "execution_count": 84,
   "metadata": {},
   "outputs": [],
   "source": [
    "X,y = prepare_data(final,3)"
   ]
  },
  {
   "cell_type": "code",
   "execution_count": 85,
   "metadata": {},
   "outputs": [
    {
     "name": "stdout",
     "output_type": "stream",
     "text": [
      "2400 2399\n"
     ]
    }
   ],
   "source": [
    "zeo=0\n",
    "one =0\n",
    "for i in y:\n",
    "    if(i==0):zeo+=1\n",
    "    if(i==1):one+=1\n",
    "print(zeo,one)        "
   ]
  },
  {
   "cell_type": "code",
   "execution_count": 86,
   "metadata": {},
   "outputs": [],
   "source": [
    "X_train,X_test,Y_train,Y_test = train_test_split(X, y, test_size=0.30, random_state=2019)\n",
    "X_train,Y_train,X_test,Y_test = np.array( X_train),np.array(Y_train),np.array(X_test),np.array(Y_test) "
   ]
  },
  {
   "cell_type": "code",
   "execution_count": 87,
   "metadata": {},
   "outputs": [
    {
     "data": {
      "text/plain": [
       "3359"
      ]
     },
     "execution_count": 87,
     "metadata": {},
     "output_type": "execute_result"
    }
   ],
   "source": [
    "len(X_train)"
   ]
  },
  {
   "cell_type": "code",
   "execution_count": 109,
   "metadata": {},
   "outputs": [
    {
     "name": "stdout",
     "output_type": "stream",
     "text": [
      "_________________________________________________________________\n",
      "Layer (type)                 Output Shape              Param #   \n",
      "=================================================================\n",
      "lstm_21 (LSTM)               (None, 3, 128)            178688    \n",
      "_________________________________________________________________\n",
      "lstm_22 (LSTM)               (None, 128)               131584    \n",
      "_________________________________________________________________\n",
      "dense_21 (Dense)             (None, 32)                4128      \n",
      "_________________________________________________________________\n",
      "dropout_10 (Dropout)         (None, 32)                0         \n",
      "_________________________________________________________________\n",
      "dense_22 (Dense)             (None, 2)                 66        \n",
      "=================================================================\n",
      "Total params: 314,466\n",
      "Trainable params: 314,466\n",
      "Non-trainable params: 0\n",
      "_________________________________________________________________\n",
      "None\n"
     ]
    }
   ],
   "source": [
    "model = Sequential()\n",
    "model.add(LSTM(128,\n",
    "    input_shape=(X_train.shape[1:]),\n",
    "    activation='relu',\n",
    "    kernel_regularizer=keras.regularizers.l1_l2(l1=1e-3, l2=1e-3),\n",
    "    return_sequences = True))\n",
    "# model.add(LSTM(128,input_shape=(X_train.shape[1:]),activation='relu',return_sequences = True))\n",
    "# model.add(Dropout(0.2))\n",
    "\n",
    "model.add(LSTM(128,activation='relu'))\n",
    "# model.add(Dropout(0.2))\n",
    "\n",
    "model.add(Dense(32,activation='relu'))\n",
    "model.add(Dropout(0.2))\n",
    "\n",
    "model.add(Dense(2,activation='softmax'))\n",
    "\n",
    "opt = keras.optimizers.Adam(lr = 1e-4)\n",
    "\n",
    "model.compile(loss='sparse_categorical_crossentropy',optimizer = opt ,metrics=['accuracy'])\n",
    "print(model.summary())\n"
   ]
  },
  {
   "cell_type": "code",
   "execution_count": 110,
   "metadata": {
    "scrolled": false
   },
   "outputs": [
    {
     "name": "stdout",
     "output_type": "stream",
     "text": [
      "Train on 3359 samples, validate on 1440 samples\n",
      "Epoch 1/50\n",
      "3359/3359 [==============================] - 6s 2ms/step - loss: 5.7703 - acc: 0.5073 - val_loss: 5.4510 - val_acc: 0.5021\n",
      "Epoch 2/50\n",
      "3359/3359 [==============================] - 1s 354us/step - loss: 5.1633 - acc: 0.5266 - val_loss: 4.8662 - val_acc: 0.5097\n",
      "Epoch 3/50\n",
      "3359/3359 [==============================] - 1s 361us/step - loss: 4.5994 - acc: 0.5329 - val_loss: 4.3242 - val_acc: 0.5285\n",
      "Epoch 4/50\n",
      "3359/3359 [==============================] - 1s 370us/step - loss: 4.0780 - acc: 0.5284 - val_loss: 3.8242 - val_acc: 0.5444\n",
      "Epoch 5/50\n",
      "3359/3359 [==============================] - 1s 335us/step - loss: 3.5982 - acc: 0.5323 - val_loss: 3.3652 - val_acc: 0.5646\n",
      "Epoch 6/50\n",
      "3359/3359 [==============================] - 1s 347us/step - loss: 3.1587 - acc: 0.5517 - val_loss: 2.9463 - val_acc: 0.5778\n",
      "Epoch 7/50\n",
      "3359/3359 [==============================] - 1s 341us/step - loss: 2.7586 - acc: 0.5540 - val_loss: 2.5657 - val_acc: 0.5528\n",
      "Epoch 8/50\n",
      "3359/3359 [==============================] - 1s 364us/step - loss: 2.3972 - acc: 0.5451 - val_loss: 2.2237 - val_acc: 0.5938\n",
      "Epoch 9/50\n",
      "3359/3359 [==============================] - 1s 360us/step - loss: 2.0732 - acc: 0.5603 - val_loss: 1.9186 - val_acc: 0.6076\n",
      "Epoch 10/50\n",
      "3359/3359 [==============================] - 1s 361us/step - loss: 1.7858 - acc: 0.5722 - val_loss: 1.6489 - val_acc: 0.5556\n",
      "Epoch 11/50\n",
      "3359/3359 [==============================] - 1s 356us/step - loss: 1.5338 - acc: 0.5618 - val_loss: 1.4144 - val_acc: 0.5667\n",
      "Epoch 12/50\n",
      "3359/3359 [==============================] - 1s 348us/step - loss: 1.3166 - acc: 0.5662 - val_loss: 1.2142 - val_acc: 0.5903\n",
      "Epoch 13/50\n",
      "3359/3359 [==============================] - 1s 365us/step - loss: 1.1339 - acc: 0.5642 - val_loss: 1.0482 - val_acc: 0.5806\n",
      "Epoch 14/50\n",
      "3359/3359 [==============================] - 1s 364us/step - loss: 0.9851 - acc: 0.5648 - val_loss: 0.9165 - val_acc: 0.6201\n",
      "Epoch 15/50\n",
      "3359/3359 [==============================] - 1s 352us/step - loss: 0.8707 - acc: 0.5668 - val_loss: 0.8168 - val_acc: 0.5285\n",
      "Epoch 16/50\n",
      "3359/3359 [==============================] - 1s 338us/step - loss: 0.7851 - acc: 0.5597 - val_loss: 0.7475 - val_acc: 0.5965\n",
      "Epoch 17/50\n",
      "3359/3359 [==============================] - 1s 344us/step - loss: 0.7285 - acc: 0.5770 - val_loss: 0.7111 - val_acc: 0.6028\n",
      "Epoch 18/50\n",
      "3359/3359 [==============================] - 1s 341us/step - loss: 0.7048 - acc: 0.5686 - val_loss: 0.6947 - val_acc: 0.5875\n",
      "Epoch 19/50\n",
      "3359/3359 [==============================] - 1s 428us/step - loss: 0.7001 - acc: 0.5680 - val_loss: 0.6913 - val_acc: 0.5590\n",
      "Epoch 20/50\n",
      "3359/3359 [==============================] - 1s 381us/step - loss: 0.6966 - acc: 0.5710 - val_loss: 0.6851 - val_acc: 0.5889\n",
      "Epoch 21/50\n",
      "3359/3359 [==============================] - 1s 341us/step - loss: 0.6928 - acc: 0.5814 - val_loss: 0.6808 - val_acc: 0.6014\n",
      "Epoch 22/50\n",
      "3359/3359 [==============================] - 1s 335us/step - loss: 0.6878 - acc: 0.5960 - val_loss: 0.6776 - val_acc: 0.6264\n",
      "Epoch 23/50\n",
      "3359/3359 [==============================] - 1s 345us/step - loss: 0.6855 - acc: 0.6038 - val_loss: 0.6739 - val_acc: 0.6215\n",
      "Epoch 24/50\n",
      "3359/3359 [==============================] - 1s 372us/step - loss: 0.6834 - acc: 0.6085 - val_loss: 0.6695 - val_acc: 0.6410\n",
      "Epoch 25/50\n",
      "3359/3359 [==============================] - 2s 498us/step - loss: 0.6772 - acc: 0.6142 - val_loss: 0.6715 - val_acc: 0.6056\n",
      "Epoch 26/50\n",
      "3359/3359 [==============================] - 1s 374us/step - loss: 0.6750 - acc: 0.6166 - val_loss: 0.6734 - val_acc: 0.6569\n",
      "Epoch 27/50\n",
      "3359/3359 [==============================] - 1s 364us/step - loss: 0.6732 - acc: 0.6237 - val_loss: 0.6592 - val_acc: 0.6549\n",
      "Epoch 28/50\n",
      "3359/3359 [==============================] - 1s 354us/step - loss: 0.6723 - acc: 0.6273 - val_loss: 0.6684 - val_acc: 0.6375\n",
      "Epoch 29/50\n",
      "3359/3359 [==============================] - 1s 337us/step - loss: 0.6646 - acc: 0.6439 - val_loss: 0.6501 - val_acc: 0.6715\n",
      "Epoch 30/50\n",
      "3359/3359 [==============================] - 1s 359us/step - loss: 0.6597 - acc: 0.6386 - val_loss: 0.6474 - val_acc: 0.6778\n",
      "Epoch 31/50\n",
      "3359/3359 [==============================] - 1s 368us/step - loss: 0.6597 - acc: 0.6401 - val_loss: 0.6434 - val_acc: 0.6764\n",
      "Epoch 32/50\n",
      "3359/3359 [==============================] - 1s 359us/step - loss: 0.6506 - acc: 0.6490 - val_loss: 0.6487 - val_acc: 0.6618\n",
      "Epoch 33/50\n",
      "3359/3359 [==============================] - 1s 354us/step - loss: 0.6551 - acc: 0.6490 - val_loss: 0.6568 - val_acc: 0.6493\n",
      "Epoch 34/50\n",
      "3359/3359 [==============================] - 1s 330us/step - loss: 0.6497 - acc: 0.6645 - val_loss: 0.6442 - val_acc: 0.6708\n",
      "Epoch 35/50\n",
      "3359/3359 [==============================] - 1s 357us/step - loss: 0.6465 - acc: 0.6517 - val_loss: 0.6387 - val_acc: 0.6750\n",
      "Epoch 36/50\n",
      "3359/3359 [==============================] - 1s 353us/step - loss: 0.6471 - acc: 0.6541 - val_loss: 0.6392 - val_acc: 0.6729\n",
      "Epoch 37/50\n",
      "3359/3359 [==============================] - 1s 350us/step - loss: 0.6436 - acc: 0.6642 - val_loss: 0.6444 - val_acc: 0.6674\n",
      "Epoch 38/50\n",
      "3359/3359 [==============================] - 1s 341us/step - loss: 0.6411 - acc: 0.6630 - val_loss: 0.6442 - val_acc: 0.6736\n",
      "Epoch 39/50\n",
      "3359/3359 [==============================] - 1s 322us/step - loss: 0.6376 - acc: 0.6731 - val_loss: 0.6418 - val_acc: 0.6667\n",
      "Epoch 40/50\n",
      "3359/3359 [==============================] - 1s 324us/step - loss: 0.6350 - acc: 0.6758 - val_loss: 0.6410 - val_acc: 0.6681\n",
      "Epoch 41/50\n",
      "3359/3359 [==============================] - 1s 306us/step - loss: 0.6356 - acc: 0.6809 - val_loss: 0.6471 - val_acc: 0.6590\n",
      "Epoch 42/50\n",
      "3359/3359 [==============================] - 1s 378us/step - loss: 0.6297 - acc: 0.6809 - val_loss: 0.6343 - val_acc: 0.6826\n",
      "Epoch 43/50\n",
      "3359/3359 [==============================] - 1s 351us/step - loss: 0.6285 - acc: 0.6835 - val_loss: 0.6399 - val_acc: 0.6667\n",
      "Epoch 44/50\n",
      "3359/3359 [==============================] - 1s 332us/step - loss: 0.6386 - acc: 0.6743 - val_loss: 0.6388 - val_acc: 0.6674\n",
      "Epoch 45/50\n",
      "3359/3359 [==============================] - 1s 357us/step - loss: 0.6284 - acc: 0.6847 - val_loss: 0.6346 - val_acc: 0.6785\n",
      "Epoch 46/50\n",
      "3359/3359 [==============================] - 1s 340us/step - loss: 0.6200 - acc: 0.6898 - val_loss: 0.6324 - val_acc: 0.6778\n",
      "Epoch 47/50\n",
      "3359/3359 [==============================] - 1s 342us/step - loss: 0.6198 - acc: 0.6883 - val_loss: 0.6315 - val_acc: 0.6736\n",
      "Epoch 48/50\n",
      "3359/3359 [==============================] - 1s 364us/step - loss: 0.6210 - acc: 0.6889 - val_loss: 0.6352 - val_acc: 0.6757\n",
      "Epoch 49/50\n",
      "3359/3359 [==============================] - 1s 347us/step - loss: 0.6177 - acc: 0.6984 - val_loss: 0.6370 - val_acc: 0.6653\n",
      "Epoch 50/50\n",
      "3359/3359 [==============================] - 1s 361us/step - loss: 0.6167 - acc: 0.6969 - val_loss: 0.6306 - val_acc: 0.6729\n"
     ]
    }
   ],
   "source": [
    "history = model.fit(X_train,Y_train,epochs = 50 , validation_data =(X_test,Y_test),batch_size= 64)"
   ]
  },
  {
   "cell_type": "code",
   "execution_count": 111,
   "metadata": {},
   "outputs": [
    {
     "data": {
      "image/png": "[encoded data removed]",
      "text/plain": [
       "<Figure size 432x288 with 1 Axes>"
      ]
     },
     "metadata": {
      "needs_background": "light"
     },
     "output_type": "display_data"
    },
    {
     "data": {
      "image/png": "[encoded data removed]",
      "text/plain": [
       "<Figure size 432x288 with 1 Axes>"
      ]
     },
     "metadata": {
      "needs_background": "light"
     },
     "output_type": "display_data"
    }
   ],
   "source": [
    "plt.plot(history.history['acc'])\n",
    "plt.plot(history.history['val_acc'])\n",
    "plt.title('model accuracy')\n",
    "plt.ylabel('accuracy')\n",
    "plt.xlabel('epoch')\n",
    "plt.legend(['train', 'test'], loc='upper left')\n",
    "plt.show()\n",
    "# summarize history for loss\n",
    "plt.plot(history.history['loss'])\n",
    "plt.plot(history.history['val_loss'])\n",
    "plt.title('model loss')\n",
    "plt.ylabel('loss')\n",
    "plt.xlabel('epoch')\n",
    "plt.legend(['train', 'test'], loc='upper left')\n",
    "plt.show()"
   ]
  },
  {
   "cell_type": "code",
   "execution_count": 113,
   "metadata": {},
   "outputs": [
    {
     "name": "stdout",
     "output_type": "stream",
     "text": [
      "1440/1440 [==============================] - 0s 178us/step\n"
     ]
    },
    {
     "data": {
      "text/plain": [
       "[0.6306233286857605, 0.6729166666666667]"
      ]
     },
     "execution_count": 113,
     "metadata": {},
     "output_type": "execute_result"
    }
   ],
   "source": [
    "model.evaluate(X_test,Y_test)"
   ]
  },
  {
   "cell_type": "code",
   "execution_count": 92,
   "metadata": {},
   "outputs": [],
   "source": [
    "y_pred =  model.predict(X_test)"
   ]
  },
  {
   "cell_type": "code",
   "execution_count": 56,
   "metadata": {},
   "outputs": [],
   "source": [
    "# keras library import  for Saving and loading model and weights\n",
    "\n",
    "from keras.models import model_from_json\n",
    "from keras.models import load_model\n",
    "\n",
    "# serialize model to JSON\n",
    "#  the keras model which is trained is defined as 'model' in this example\n",
    "model_json = model.to_json()\n",
    "\n",
    "\n",
    "with open(\"./Final_Data/Validator_windowsize_3_archi1.json\", \"w\") as json_file:\n",
    "    json_file.write(model_json)\n",
    "\n",
    "# serialize weights to HDF5\n",
    "model.save_weights(\"./Final_Data/Validator_windowsize_3_weights1.h5\")"
   ]
  },
  {
   "cell_type": "code",
   "execution_count": 57,
   "metadata": {},
   "outputs": [],
   "source": [
    "# from keras.models import model_from_json\n",
    "\n",
    "# # Model reconstruction from JSON file\n",
    "# with open('./Final_Data/Validator_windowsize_3_archi1.json', 'r') as f:\n",
    "#     model1 = model_from_json(f.read())\n",
    "\n",
    "# # Load weights into the new model\n",
    "# model1.load_weights('./Final_Data/Validator_windowsize_3_weights1.h5')\n"
   ]
  },
  {
   "cell_type": "code",
   "execution_count": 93,
   "metadata": {},
   "outputs": [],
   "source": [
    "Y_pred = model.predict_classes(X_test)"
   ]
  },
  {
   "cell_type": "code",
   "execution_count": 94,
   "metadata": {},
   "outputs": [
    {
     "data": {
      "text/plain": [
       "0.762214983713355"
      ]
     },
     "execution_count": 94,
     "metadata": {},
     "output_type": "execute_result"
    }
   ],
   "source": [
    "precision_score(Y_test, Y_pred)"
   ]
  },
  {
   "cell_type": "code",
   "execution_count": 95,
   "metadata": {},
   "outputs": [
    {
     "data": {
      "text/plain": [
       "0.65"
      ]
     },
     "execution_count": 95,
     "metadata": {},
     "output_type": "execute_result"
    }
   ],
   "source": [
    "recall_score(Y_test, Y_pred)"
   ]
  },
  {
   "cell_type": "code",
   "execution_count": 96,
   "metadata": {},
   "outputs": [],
   "source": [
    "array = confusion_matrix(Y_test, Y_pred)"
   ]
  },
  {
   "cell_type": "code",
   "execution_count": 97,
   "metadata": {},
   "outputs": [
    {
     "data": {
      "text/plain": [
       "<matplotlib.axes._subplots.AxesSubplot at 0x7fdc698dbe48>"
      ]
     },
     "execution_count": 97,
     "metadata": {},
     "output_type": "execute_result"
    },
    {
     "data": {
      "image/png": "[encoded data removed]",
      "text/plain": [
       "<Figure size 720x504 with 2 Axes>"
      ]
     },
     "metadata": {
      "needs_background": "light"
     },
     "output_type": "display_data"
    }
   ],
   "source": [
    "df_cm = pd.DataFrame(array, index = [i for i in \"01\"],\n",
    "                  columns = [i for i in \"01\"])\n",
    "plt.figure(figsize = (10,7))\n",
    "sn.heatmap(df_cm, annot=True,fmt=\"d\")"
   ]
  },
  {
   "cell_type": "code",
   "execution_count": 203,
   "metadata": {},
   "outputs": [],
   "source": [
    "def Test(val):\n",
    "    a = np.reshape(final.values[val],(1,10))\n",
    "    a = pd.DataFrame(a,columns=final.columns)\n",
    "    X,y = prepare_data(a,3)\n",
    "    a.head()\n",
    "    \n",
    "    f = open(\"./Final_Data/Genetrated collections/test_col\"+str(val),\"w\")\n",
    "\n",
    "    sen = a.Summarizations[0]\n",
    "    for i in range(0,len(sen)-2):\n",
    "        f.write(sen[i]+\"\\n\")\n",
    "        f.write(sen[i+1]+\"\\n\")\n",
    "        f.write(sen[i+2]+\"\\n\")\n",
    "        f.write(\"-------------------------------------------------------------------------\\n\")\n",
    "        f.write(\"model predction is: \" + str(model1.predict(np.reshape(X[0],(1,3,220)))[0][1]))\n",
    "        f.write(\"\\n-------------------------------------------------------------------------\\n\")\n",
    "        f.write(\"actual label is:\" +str(y[i]))\n",
    "        f.write(\"\\n=======================================================================\\n\")\n",
    "    return    "
   ]
  },
  {
   "cell_type": "code",
   "execution_count": 204,
   "metadata": {},
   "outputs": [],
   "source": [
    "Test(0)\n",
    "Test(1)\n",
    "Test(2)\n",
    "Test(3)\n",
    "Test(4)\n",
    "Test(5)\n",
    "Test(6)\n",
    "Test(7)"
   ]
  },
  {
   "cell_type": "code",
   "execution_count": 1,
   "metadata": {},
   "outputs": [],
   "source": [
    "a=\"atom composed subatomic particle proton neutron electronsthe chemical property element determined electron arrangedwhat suppose would cause atom lose electronnational standard benchmark science literacy 4dh1 atom made positively charged nucleus surrounded negatively charged electronsthe nucleus composed proton neutron roughly mass differ proton positively charged neutron electric charge snb op15 take 5 bullet note scroll click launch complete activity\"\n",
    "b=\"element shell k l n p 2 ne 2 8 ar 2 8 8 kr 2 8 18 8 xe 2 8 18 18 8 rn 2 8 18 32 18 8 octet rule atom form ion combine compound obtain electron configuration nearest noble gas usually mean 8 outer electronsthe octet rule ion formation stated atom form ion seek electron configuration like nearest noble gasnearest refers number representative element element noble gasthere three way illustrate this q5 use three method chemical reaction equation br diagram lewis diagram show bond form between li cl mg follow octet rule 2e 8e 1e 11p 12n0 7e 8e 2e 17p 18n0 1e 2e 8e 11p 12n0 8e 8e 2e 17p 18n0 ionic bonding involves formation ion metal lose electron become positive ion nonmetal gain electron become negative ionslets look bond formed h f bohrrutherford 9p 10n0 9p 10n0 1p 0n0 1p 0n0 lewis diagram notice h f share electron able complete outer shell read text additional instruction learning objective necessary\"\n",
    "c=\"atom number proton different number neutron called the neutral atom isotope element stuck step confusedto made mistake twovideo nuclear chemistry nuclear change nuclear reaction scientist atomic model atomic description bohr isotope notation proton neutron electron 164 dy summary page 3 5ms print take note notebook using main topic shown aligned cornell note\""
   ]
  },
  {
   "cell_type": "code",
   "execution_count": null,
   "metadata": {},
   "outputs": [],
   "source": []
  }
 ],
 "metadata": {
  "kernelspec": {
   "display_name": "Python 3",
   "language": "python",
   "name": "python3"
  },
  "language_info": {
   "codemirror_mode": {
    "name": "ipython",
    "version": 3
   },
   "file_extension": ".py",
   "mimetype": "text/x-python",
   "name": "python",
   "nbconvert_exporter": "python",
   "pygments_lexer": "ipython3",
   "version": "3.6.6"
  }
 },
 "nbformat": 4,
 "nbformat_minor": 2
}
