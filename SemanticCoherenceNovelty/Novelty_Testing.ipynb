{
 "cells": [
  {
   "cell_type": "code",
   "execution_count": 2,
   "metadata": {},
   "outputs": [],
   "source": [
    "import os\n",
    "import util\n",
    "import pandas as pd\n",
    "import numpy as np\n",
    "import matplotlib.pyplot as plt\n",
    "import os\n",
    "import re\n",
    "from numpy import linalg as LA\n",
    "import random\n",
    "import os.path,subprocess\n",
    "import time"
   ]
  },
  {
   "cell_type": "code",
   "execution_count": 3,
   "metadata": {},
   "outputs": [],
   "source": [
    "# loading the model\n",
    "df = util.get_processed_data(\"./../data/collections_math.csv\", False)\n",
    "collections = util.get_collections(df)"
   ]
  },
  {
   "cell_type": "code",
   "execution_count": 4,
   "metadata": {},
   "outputs": [],
   "source": [
    "def getNoveltySC(text1,text2):\n",
    "    cmd =['java','-jar','NoveltySemanticCoherence.jar','SinglePair',text1,text2]\n",
    "    subprocess.call(cmd)\n",
    "    f = open(\"./data/pairwise/singlepairwise\", \"r\")\n",
    "    sc =float(f.readline()) \n",
    "    nv = float(f.readline())\n",
    "    return sc,nv"
   ]
  },
  {
   "cell_type": "code",
   "execution_count": 5,
   "metadata": {},
   "outputs": [],
   "source": [
    "# df[\"collection_id\"].unique()"
   ]
  },
  {
   "cell_type": "code",
   "execution_count": 5,
   "metadata": {},
   "outputs": [],
   "source": [
    "def novelty_testing(col_id):\n",
    "    test = df[df[\"collection_id\"]==col_id]\n",
    "    test = test.sort_values(by=[\"sequence_id\"])\n",
    "    temp = test.text\n",
    "    texts = [] \n",
    "    for i in temp :\n",
    "        texts.append(i)\n",
    "    adjacent = []\n",
    "    \n",
    "    for i in range(0,len(texts)-1):\n",
    "        adjacent.append(getNoveltySC(texts[i],texts[i+1]))\n",
    "\n",
    "    non_adjacent_one = []    \n",
    "    for i in range (0,len(texts)-2):\n",
    "        non_adjacent_one.append(getNoveltySC(texts[i],texts[i+2]))\n",
    "\n",
    "    non_adjacent_two = []    \n",
    "    for i in range(0,len(texts) -3):\n",
    "        non_adjacent_two.append(getNoveltySC(texts[i],texts[i+3]))\n",
    "\n",
    "    return adjacent,non_adjacent_one,non_adjacent_two"
   ]
  },
  {
   "cell_type": "code",
   "execution_count": 7,
   "metadata": {},
   "outputs": [
    {
     "ename": "TypeError",
     "evalue": "write() argument must be str, not list",
     "output_type": "error",
     "traceback": [
      "\u001b[0;31m---------------------------------------------------------------------------\u001b[0m",
      "\u001b[0;31mTypeError\u001b[0m                                 Traceback (most recent call last)",
      "\u001b[0;32m<ipython-input-7-ef4b9df44402>\u001b[0m in \u001b[0;36m<module>\u001b[0;34m()\u001b[0m\n\u001b[1;32m     11\u001b[0m \u001b[0;34m\u001b[0m\u001b[0m\n\u001b[1;32m     12\u001b[0m \u001b[0mf\u001b[0m\u001b[0;34m.\u001b[0m\u001b[0mwrite\u001b[0m\u001b[0;34m(\u001b[0m\u001b[0;34m\"---------------------------------\"\u001b[0m\u001b[0;34m)\u001b[0m\u001b[0;34m\u001b[0m\u001b[0m\n\u001b[0;32m---> 13\u001b[0;31m \u001b[0mf\u001b[0m\u001b[0;34m.\u001b[0m\u001b[0mwrite\u001b[0m\u001b[0;34m(\u001b[0m\u001b[0madj\u001b[0m\u001b[0;34m)\u001b[0m\u001b[0;34m\u001b[0m\u001b[0m\n\u001b[0m\u001b[1;32m     14\u001b[0m \u001b[0mf\u001b[0m\u001b[0;34m.\u001b[0m\u001b[0mwrite\u001b[0m\u001b[0;34m(\u001b[0m\u001b[0;34m\"---------------------------------\"\u001b[0m\u001b[0;34m)\u001b[0m\u001b[0;34m\u001b[0m\u001b[0m\n\u001b[1;32m     15\u001b[0m \u001b[0mf\u001b[0m\u001b[0;34m.\u001b[0m\u001b[0mwrite\u001b[0m\u001b[0;34m(\u001b[0m\u001b[0mnadj1\u001b[0m\u001b[0;34m)\u001b[0m\u001b[0;34m\u001b[0m\u001b[0m\n",
      "\u001b[0;31mTypeError\u001b[0m: write() argument must be str, not list"
     ]
    }
   ],
   "source": [
    "adj,nadj1,nadj2 = novelty_testing(\"001bf2c6-8ede-478a-9b8b-d7750488cb1b\")\n",
    "test = df[df[\"collection_id\"]==\"001bf2c6-8ede-478a-9b8b-d7750488cb1b\"]\n",
    "test = test.sort_values(by=[\"sequence_id\"])\n",
    "temp = test.text\n",
    "\n",
    "f = open(\"./../001bf2c6-8ede-478a-9b8b-d7750488cb1b.txt\", \"w\")\n",
    "\n",
    "for i in temp :\n",
    "        f.write(\"\\n---------------------------------\\n\")\n",
    "        f.write(i)\n",
    "f.write(\"\\n---------------------------------\\n\")\n",
    "f.write(str(adj))\n",
    "f.write(\"\\n---------------------------------\\n\")\n",
    "f.write(str(nadj1))\n",
    "f.write(\"\\n---------------------------------\\n\")\n",
    "f.write(str(nadj2))\n",
    "f.close()\n"
   ]
  },
  {
   "cell_type": "code",
   "execution_count": 19,
   "metadata": {},
   "outputs": [],
   "source": [
    "adj,nadj1,nadj2 = novelty_testing(\"ffea9e8f-65e1-4731-bebb-140174f60cda\")\n",
    "test = df[df[\"collection_id\"]==\"ffea9e8f-65e1-4731-bebb-140174f60cda\"]\n",
    "test = test.sort_values(by=[\"sequence_id\"])\n",
    "temp = test.text\n",
    "\n",
    "f = open(\"./../ffea9e8f-65e1-4731-bebb-140174f60cda.txt\", \"w\")\n",
    "\n",
    "for i in temp :\n",
    "        f.write(\"\\n---------------------------------\\n\")\n",
    "        f.write(i)\n",
    "f.write(\"\\n---------------------------------\\n\")\n",
    "f.write(str(adj))\n",
    "f.write(\"\\n---------------------------------\\n\")\n",
    "f.write(str(nadj1))\n",
    "f.write(\"\\n---------------------------------\\n\")\n",
    "f.write(str(nadj2))\n",
    "f.close()\n"
   ]
  },
  {
   "cell_type": "code",
   "execution_count": 20,
   "metadata": {},
   "outputs": [],
   "source": [
    "adj,nadj1,nadj2 = novelty_testing(\"fff795b2-263c-48cb-8f93-74693e8c9c58\")\n",
    "test = df[df[\"collection_id\"]==\"fff795b2-263c-48cb-8f93-74693e8c9c58\"]\n",
    "test = test.sort_values(by=[\"sequence_id\"])\n",
    "temp = test.text\n",
    "\n",
    "f = open(\"./../fff795b2-263c-48cb-8f93-74693e8c9c58.txt\", \"w\")\n",
    "\n",
    "for i in temp :\n",
    "        f.write(\"\\n---------------------------------\\n\")\n",
    "        f.write(i)\n",
    "f.write(\"\\n---------------------------------\\n\")\n",
    "f.write(str(adj))\n",
    "f.write(\"\\n---------------------------------\\n\")\n",
    "f.write(str(nadj1))\n",
    "f.write(\"\\n---------------------------------\\n\")\n",
    "f.write(str(nadj2))\n",
    "f.close()\n"
   ]
  },
  {
   "cell_type": "code",
   "execution_count": 21,
   "metadata": {},
   "outputs": [],
   "source": [
    "adj,nadj1,nadj2 = novelty_testing(\"001bf2c6-8ede-478a-9b8b-d7750488cb1b\")\n",
    "test = df[df[\"collection_id\"]==\"001bf2c6-8ede-478a-9b8b-d7750488cb1b\"]\n",
    "test = test.sort_values(by=[\"sequence_id\"])\n",
    "temp = test.text\n",
    "\n",
    "f = open(\"001bf2c6-8ede-478a-9b8b-d7750488cb1b.txt\", \"w\")\n",
    "\n",
    "for i in temp :\n",
    "        f.write(\"\\n---------------------------------\\n\")\n",
    "        f.write(i)\n",
    "f.write(\"\\n---------------------------------\\n\")\n",
    "f.write(str(adj))\n",
    "f.write(\"\\n---------------------------------\\n\")\n",
    "f.write(str(nadj1))\n",
    "f.write(\"\\n---------------------------------\\n\")\n",
    "f.write(str(nadj2))\n",
    "f.close()\n"
   ]
  },
  {
   "cell_type": "code",
   "execution_count": 22,
   "metadata": {},
   "outputs": [],
   "source": [
    "adj,nadj1,nadj2 = novelty_testing(\"00209d65-4e2f-4649-be25-c4731794be6f\")\n",
    "test = df[df[\"collection_id\"]==\"001bf2c6-8ede-478a-9b8b-d7750488cb1b\"]\n",
    "test = test.sort_values(by=[\"sequence_id\"])\n",
    "temp = test.text\n",
    "\n",
    "f = open(\"./../001bf2c6-8ede-478a-9b8b-d7750488cb1b.txt\", \"w\")\n",
    "\n",
    "for i in temp :\n",
    "        f.write(\"\\n---------------------------------\\n\")\n",
    "        f.write(i)\n",
    "f.write(\"\\n---------------------------------\\n\")\n",
    "f.write(str(adj))\n",
    "f.write(\"\\n---------------------------------\\n\")\n",
    "f.write(str(nadj1))\n",
    "f.write(\"\\n---------------------------------\\n\")\n",
    "f.write(str(nadj2))\n",
    "f.close()\n"
   ]
  },
  {
   "cell_type": "code",
   "execution_count": 6,
   "metadata": {
    "scrolled": false
   },
   "outputs": [],
   "source": [
    "random_sample = df.text.sample(n = 10)\n",
    "texts = []\n",
    "\n",
    "\n",
    "f = open(\"./../random_collection.txt\", \"w\")\n",
    "\n",
    "for i in random_sample:\n",
    "    f.write(\"\\n---------------------------------------------\\n\")\n",
    "    f.write(i)\n",
    "    texts.append(i)\n",
    "\n",
    "adjacent = []\n",
    "for i in range(0,len(texts)-1):\n",
    "    adjacent.append(getNoveltySC(texts[i],texts[i+1])[1])\n",
    "\n",
    "non_adjacent = []    \n",
    "for i in range (0,len(texts)-2):\n",
    "    non_adjacent.append(getNoveltySC(texts[i],texts[i+2])[1])\n",
    "\n",
    "non_adjacent1 = []    \n",
    "for i in range (0,len(texts)-3):\n",
    "    non_adjacent1.append(getNoveltySC(texts[i],texts[i+3])[1])\n",
    "\n",
    "f.write(\"\\n--------------------------------------------------\\n\")\n",
    "f.write(str(adjacent))\n",
    "f.write(\"\\n--------------------------------------------------\\n\")\n",
    "f.write(str(non_adjacent))\n",
    "f.write(\"\\n--------------------------------------------------\\n\")\n",
    "f.write(str(non_adjacent1))\n",
    "f.close()"
   ]
  },
  {
   "cell_type": "code",
   "execution_count": null,
   "metadata": {},
   "outputs": [],
   "source": [
    "a=\"Lesson I ll say an addition or subtraction sentence You say the answer sevenths seventh\"\n",
    "b=\"Lesson I ll say an addition or subtraction sentence You say the answer sevenths seventh\"\n",
    "c = \"Adding and Subtracting Fractions with Like Units This fluency activity reviews adding and subtracting like units mentally\"\n",
    "sc1,nv1 = getNoveltySC(a,b)\n",
    "sc2,nv2 = getNoveltySC(a,c)"
   ]
  },
  {
   "cell_type": "code",
   "execution_count": null,
   "metadata": {},
   "outputs": [],
   "source": [
    "print(nv1,nv2)"
   ]
  },
  {
   "cell_type": "code",
   "execution_count": null,
   "metadata": {},
   "outputs": [],
   "source": []
  }
 ],
 "metadata": {
  "kernelspec": {
   "display_name": "Python 3",
   "language": "python",
   "name": "python3"
  },
  "language_info": {
   "codemirror_mode": {
    "name": "ipython",
    "version": 3
   },
   "file_extension": ".py",
   "mimetype": "text/x-python",
   "name": "python",
   "nbconvert_exporter": "python",
   "pygments_lexer": "ipython3",
   "version": "3.6.6"
  }
 },
 "nbformat": 4,
 "nbformat_minor": 2
}
