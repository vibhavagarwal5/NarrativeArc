{
 "cells": [
  {
   "cell_type": "code",
   "execution_count": 2,
   "metadata": {},
   "outputs": [],
   "source": [
    "# importing required modules\n",
    "\n",
    "import os\n",
    "import util\n",
    "import pandas as pd\n",
    "import numpy as np\n",
    "import matplotlib.pyplot as plt\n",
    "import os\n",
    "import re\n",
    "from numpy import linalg as LA\n",
    "import random\n",
    "import os.path,subprocess\n",
    "import time"
   ]
  },
  {
   "cell_type": "code",
   "execution_count": 3,
   "metadata": {},
   "outputs": [],
   "source": [
    "# loading the model\n",
    "df = util.get_processed_data(\"./../data/collections_math.csv\", False)\n",
    "collections = util.get_collections(df)"
   ]
  },
  {
   "cell_type": "code",
   "execution_count": 4,
   "metadata": {},
   "outputs": [],
   "source": [
    "#  function to get SC and NV scores\n",
    "def getNoveltySC(text1,text2):\n",
    "    cmd =['java','-jar','NoveltySemanticCoherence.jar','SinglePair',text1,text2]\n",
    "    subprocess.call(cmd)\n",
    "    f = open(\"./data/pairwise/singlepairwise\", \"r\")\n",
    "    sc =float(f.readline()) \n",
    "    nv = float(f.readline())\n",
    "    return sc,nv"
   ]
  },
  {
   "cell_type": "code",
   "execution_count": 5,
   "metadata": {},
   "outputs": [],
   "source": [
    "# df[\"collection_id\"].unique()"
   ]
  },
  {
   "cell_type": "code",
   "execution_count": 5,
   "metadata": {},
   "outputs": [],
   "source": [
    "# novelty testing function which takes an collection id as input and test on that collection \n",
    "\n",
    "def novelty_testing(col_id):\n",
    "    test = df[df[\"collection_id\"]==col_id]\n",
    "    test = test.sort_values(by=[\"sequence_id\"])\n",
    "    temp = test.text\n",
    "    texts = [] \n",
    "    for i in temp :\n",
    "        texts.append(i)\n",
    "    adjacent = []\n",
    "    \n",
    "    for i in range(0,len(texts)-1):\n",
    "        adjacent.append(getNoveltySC(texts[i],texts[i+1]))\n",
    "\n",
    "    non_adjacent_one = []    \n",
    "    for i in range (0,len(texts)-2):\n",
    "        non_adjacent_one.append(getNoveltySC(texts[i],texts[i+2]))\n",
    "\n",
    "    non_adjacent_two = []    \n",
    "    for i in range(0,len(texts) -3):\n",
    "        non_adjacent_two.append(getNoveltySC(texts[i],texts[i+3]))\n",
    "\n",
    "    return adjacent,non_adjacent_one,non_adjacent_two"
   ]
  },
  {
   "cell_type": "code",
   "execution_count": 1,
   "metadata": {},
   "outputs": [],
   "source": [
    "#  testing on a valid collection and writing the scores into a file\n",
    "\n",
    "adj,nadj1,nadj2 = novelty_testing(\"001bf2c6-8ede-478a-9b8b-d7750488cb1b\")\n",
    "test = df[df[\"collection_id\"]==\"001bf2c6-8ede-478a-9b8b-d7750488cb1b\"]\n",
    "test = test.sort_values(by=[\"sequence_id\"])\n",
    "temp = test.text\n",
    "\n",
    "f = open(\"./../001bf2c6-8ede-478a-9b8b-d7750488cb1b.txt\", \"w\")\n",
    "\n",
    "for i in temp :\n",
    "        f.write(\"\\n---------------------------------\\n\")\n",
    "        f.write(i)\n",
    "f.write(\"\\n---------------------------------\\n\")\n",
    "f.write(str(adj))\n",
    "f.write(\"\\n---------------------------------\\n\")\n",
    "f.write(str(nadj1))\n",
    "f.write(\"\\n---------------------------------\\n\")\n",
    "f.write(str(nadj2))\n",
    "f.close()\n"
   ]
  },
  {
   "cell_type": "code",
   "execution_count": 6,
   "metadata": {
    "scrolled": false
   },
   "outputs": [],
   "source": [
    "#  generating an incvalid collection and test on it and writing the scores into a file\n",
    "\n",
    "random_sample = df.text.sample(n = 10)\n",
    "texts = []\n",
    "\n",
    "\n",
    "f = open(\"./../random_collection.txt\", \"w\")\n",
    "\n",
    "for i in random_sample:\n",
    "    f.write(\"\\n---------------------------------------------\\n\")\n",
    "    f.write(i)\n",
    "    texts.append(i)\n",
    "\n",
    "adjacent = []\n",
    "for i in range(0,len(texts)-1):\n",
    "    adjacent.append(getNoveltySC(texts[i],texts[i+1])[1])\n",
    "\n",
    "non_adjacent = []    \n",
    "for i in range (0,len(texts)-2):\n",
    "    non_adjacent.append(getNoveltySC(texts[i],texts[i+2])[1])\n",
    "\n",
    "non_adjacent1 = []    \n",
    "for i in range (0,len(texts)-3):\n",
    "    non_adjacent1.append(getNoveltySC(texts[i],texts[i+3])[1])\n",
    "\n",
    "f.write(\"\\n--------------------------------------------------\\n\")\n",
    "f.write(str(adjacent))\n",
    "f.write(\"\\n--------------------------------------------------\\n\")\n",
    "f.write(str(non_adjacent))\n",
    "f.write(\"\\n--------------------------------------------------\\n\")\n",
    "f.write(str(non_adjacent1))\n",
    "f.close()"
   ]
  },
  {
   "cell_type": "code",
   "execution_count": null,
   "metadata": {},
   "outputs": [],
   "source": []
  }
 ],
 "metadata": {
  "kernelspec": {
   "display_name": "Python 3",
   "language": "python",
   "name": "python3"
  },
  "language_info": {
   "codemirror_mode": {
    "name": "ipython",
    "version": 3
   },
   "file_extension": ".py",
   "mimetype": "text/x-python",
   "name": "python",
   "nbconvert_exporter": "python",
   "pygments_lexer": "ipython3",
   "version": "3.6.6"
  }
 },
 "nbformat": 4,
 "nbformat_minor": 2
}
